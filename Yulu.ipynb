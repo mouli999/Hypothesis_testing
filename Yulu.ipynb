{
  "nbformat": 4,
  "nbformat_minor": 0,
  "metadata": {
    "colab": {
      "provenance": []
    },
    "kernelspec": {
      "name": "python3",
      "display_name": "Python 3"
    },
    "language_info": {
      "name": "python"
    }
  },
  "cells": [
    {
      "cell_type": "code",
      "execution_count": null,
      "metadata": {
        "id": "jEuz5h4bqfqo"
      },
      "outputs": [],
      "source": [
        "import numpy as np\n",
        "import pandas as pd\n",
        "import matplotlib.pyplot as plt\n"
      ]
    },
    {
      "cell_type": "code",
      "source": [
        "def calculate_probability(M, V, W):\n",
        "  \"\"\"\n",
        "  Code\n",
        "  \"\"\"\n",
        "  import math\n",
        "  \n",
        "  denom=math.sqrt(2*math.pi*V**2)\n",
        "  numer1=(W-M)*(W-M)/(2*V**2)\n",
        "  numer=math.exp(-(numer1))\n",
        "  ans=numer/denom\n",
        "  return ans"
      ],
      "metadata": {
        "id": "mFXLwaNbJKpI"
      },
      "execution_count": null,
      "outputs": []
    },
    {
      "cell_type": "code",
      "source": [
        "calculate_probability(42,19.5,46)"
      ],
      "metadata": {
        "colab": {
          "base_uri": "https://localhost:8080/"
        },
        "id": "LmRzdZDRJf45",
        "outputId": "609e7129-ee35-4aa4-b79b-63990285aed4"
      },
      "execution_count": null,
      "outputs": [
        {
          "output_type": "execute_result",
          "data": {
            "text/plain": [
              "0.020032650950827246"
            ]
          },
          "metadata": {},
          "execution_count": 5
        }
      ]
    },
    {
      "cell_type": "code",
      "source": [
        "norm.cdf()"
      ],
      "metadata": {
        "id": "C73DjUJoKNFK"
      },
      "execution_count": null,
      "outputs": []
    },
    {
      "cell_type": "code",
      "source": [
        "yulu_df=pd.read_excel('/content/drive/MyDrive/Colab Notebooks/DS & ML/Projects/4.Yulu/Yulu.xlsx')"
      ],
      "metadata": {
        "id": "Bh1-a5XmrIgR"
      },
      "execution_count": null,
      "outputs": []
    },
    {
      "cell_type": "code",
      "source": [
        "yulu_df"
      ],
      "metadata": {
        "colab": {
          "base_uri": "https://localhost:8080/",
          "height": 424
        },
        "id": "edEZfD0GrMD0",
        "outputId": "f15c3dc6-ffd9-4337-b2d8-77872da45f87"
      },
      "execution_count": null,
      "outputs": [
        {
          "output_type": "execute_result",
          "data": {
            "text/plain": [
              "                 datetime  season  holiday  workingday  weather   temp  \\\n",
              "0     2011-01-01 00:00:00       1        0           0        1   9.84   \n",
              "1     2011-01-01 01:00:00       1        0           0        1   9.02   \n",
              "2     2011-01-01 02:00:00       1        0           0        1   9.02   \n",
              "3     2011-01-01 03:00:00       1        0           0        1   9.84   \n",
              "4     2011-01-01 04:00:00       1        0           0        1   9.84   \n",
              "...                   ...     ...      ...         ...      ...    ...   \n",
              "10881 2012-12-19 19:00:00       4        0           1        1  15.58   \n",
              "10882 2012-12-19 20:00:00       4        0           1        1  14.76   \n",
              "10883 2012-12-19 21:00:00       4        0           1        1  13.94   \n",
              "10884 2012-12-19 22:00:00       4        0           1        1  13.94   \n",
              "10885 2012-12-19 23:00:00       4        0           1        1  13.12   \n",
              "\n",
              "        atemp  humidity  windspeed  casual  registered  count  \n",
              "0      14.395        81     0.0000       3          13     16  \n",
              "1      13.635        80     0.0000       8          32     40  \n",
              "2      13.635        80     0.0000       5          27     32  \n",
              "3      14.395        75     0.0000       3          10     13  \n",
              "4      14.395        75     0.0000       0           1      1  \n",
              "...       ...       ...        ...     ...         ...    ...  \n",
              "10881  19.695        50    26.0027       7         329    336  \n",
              "10882  17.425        57    15.0013      10         231    241  \n",
              "10883  15.910        61    15.0013       4         164    168  \n",
              "10884  17.425        61     6.0032      12         117    129  \n",
              "10885  16.665        66     8.9981       4          84     88  \n",
              "\n",
              "[10886 rows x 12 columns]"
            ],
            "text/html": [
              "\n",
              "  <div id=\"df-d978619f-ee4a-4b29-b54d-555da838bed0\">\n",
              "    <div class=\"colab-df-container\">\n",
              "      <div>\n",
              "<style scoped>\n",
              "    .dataframe tbody tr th:only-of-type {\n",
              "        vertical-align: middle;\n",
              "    }\n",
              "\n",
              "    .dataframe tbody tr th {\n",
              "        vertical-align: top;\n",
              "    }\n",
              "\n",
              "    .dataframe thead th {\n",
              "        text-align: right;\n",
              "    }\n",
              "</style>\n",
              "<table border=\"1\" class=\"dataframe\">\n",
              "  <thead>\n",
              "    <tr style=\"text-align: right;\">\n",
              "      <th></th>\n",
              "      <th>datetime</th>\n",
              "      <th>season</th>\n",
              "      <th>holiday</th>\n",
              "      <th>workingday</th>\n",
              "      <th>weather</th>\n",
              "      <th>temp</th>\n",
              "      <th>atemp</th>\n",
              "      <th>humidity</th>\n",
              "      <th>windspeed</th>\n",
              "      <th>casual</th>\n",
              "      <th>registered</th>\n",
              "      <th>count</th>\n",
              "    </tr>\n",
              "  </thead>\n",
              "  <tbody>\n",
              "    <tr>\n",
              "      <th>0</th>\n",
              "      <td>2011-01-01 00:00:00</td>\n",
              "      <td>1</td>\n",
              "      <td>0</td>\n",
              "      <td>0</td>\n",
              "      <td>1</td>\n",
              "      <td>9.84</td>\n",
              "      <td>14.395</td>\n",
              "      <td>81</td>\n",
              "      <td>0.0000</td>\n",
              "      <td>3</td>\n",
              "      <td>13</td>\n",
              "      <td>16</td>\n",
              "    </tr>\n",
              "    <tr>\n",
              "      <th>1</th>\n",
              "      <td>2011-01-01 01:00:00</td>\n",
              "      <td>1</td>\n",
              "      <td>0</td>\n",
              "      <td>0</td>\n",
              "      <td>1</td>\n",
              "      <td>9.02</td>\n",
              "      <td>13.635</td>\n",
              "      <td>80</td>\n",
              "      <td>0.0000</td>\n",
              "      <td>8</td>\n",
              "      <td>32</td>\n",
              "      <td>40</td>\n",
              "    </tr>\n",
              "    <tr>\n",
              "      <th>2</th>\n",
              "      <td>2011-01-01 02:00:00</td>\n",
              "      <td>1</td>\n",
              "      <td>0</td>\n",
              "      <td>0</td>\n",
              "      <td>1</td>\n",
              "      <td>9.02</td>\n",
              "      <td>13.635</td>\n",
              "      <td>80</td>\n",
              "      <td>0.0000</td>\n",
              "      <td>5</td>\n",
              "      <td>27</td>\n",
              "      <td>32</td>\n",
              "    </tr>\n",
              "    <tr>\n",
              "      <th>3</th>\n",
              "      <td>2011-01-01 03:00:00</td>\n",
              "      <td>1</td>\n",
              "      <td>0</td>\n",
              "      <td>0</td>\n",
              "      <td>1</td>\n",
              "      <td>9.84</td>\n",
              "      <td>14.395</td>\n",
              "      <td>75</td>\n",
              "      <td>0.0000</td>\n",
              "      <td>3</td>\n",
              "      <td>10</td>\n",
              "      <td>13</td>\n",
              "    </tr>\n",
              "    <tr>\n",
              "      <th>4</th>\n",
              "      <td>2011-01-01 04:00:00</td>\n",
              "      <td>1</td>\n",
              "      <td>0</td>\n",
              "      <td>0</td>\n",
              "      <td>1</td>\n",
              "      <td>9.84</td>\n",
              "      <td>14.395</td>\n",
              "      <td>75</td>\n",
              "      <td>0.0000</td>\n",
              "      <td>0</td>\n",
              "      <td>1</td>\n",
              "      <td>1</td>\n",
              "    </tr>\n",
              "    <tr>\n",
              "      <th>...</th>\n",
              "      <td>...</td>\n",
              "      <td>...</td>\n",
              "      <td>...</td>\n",
              "      <td>...</td>\n",
              "      <td>...</td>\n",
              "      <td>...</td>\n",
              "      <td>...</td>\n",
              "      <td>...</td>\n",
              "      <td>...</td>\n",
              "      <td>...</td>\n",
              "      <td>...</td>\n",
              "      <td>...</td>\n",
              "    </tr>\n",
              "    <tr>\n",
              "      <th>10881</th>\n",
              "      <td>2012-12-19 19:00:00</td>\n",
              "      <td>4</td>\n",
              "      <td>0</td>\n",
              "      <td>1</td>\n",
              "      <td>1</td>\n",
              "      <td>15.58</td>\n",
              "      <td>19.695</td>\n",
              "      <td>50</td>\n",
              "      <td>26.0027</td>\n",
              "      <td>7</td>\n",
              "      <td>329</td>\n",
              "      <td>336</td>\n",
              "    </tr>\n",
              "    <tr>\n",
              "      <th>10882</th>\n",
              "      <td>2012-12-19 20:00:00</td>\n",
              "      <td>4</td>\n",
              "      <td>0</td>\n",
              "      <td>1</td>\n",
              "      <td>1</td>\n",
              "      <td>14.76</td>\n",
              "      <td>17.425</td>\n",
              "      <td>57</td>\n",
              "      <td>15.0013</td>\n",
              "      <td>10</td>\n",
              "      <td>231</td>\n",
              "      <td>241</td>\n",
              "    </tr>\n",
              "    <tr>\n",
              "      <th>10883</th>\n",
              "      <td>2012-12-19 21:00:00</td>\n",
              "      <td>4</td>\n",
              "      <td>0</td>\n",
              "      <td>1</td>\n",
              "      <td>1</td>\n",
              "      <td>13.94</td>\n",
              "      <td>15.910</td>\n",
              "      <td>61</td>\n",
              "      <td>15.0013</td>\n",
              "      <td>4</td>\n",
              "      <td>164</td>\n",
              "      <td>168</td>\n",
              "    </tr>\n",
              "    <tr>\n",
              "      <th>10884</th>\n",
              "      <td>2012-12-19 22:00:00</td>\n",
              "      <td>4</td>\n",
              "      <td>0</td>\n",
              "      <td>1</td>\n",
              "      <td>1</td>\n",
              "      <td>13.94</td>\n",
              "      <td>17.425</td>\n",
              "      <td>61</td>\n",
              "      <td>6.0032</td>\n",
              "      <td>12</td>\n",
              "      <td>117</td>\n",
              "      <td>129</td>\n",
              "    </tr>\n",
              "    <tr>\n",
              "      <th>10885</th>\n",
              "      <td>2012-12-19 23:00:00</td>\n",
              "      <td>4</td>\n",
              "      <td>0</td>\n",
              "      <td>1</td>\n",
              "      <td>1</td>\n",
              "      <td>13.12</td>\n",
              "      <td>16.665</td>\n",
              "      <td>66</td>\n",
              "      <td>8.9981</td>\n",
              "      <td>4</td>\n",
              "      <td>84</td>\n",
              "      <td>88</td>\n",
              "    </tr>\n",
              "  </tbody>\n",
              "</table>\n",
              "<p>10886 rows × 12 columns</p>\n",
              "</div>\n",
              "      <button class=\"colab-df-convert\" onclick=\"convertToInteractive('df-d978619f-ee4a-4b29-b54d-555da838bed0')\"\n",
              "              title=\"Convert this dataframe to an interactive table.\"\n",
              "              style=\"display:none;\">\n",
              "        \n",
              "  <svg xmlns=\"http://www.w3.org/2000/svg\" height=\"24px\"viewBox=\"0 0 24 24\"\n",
              "       width=\"24px\">\n",
              "    <path d=\"M0 0h24v24H0V0z\" fill=\"none\"/>\n",
              "    <path d=\"M18.56 5.44l.94 2.06.94-2.06 2.06-.94-2.06-.94-.94-2.06-.94 2.06-2.06.94zm-11 1L8.5 8.5l.94-2.06 2.06-.94-2.06-.94L8.5 2.5l-.94 2.06-2.06.94zm10 10l.94 2.06.94-2.06 2.06-.94-2.06-.94-.94-2.06-.94 2.06-2.06.94z\"/><path d=\"M17.41 7.96l-1.37-1.37c-.4-.4-.92-.59-1.43-.59-.52 0-1.04.2-1.43.59L10.3 9.45l-7.72 7.72c-.78.78-.78 2.05 0 2.83L4 21.41c.39.39.9.59 1.41.59.51 0 1.02-.2 1.41-.59l7.78-7.78 2.81-2.81c.8-.78.8-2.07 0-2.86zM5.41 20L4 18.59l7.72-7.72 1.47 1.35L5.41 20z\"/>\n",
              "  </svg>\n",
              "      </button>\n",
              "      \n",
              "  <style>\n",
              "    .colab-df-container {\n",
              "      display:flex;\n",
              "      flex-wrap:wrap;\n",
              "      gap: 12px;\n",
              "    }\n",
              "\n",
              "    .colab-df-convert {\n",
              "      background-color: #E8F0FE;\n",
              "      border: none;\n",
              "      border-radius: 50%;\n",
              "      cursor: pointer;\n",
              "      display: none;\n",
              "      fill: #1967D2;\n",
              "      height: 32px;\n",
              "      padding: 0 0 0 0;\n",
              "      width: 32px;\n",
              "    }\n",
              "\n",
              "    .colab-df-convert:hover {\n",
              "      background-color: #E2EBFA;\n",
              "      box-shadow: 0px 1px 2px rgba(60, 64, 67, 0.3), 0px 1px 3px 1px rgba(60, 64, 67, 0.15);\n",
              "      fill: #174EA6;\n",
              "    }\n",
              "\n",
              "    [theme=dark] .colab-df-convert {\n",
              "      background-color: #3B4455;\n",
              "      fill: #D2E3FC;\n",
              "    }\n",
              "\n",
              "    [theme=dark] .colab-df-convert:hover {\n",
              "      background-color: #434B5C;\n",
              "      box-shadow: 0px 1px 3px 1px rgba(0, 0, 0, 0.15);\n",
              "      filter: drop-shadow(0px 1px 2px rgba(0, 0, 0, 0.3));\n",
              "      fill: #FFFFFF;\n",
              "    }\n",
              "  </style>\n",
              "\n",
              "      <script>\n",
              "        const buttonEl =\n",
              "          document.querySelector('#df-d978619f-ee4a-4b29-b54d-555da838bed0 button.colab-df-convert');\n",
              "        buttonEl.style.display =\n",
              "          google.colab.kernel.accessAllowed ? 'block' : 'none';\n",
              "\n",
              "        async function convertToInteractive(key) {\n",
              "          const element = document.querySelector('#df-d978619f-ee4a-4b29-b54d-555da838bed0');\n",
              "          const dataTable =\n",
              "            await google.colab.kernel.invokeFunction('convertToInteractive',\n",
              "                                                     [key], {});\n",
              "          if (!dataTable) return;\n",
              "\n",
              "          const docLinkHtml = 'Like what you see? Visit the ' +\n",
              "            '<a target=\"_blank\" href=https://colab.research.google.com/notebooks/data_table.ipynb>data table notebook</a>'\n",
              "            + ' to learn more about interactive tables.';\n",
              "          element.innerHTML = '';\n",
              "          dataTable['output_type'] = 'display_data';\n",
              "          await google.colab.output.renderOutput(dataTable, element);\n",
              "          const docLink = document.createElement('div');\n",
              "          docLink.innerHTML = docLinkHtml;\n",
              "          element.appendChild(docLink);\n",
              "        }\n",
              "      </script>\n",
              "    </div>\n",
              "  </div>\n",
              "  "
            ]
          },
          "metadata": {},
          "execution_count": 26
        }
      ]
    },
    {
      "cell_type": "code",
      "source": [
        "yulu_df.info()"
      ],
      "metadata": {
        "colab": {
          "base_uri": "https://localhost:8080/"
        },
        "id": "pvya6IcQrNU_",
        "outputId": "547d5a8f-c742-4ca9-a05e-bda650165821"
      },
      "execution_count": null,
      "outputs": [
        {
          "output_type": "stream",
          "name": "stdout",
          "text": [
            "<class 'pandas.core.frame.DataFrame'>\n",
            "RangeIndex: 10886 entries, 0 to 10885\n",
            "Data columns (total 12 columns):\n",
            " #   Column      Non-Null Count  Dtype         \n",
            "---  ------      --------------  -----         \n",
            " 0   datetime    10886 non-null  datetime64[ns]\n",
            " 1   season      10886 non-null  int64         \n",
            " 2   holiday     10886 non-null  int64         \n",
            " 3   workingday  10886 non-null  int64         \n",
            " 4   weather     10886 non-null  int64         \n",
            " 5   temp        10886 non-null  float64       \n",
            " 6   atemp       10886 non-null  float64       \n",
            " 7   humidity    10886 non-null  int64         \n",
            " 8   windspeed   10886 non-null  float64       \n",
            " 9   casual      10886 non-null  int64         \n",
            " 10  registered  10886 non-null  int64         \n",
            " 11  count       10886 non-null  int64         \n",
            "dtypes: datetime64[ns](1), float64(3), int64(8)\n",
            "memory usage: 1020.7 KB\n"
          ]
        }
      ]
    },
    {
      "cell_type": "markdown",
      "source": [
        "## 1.Problem statement"
      ],
      "metadata": {
        "id": "CS4QUgtnwJFI"
      }
    },
    {
      "cell_type": "markdown",
      "source": [
        "**Yulu is facing dip in their revenues and there are many factors affecting their revenues. We have to find out which factors influences the demand and which factors actually decreases the demand so that yulu can plan the supply or availability of shared electric cycles and can increase their revenues or profits**"
      ],
      "metadata": {
        "id": "lNivIg-UwMDY"
      }
    },
    {
      "cell_type": "markdown",
      "source": [
        "###a. Shape of data,data types,statistical summary"
      ],
      "metadata": {
        "id": "fvP2-toOyuxU"
      }
    },
    {
      "cell_type": "code",
      "source": [
        "yulu_df.head()"
      ],
      "metadata": {
        "colab": {
          "base_uri": "https://localhost:8080/",
          "height": 206
        },
        "id": "phaLwDi-r4vA",
        "outputId": "09c2afa7-a27e-42ef-cd5c-7893a99b7ece"
      },
      "execution_count": null,
      "outputs": [
        {
          "output_type": "execute_result",
          "data": {
            "text/plain": [
              "             datetime  season  holiday  workingday  weather  temp   atemp  \\\n",
              "0 2011-01-01 00:00:00       1        0           0        1  9.84  14.395   \n",
              "1 2011-01-01 01:00:00       1        0           0        1  9.02  13.635   \n",
              "2 2011-01-01 02:00:00       1        0           0        1  9.02  13.635   \n",
              "3 2011-01-01 03:00:00       1        0           0        1  9.84  14.395   \n",
              "4 2011-01-01 04:00:00       1        0           0        1  9.84  14.395   \n",
              "\n",
              "   humidity  windspeed  casual  registered  count  \n",
              "0        81        0.0       3          13     16  \n",
              "1        80        0.0       8          32     40  \n",
              "2        80        0.0       5          27     32  \n",
              "3        75        0.0       3          10     13  \n",
              "4        75        0.0       0           1      1  "
            ],
            "text/html": [
              "\n",
              "  <div id=\"df-d1e4b31a-8998-4538-8225-5fe114ee4c57\">\n",
              "    <div class=\"colab-df-container\">\n",
              "      <div>\n",
              "<style scoped>\n",
              "    .dataframe tbody tr th:only-of-type {\n",
              "        vertical-align: middle;\n",
              "    }\n",
              "\n",
              "    .dataframe tbody tr th {\n",
              "        vertical-align: top;\n",
              "    }\n",
              "\n",
              "    .dataframe thead th {\n",
              "        text-align: right;\n",
              "    }\n",
              "</style>\n",
              "<table border=\"1\" class=\"dataframe\">\n",
              "  <thead>\n",
              "    <tr style=\"text-align: right;\">\n",
              "      <th></th>\n",
              "      <th>datetime</th>\n",
              "      <th>season</th>\n",
              "      <th>holiday</th>\n",
              "      <th>workingday</th>\n",
              "      <th>weather</th>\n",
              "      <th>temp</th>\n",
              "      <th>atemp</th>\n",
              "      <th>humidity</th>\n",
              "      <th>windspeed</th>\n",
              "      <th>casual</th>\n",
              "      <th>registered</th>\n",
              "      <th>count</th>\n",
              "    </tr>\n",
              "  </thead>\n",
              "  <tbody>\n",
              "    <tr>\n",
              "      <th>0</th>\n",
              "      <td>2011-01-01 00:00:00</td>\n",
              "      <td>1</td>\n",
              "      <td>0</td>\n",
              "      <td>0</td>\n",
              "      <td>1</td>\n",
              "      <td>9.84</td>\n",
              "      <td>14.395</td>\n",
              "      <td>81</td>\n",
              "      <td>0.0</td>\n",
              "      <td>3</td>\n",
              "      <td>13</td>\n",
              "      <td>16</td>\n",
              "    </tr>\n",
              "    <tr>\n",
              "      <th>1</th>\n",
              "      <td>2011-01-01 01:00:00</td>\n",
              "      <td>1</td>\n",
              "      <td>0</td>\n",
              "      <td>0</td>\n",
              "      <td>1</td>\n",
              "      <td>9.02</td>\n",
              "      <td>13.635</td>\n",
              "      <td>80</td>\n",
              "      <td>0.0</td>\n",
              "      <td>8</td>\n",
              "      <td>32</td>\n",
              "      <td>40</td>\n",
              "    </tr>\n",
              "    <tr>\n",
              "      <th>2</th>\n",
              "      <td>2011-01-01 02:00:00</td>\n",
              "      <td>1</td>\n",
              "      <td>0</td>\n",
              "      <td>0</td>\n",
              "      <td>1</td>\n",
              "      <td>9.02</td>\n",
              "      <td>13.635</td>\n",
              "      <td>80</td>\n",
              "      <td>0.0</td>\n",
              "      <td>5</td>\n",
              "      <td>27</td>\n",
              "      <td>32</td>\n",
              "    </tr>\n",
              "    <tr>\n",
              "      <th>3</th>\n",
              "      <td>2011-01-01 03:00:00</td>\n",
              "      <td>1</td>\n",
              "      <td>0</td>\n",
              "      <td>0</td>\n",
              "      <td>1</td>\n",
              "      <td>9.84</td>\n",
              "      <td>14.395</td>\n",
              "      <td>75</td>\n",
              "      <td>0.0</td>\n",
              "      <td>3</td>\n",
              "      <td>10</td>\n",
              "      <td>13</td>\n",
              "    </tr>\n",
              "    <tr>\n",
              "      <th>4</th>\n",
              "      <td>2011-01-01 04:00:00</td>\n",
              "      <td>1</td>\n",
              "      <td>0</td>\n",
              "      <td>0</td>\n",
              "      <td>1</td>\n",
              "      <td>9.84</td>\n",
              "      <td>14.395</td>\n",
              "      <td>75</td>\n",
              "      <td>0.0</td>\n",
              "      <td>0</td>\n",
              "      <td>1</td>\n",
              "      <td>1</td>\n",
              "    </tr>\n",
              "  </tbody>\n",
              "</table>\n",
              "</div>\n",
              "      <button class=\"colab-df-convert\" onclick=\"convertToInteractive('df-d1e4b31a-8998-4538-8225-5fe114ee4c57')\"\n",
              "              title=\"Convert this dataframe to an interactive table.\"\n",
              "              style=\"display:none;\">\n",
              "        \n",
              "  <svg xmlns=\"http://www.w3.org/2000/svg\" height=\"24px\"viewBox=\"0 0 24 24\"\n",
              "       width=\"24px\">\n",
              "    <path d=\"M0 0h24v24H0V0z\" fill=\"none\"/>\n",
              "    <path d=\"M18.56 5.44l.94 2.06.94-2.06 2.06-.94-2.06-.94-.94-2.06-.94 2.06-2.06.94zm-11 1L8.5 8.5l.94-2.06 2.06-.94-2.06-.94L8.5 2.5l-.94 2.06-2.06.94zm10 10l.94 2.06.94-2.06 2.06-.94-2.06-.94-.94-2.06-.94 2.06-2.06.94z\"/><path d=\"M17.41 7.96l-1.37-1.37c-.4-.4-.92-.59-1.43-.59-.52 0-1.04.2-1.43.59L10.3 9.45l-7.72 7.72c-.78.78-.78 2.05 0 2.83L4 21.41c.39.39.9.59 1.41.59.51 0 1.02-.2 1.41-.59l7.78-7.78 2.81-2.81c.8-.78.8-2.07 0-2.86zM5.41 20L4 18.59l7.72-7.72 1.47 1.35L5.41 20z\"/>\n",
              "  </svg>\n",
              "      </button>\n",
              "      \n",
              "  <style>\n",
              "    .colab-df-container {\n",
              "      display:flex;\n",
              "      flex-wrap:wrap;\n",
              "      gap: 12px;\n",
              "    }\n",
              "\n",
              "    .colab-df-convert {\n",
              "      background-color: #E8F0FE;\n",
              "      border: none;\n",
              "      border-radius: 50%;\n",
              "      cursor: pointer;\n",
              "      display: none;\n",
              "      fill: #1967D2;\n",
              "      height: 32px;\n",
              "      padding: 0 0 0 0;\n",
              "      width: 32px;\n",
              "    }\n",
              "\n",
              "    .colab-df-convert:hover {\n",
              "      background-color: #E2EBFA;\n",
              "      box-shadow: 0px 1px 2px rgba(60, 64, 67, 0.3), 0px 1px 3px 1px rgba(60, 64, 67, 0.15);\n",
              "      fill: #174EA6;\n",
              "    }\n",
              "\n",
              "    [theme=dark] .colab-df-convert {\n",
              "      background-color: #3B4455;\n",
              "      fill: #D2E3FC;\n",
              "    }\n",
              "\n",
              "    [theme=dark] .colab-df-convert:hover {\n",
              "      background-color: #434B5C;\n",
              "      box-shadow: 0px 1px 3px 1px rgba(0, 0, 0, 0.15);\n",
              "      filter: drop-shadow(0px 1px 2px rgba(0, 0, 0, 0.3));\n",
              "      fill: #FFFFFF;\n",
              "    }\n",
              "  </style>\n",
              "\n",
              "      <script>\n",
              "        const buttonEl =\n",
              "          document.querySelector('#df-d1e4b31a-8998-4538-8225-5fe114ee4c57 button.colab-df-convert');\n",
              "        buttonEl.style.display =\n",
              "          google.colab.kernel.accessAllowed ? 'block' : 'none';\n",
              "\n",
              "        async function convertToInteractive(key) {\n",
              "          const element = document.querySelector('#df-d1e4b31a-8998-4538-8225-5fe114ee4c57');\n",
              "          const dataTable =\n",
              "            await google.colab.kernel.invokeFunction('convertToInteractive',\n",
              "                                                     [key], {});\n",
              "          if (!dataTable) return;\n",
              "\n",
              "          const docLinkHtml = 'Like what you see? Visit the ' +\n",
              "            '<a target=\"_blank\" href=https://colab.research.google.com/notebooks/data_table.ipynb>data table notebook</a>'\n",
              "            + ' to learn more about interactive tables.';\n",
              "          element.innerHTML = '';\n",
              "          dataTable['output_type'] = 'display_data';\n",
              "          await google.colab.output.renderOutput(dataTable, element);\n",
              "          const docLink = document.createElement('div');\n",
              "          docLink.innerHTML = docLinkHtml;\n",
              "          element.appendChild(docLink);\n",
              "        }\n",
              "      </script>\n",
              "    </div>\n",
              "  </div>\n",
              "  "
            ]
          },
          "metadata": {},
          "execution_count": 29
        }
      ]
    },
    {
      "cell_type": "code",
      "source": [
        "yulu_df.shape"
      ],
      "metadata": {
        "colab": {
          "base_uri": "https://localhost:8080/"
        },
        "id": "f0fJE3DEycQW",
        "outputId": "81bd86a2-c180-4129-d292-a23bb9083973"
      },
      "execution_count": null,
      "outputs": [
        {
          "output_type": "execute_result",
          "data": {
            "text/plain": [
              "(10886, 12)"
            ]
          },
          "metadata": {},
          "execution_count": 30
        }
      ]
    },
    {
      "cell_type": "markdown",
      "source": [
        "There were a total of 10886 instances and 12 features. Out of 12 features 9 are independent features and 3 are dependent features and count is the sum of both casual and registered users"
      ],
      "metadata": {
        "id": "Q-a4r-tYyzEz"
      }
    },
    {
      "cell_type": "code",
      "source": [
        "print('The Unique values are:')\n",
        "for col in yulu_df.columns:\n",
        "  print(f\" {col} - '{(yulu_df[col].nunique())}'\")"
      ],
      "metadata": {
        "colab": {
          "base_uri": "https://localhost:8080/"
        },
        "id": "jccTf-6Myx6p",
        "outputId": "857cac2e-eadf-473d-f4d9-03ac574fd019"
      },
      "execution_count": null,
      "outputs": [
        {
          "output_type": "stream",
          "name": "stdout",
          "text": [
            "The Unique values are:\n",
            " datetime - '10886'\n",
            " season - '4'\n",
            " holiday - '2'\n",
            " workingday - '2'\n",
            " weather - '4'\n",
            " temp - '49'\n",
            " atemp - '60'\n",
            " humidity - '89'\n",
            " windspeed - '28'\n",
            " casual - '309'\n",
            " registered - '731'\n",
            " count - '822'\n"
          ]
        }
      ]
    },
    {
      "cell_type": "code",
      "source": [
        "categorical_columns=['season','holiday','workingday','weather']\n",
        "for i in categorical_columns:\n",
        "  yulu_df[i]=yulu_df[i].astype('category')"
      ],
      "metadata": {
        "id": "o8WYa00QWxfT"
      },
      "execution_count": null,
      "outputs": []
    },
    {
      "cell_type": "code",
      "source": [
        "yulu_df[categorical_columns]"
      ],
      "metadata": {
        "colab": {
          "base_uri": "https://localhost:8080/",
          "height": 424
        },
        "id": "EDysgGzlIUX-",
        "outputId": "390014f9-d6b2-4b79-8d21-4960069c789f"
      },
      "execution_count": null,
      "outputs": [
        {
          "output_type": "execute_result",
          "data": {
            "text/plain": [
              "      season holiday workingday weather\n",
              "0          1       0          0       1\n",
              "1          1       0          0       1\n",
              "2          1       0          0       1\n",
              "3          1       0          0       1\n",
              "4          1       0          0       1\n",
              "...      ...     ...        ...     ...\n",
              "10881      4       0          1       1\n",
              "10882      4       0          1       1\n",
              "10883      4       0          1       1\n",
              "10884      4       0          1       1\n",
              "10885      4       0          1       1\n",
              "\n",
              "[10886 rows x 4 columns]"
            ],
            "text/html": [
              "\n",
              "  <div id=\"df-33494525-a08d-4182-874b-d93513570276\">\n",
              "    <div class=\"colab-df-container\">\n",
              "      <div>\n",
              "<style scoped>\n",
              "    .dataframe tbody tr th:only-of-type {\n",
              "        vertical-align: middle;\n",
              "    }\n",
              "\n",
              "    .dataframe tbody tr th {\n",
              "        vertical-align: top;\n",
              "    }\n",
              "\n",
              "    .dataframe thead th {\n",
              "        text-align: right;\n",
              "    }\n",
              "</style>\n",
              "<table border=\"1\" class=\"dataframe\">\n",
              "  <thead>\n",
              "    <tr style=\"text-align: right;\">\n",
              "      <th></th>\n",
              "      <th>season</th>\n",
              "      <th>holiday</th>\n",
              "      <th>workingday</th>\n",
              "      <th>weather</th>\n",
              "    </tr>\n",
              "  </thead>\n",
              "  <tbody>\n",
              "    <tr>\n",
              "      <th>0</th>\n",
              "      <td>1</td>\n",
              "      <td>0</td>\n",
              "      <td>0</td>\n",
              "      <td>1</td>\n",
              "    </tr>\n",
              "    <tr>\n",
              "      <th>1</th>\n",
              "      <td>1</td>\n",
              "      <td>0</td>\n",
              "      <td>0</td>\n",
              "      <td>1</td>\n",
              "    </tr>\n",
              "    <tr>\n",
              "      <th>2</th>\n",
              "      <td>1</td>\n",
              "      <td>0</td>\n",
              "      <td>0</td>\n",
              "      <td>1</td>\n",
              "    </tr>\n",
              "    <tr>\n",
              "      <th>3</th>\n",
              "      <td>1</td>\n",
              "      <td>0</td>\n",
              "      <td>0</td>\n",
              "      <td>1</td>\n",
              "    </tr>\n",
              "    <tr>\n",
              "      <th>4</th>\n",
              "      <td>1</td>\n",
              "      <td>0</td>\n",
              "      <td>0</td>\n",
              "      <td>1</td>\n",
              "    </tr>\n",
              "    <tr>\n",
              "      <th>...</th>\n",
              "      <td>...</td>\n",
              "      <td>...</td>\n",
              "      <td>...</td>\n",
              "      <td>...</td>\n",
              "    </tr>\n",
              "    <tr>\n",
              "      <th>10881</th>\n",
              "      <td>4</td>\n",
              "      <td>0</td>\n",
              "      <td>1</td>\n",
              "      <td>1</td>\n",
              "    </tr>\n",
              "    <tr>\n",
              "      <th>10882</th>\n",
              "      <td>4</td>\n",
              "      <td>0</td>\n",
              "      <td>1</td>\n",
              "      <td>1</td>\n",
              "    </tr>\n",
              "    <tr>\n",
              "      <th>10883</th>\n",
              "      <td>4</td>\n",
              "      <td>0</td>\n",
              "      <td>1</td>\n",
              "      <td>1</td>\n",
              "    </tr>\n",
              "    <tr>\n",
              "      <th>10884</th>\n",
              "      <td>4</td>\n",
              "      <td>0</td>\n",
              "      <td>1</td>\n",
              "      <td>1</td>\n",
              "    </tr>\n",
              "    <tr>\n",
              "      <th>10885</th>\n",
              "      <td>4</td>\n",
              "      <td>0</td>\n",
              "      <td>1</td>\n",
              "      <td>1</td>\n",
              "    </tr>\n",
              "  </tbody>\n",
              "</table>\n",
              "<p>10886 rows × 4 columns</p>\n",
              "</div>\n",
              "      <button class=\"colab-df-convert\" onclick=\"convertToInteractive('df-33494525-a08d-4182-874b-d93513570276')\"\n",
              "              title=\"Convert this dataframe to an interactive table.\"\n",
              "              style=\"display:none;\">\n",
              "        \n",
              "  <svg xmlns=\"http://www.w3.org/2000/svg\" height=\"24px\"viewBox=\"0 0 24 24\"\n",
              "       width=\"24px\">\n",
              "    <path d=\"M0 0h24v24H0V0z\" fill=\"none\"/>\n",
              "    <path d=\"M18.56 5.44l.94 2.06.94-2.06 2.06-.94-2.06-.94-.94-2.06-.94 2.06-2.06.94zm-11 1L8.5 8.5l.94-2.06 2.06-.94-2.06-.94L8.5 2.5l-.94 2.06-2.06.94zm10 10l.94 2.06.94-2.06 2.06-.94-2.06-.94-.94-2.06-.94 2.06-2.06.94z\"/><path d=\"M17.41 7.96l-1.37-1.37c-.4-.4-.92-.59-1.43-.59-.52 0-1.04.2-1.43.59L10.3 9.45l-7.72 7.72c-.78.78-.78 2.05 0 2.83L4 21.41c.39.39.9.59 1.41.59.51 0 1.02-.2 1.41-.59l7.78-7.78 2.81-2.81c.8-.78.8-2.07 0-2.86zM5.41 20L4 18.59l7.72-7.72 1.47 1.35L5.41 20z\"/>\n",
              "  </svg>\n",
              "      </button>\n",
              "      \n",
              "  <style>\n",
              "    .colab-df-container {\n",
              "      display:flex;\n",
              "      flex-wrap:wrap;\n",
              "      gap: 12px;\n",
              "    }\n",
              "\n",
              "    .colab-df-convert {\n",
              "      background-color: #E8F0FE;\n",
              "      border: none;\n",
              "      border-radius: 50%;\n",
              "      cursor: pointer;\n",
              "      display: none;\n",
              "      fill: #1967D2;\n",
              "      height: 32px;\n",
              "      padding: 0 0 0 0;\n",
              "      width: 32px;\n",
              "    }\n",
              "\n",
              "    .colab-df-convert:hover {\n",
              "      background-color: #E2EBFA;\n",
              "      box-shadow: 0px 1px 2px rgba(60, 64, 67, 0.3), 0px 1px 3px 1px rgba(60, 64, 67, 0.15);\n",
              "      fill: #174EA6;\n",
              "    }\n",
              "\n",
              "    [theme=dark] .colab-df-convert {\n",
              "      background-color: #3B4455;\n",
              "      fill: #D2E3FC;\n",
              "    }\n",
              "\n",
              "    [theme=dark] .colab-df-convert:hover {\n",
              "      background-color: #434B5C;\n",
              "      box-shadow: 0px 1px 3px 1px rgba(0, 0, 0, 0.15);\n",
              "      filter: drop-shadow(0px 1px 2px rgba(0, 0, 0, 0.3));\n",
              "      fill: #FFFFFF;\n",
              "    }\n",
              "  </style>\n",
              "\n",
              "      <script>\n",
              "        const buttonEl =\n",
              "          document.querySelector('#df-33494525-a08d-4182-874b-d93513570276 button.colab-df-convert');\n",
              "        buttonEl.style.display =\n",
              "          google.colab.kernel.accessAllowed ? 'block' : 'none';\n",
              "\n",
              "        async function convertToInteractive(key) {\n",
              "          const element = document.querySelector('#df-33494525-a08d-4182-874b-d93513570276');\n",
              "          const dataTable =\n",
              "            await google.colab.kernel.invokeFunction('convertToInteractive',\n",
              "                                                     [key], {});\n",
              "          if (!dataTable) return;\n",
              "\n",
              "          const docLinkHtml = 'Like what you see? Visit the ' +\n",
              "            '<a target=\"_blank\" href=https://colab.research.google.com/notebooks/data_table.ipynb>data table notebook</a>'\n",
              "            + ' to learn more about interactive tables.';\n",
              "          element.innerHTML = '';\n",
              "          dataTable['output_type'] = 'display_data';\n",
              "          await google.colab.output.renderOutput(dataTable, element);\n",
              "          const docLink = document.createElement('div');\n",
              "          docLink.innerHTML = docLinkHtml;\n",
              "          element.appendChild(docLink);\n",
              "        }\n",
              "      </script>\n",
              "    </div>\n",
              "  </div>\n",
              "  "
            ]
          },
          "metadata": {},
          "execution_count": 33
        }
      ]
    },
    {
      "cell_type": "code",
      "source": [
        "for i in yulu_df[categorical_columns]:\n",
        "  print(yulu_df[i].value_counts())\n",
        "  print('_____________')"
      ],
      "metadata": {
        "colab": {
          "base_uri": "https://localhost:8080/"
        },
        "id": "-Mj3PDIhzX99",
        "outputId": "785668b2-8b15-460b-cef0-c45f8fb22f2f"
      },
      "execution_count": null,
      "outputs": [
        {
          "output_type": "stream",
          "name": "stdout",
          "text": [
            "4    2734\n",
            "2    2733\n",
            "3    2733\n",
            "1    2686\n",
            "Name: season, dtype: int64\n",
            "_____________\n",
            "0    10575\n",
            "1      311\n",
            "Name: holiday, dtype: int64\n",
            "_____________\n",
            "1    7412\n",
            "0    3474\n",
            "Name: workingday, dtype: int64\n",
            "_____________\n",
            "1    7192\n",
            "2    2834\n",
            "3     859\n",
            "4       1\n",
            "Name: weather, dtype: int64\n",
            "_____________\n"
          ]
        }
      ]
    },
    {
      "cell_type": "code",
      "source": [
        "yulu_df.info()"
      ],
      "metadata": {
        "colab": {
          "base_uri": "https://localhost:8080/"
        },
        "id": "gVMU0gJDXATu",
        "outputId": "d300f4cc-f080-4997-adc1-4353ec4b1e29"
      },
      "execution_count": null,
      "outputs": [
        {
          "output_type": "stream",
          "name": "stdout",
          "text": [
            "<class 'pandas.core.frame.DataFrame'>\n",
            "RangeIndex: 10886 entries, 0 to 10885\n",
            "Data columns (total 12 columns):\n",
            " #   Column      Non-Null Count  Dtype         \n",
            "---  ------      --------------  -----         \n",
            " 0   datetime    10886 non-null  datetime64[ns]\n",
            " 1   season      10886 non-null  category      \n",
            " 2   holiday     10886 non-null  category      \n",
            " 3   workingday  10886 non-null  category      \n",
            " 4   weather     10886 non-null  category      \n",
            " 5   temp        10886 non-null  float64       \n",
            " 6   atemp       10886 non-null  float64       \n",
            " 7   humidity    10886 non-null  int64         \n",
            " 8   windspeed   10886 non-null  float64       \n",
            " 9   casual      10886 non-null  int64         \n",
            " 10  registered  10886 non-null  int64         \n",
            " 11  count       10886 non-null  int64         \n",
            "dtypes: category(4), datetime64[ns](1), float64(3), int64(4)\n",
            "memory usage: 723.7 KB\n"
          ]
        }
      ]
    },
    {
      "cell_type": "code",
      "source": [
        "yulu_df.isna().sum()"
      ],
      "metadata": {
        "colab": {
          "base_uri": "https://localhost:8080/"
        },
        "id": "etPJIKg8ZUYt",
        "outputId": "9f6940a9-ae51-4bb4-e82c-6a468320ce3e"
      },
      "execution_count": null,
      "outputs": [
        {
          "output_type": "execute_result",
          "data": {
            "text/plain": [
              "datetime      0\n",
              "season        0\n",
              "holiday       0\n",
              "workingday    0\n",
              "weather       0\n",
              "temp          0\n",
              "atemp         0\n",
              "humidity      0\n",
              "windspeed     0\n",
              "casual        0\n",
              "registered    0\n",
              "count         0\n",
              "dtype: int64"
            ]
          },
          "metadata": {},
          "execution_count": 36
        }
      ]
    },
    {
      "cell_type": "markdown",
      "source": [
        "**There are no null values**"
      ],
      "metadata": {
        "id": "N16PHX4WZ8AR"
      }
    },
    {
      "cell_type": "code",
      "source": [
        "yulu_df[yulu_df.duplicated()]"
      ],
      "metadata": {
        "colab": {
          "base_uri": "https://localhost:8080/",
          "height": 50
        },
        "id": "cWrV-yKcZ6b8",
        "outputId": "c00bed85-5b58-4434-f9ba-c27f0ac45288"
      },
      "execution_count": null,
      "outputs": [
        {
          "output_type": "execute_result",
          "data": {
            "text/plain": [
              "Empty DataFrame\n",
              "Columns: [datetime, season, holiday, workingday, weather, temp, atemp, humidity, windspeed, casual, registered, count]\n",
              "Index: []"
            ],
            "text/html": [
              "\n",
              "  <div id=\"df-325f9f53-ec49-486b-8f2e-0d6ccd2292ef\">\n",
              "    <div class=\"colab-df-container\">\n",
              "      <div>\n",
              "<style scoped>\n",
              "    .dataframe tbody tr th:only-of-type {\n",
              "        vertical-align: middle;\n",
              "    }\n",
              "\n",
              "    .dataframe tbody tr th {\n",
              "        vertical-align: top;\n",
              "    }\n",
              "\n",
              "    .dataframe thead th {\n",
              "        text-align: right;\n",
              "    }\n",
              "</style>\n",
              "<table border=\"1\" class=\"dataframe\">\n",
              "  <thead>\n",
              "    <tr style=\"text-align: right;\">\n",
              "      <th></th>\n",
              "      <th>datetime</th>\n",
              "      <th>season</th>\n",
              "      <th>holiday</th>\n",
              "      <th>workingday</th>\n",
              "      <th>weather</th>\n",
              "      <th>temp</th>\n",
              "      <th>atemp</th>\n",
              "      <th>humidity</th>\n",
              "      <th>windspeed</th>\n",
              "      <th>casual</th>\n",
              "      <th>registered</th>\n",
              "      <th>count</th>\n",
              "    </tr>\n",
              "  </thead>\n",
              "  <tbody>\n",
              "  </tbody>\n",
              "</table>\n",
              "</div>\n",
              "      <button class=\"colab-df-convert\" onclick=\"convertToInteractive('df-325f9f53-ec49-486b-8f2e-0d6ccd2292ef')\"\n",
              "              title=\"Convert this dataframe to an interactive table.\"\n",
              "              style=\"display:none;\">\n",
              "        \n",
              "  <svg xmlns=\"http://www.w3.org/2000/svg\" height=\"24px\"viewBox=\"0 0 24 24\"\n",
              "       width=\"24px\">\n",
              "    <path d=\"M0 0h24v24H0V0z\" fill=\"none\"/>\n",
              "    <path d=\"M18.56 5.44l.94 2.06.94-2.06 2.06-.94-2.06-.94-.94-2.06-.94 2.06-2.06.94zm-11 1L8.5 8.5l.94-2.06 2.06-.94-2.06-.94L8.5 2.5l-.94 2.06-2.06.94zm10 10l.94 2.06.94-2.06 2.06-.94-2.06-.94-.94-2.06-.94 2.06-2.06.94z\"/><path d=\"M17.41 7.96l-1.37-1.37c-.4-.4-.92-.59-1.43-.59-.52 0-1.04.2-1.43.59L10.3 9.45l-7.72 7.72c-.78.78-.78 2.05 0 2.83L4 21.41c.39.39.9.59 1.41.59.51 0 1.02-.2 1.41-.59l7.78-7.78 2.81-2.81c.8-.78.8-2.07 0-2.86zM5.41 20L4 18.59l7.72-7.72 1.47 1.35L5.41 20z\"/>\n",
              "  </svg>\n",
              "      </button>\n",
              "      \n",
              "  <style>\n",
              "    .colab-df-container {\n",
              "      display:flex;\n",
              "      flex-wrap:wrap;\n",
              "      gap: 12px;\n",
              "    }\n",
              "\n",
              "    .colab-df-convert {\n",
              "      background-color: #E8F0FE;\n",
              "      border: none;\n",
              "      border-radius: 50%;\n",
              "      cursor: pointer;\n",
              "      display: none;\n",
              "      fill: #1967D2;\n",
              "      height: 32px;\n",
              "      padding: 0 0 0 0;\n",
              "      width: 32px;\n",
              "    }\n",
              "\n",
              "    .colab-df-convert:hover {\n",
              "      background-color: #E2EBFA;\n",
              "      box-shadow: 0px 1px 2px rgba(60, 64, 67, 0.3), 0px 1px 3px 1px rgba(60, 64, 67, 0.15);\n",
              "      fill: #174EA6;\n",
              "    }\n",
              "\n",
              "    [theme=dark] .colab-df-convert {\n",
              "      background-color: #3B4455;\n",
              "      fill: #D2E3FC;\n",
              "    }\n",
              "\n",
              "    [theme=dark] .colab-df-convert:hover {\n",
              "      background-color: #434B5C;\n",
              "      box-shadow: 0px 1px 3px 1px rgba(0, 0, 0, 0.15);\n",
              "      filter: drop-shadow(0px 1px 2px rgba(0, 0, 0, 0.3));\n",
              "      fill: #FFFFFF;\n",
              "    }\n",
              "  </style>\n",
              "\n",
              "      <script>\n",
              "        const buttonEl =\n",
              "          document.querySelector('#df-325f9f53-ec49-486b-8f2e-0d6ccd2292ef button.colab-df-convert');\n",
              "        buttonEl.style.display =\n",
              "          google.colab.kernel.accessAllowed ? 'block' : 'none';\n",
              "\n",
              "        async function convertToInteractive(key) {\n",
              "          const element = document.querySelector('#df-325f9f53-ec49-486b-8f2e-0d6ccd2292ef');\n",
              "          const dataTable =\n",
              "            await google.colab.kernel.invokeFunction('convertToInteractive',\n",
              "                                                     [key], {});\n",
              "          if (!dataTable) return;\n",
              "\n",
              "          const docLinkHtml = 'Like what you see? Visit the ' +\n",
              "            '<a target=\"_blank\" href=https://colab.research.google.com/notebooks/data_table.ipynb>data table notebook</a>'\n",
              "            + ' to learn more about interactive tables.';\n",
              "          element.innerHTML = '';\n",
              "          dataTable['output_type'] = 'display_data';\n",
              "          await google.colab.output.renderOutput(dataTable, element);\n",
              "          const docLink = document.createElement('div');\n",
              "          docLink.innerHTML = docLinkHtml;\n",
              "          element.appendChild(docLink);\n",
              "        }\n",
              "      </script>\n",
              "    </div>\n",
              "  </div>\n",
              "  "
            ]
          },
          "metadata": {},
          "execution_count": 37
        }
      ]
    },
    {
      "cell_type": "markdown",
      "source": [
        "**There were no duplictaes**"
      ],
      "metadata": {
        "id": "lBNLzFP6uKMQ"
      }
    },
    {
      "cell_type": "code",
      "source": [
        "yulu_df.describe(include='all')"
      ],
      "metadata": {
        "colab": {
          "base_uri": "https://localhost:8080/",
          "height": 512
        },
        "id": "o1mFGl6pgrd3",
        "outputId": "7ee20c6f-4da3-4fb9-8a8a-c7fb2e584800"
      },
      "execution_count": null,
      "outputs": [
        {
          "output_type": "stream",
          "name": "stderr",
          "text": [
            "/usr/local/lib/python3.7/dist-packages/ipykernel_launcher.py:1: FutureWarning: Treating datetime data as categorical rather than numeric in `.describe` is deprecated and will be removed in a future version of pandas. Specify `datetime_is_numeric=True` to silence this warning and adopt the future behavior now.\n",
            "  \"\"\"Entry point for launching an IPython kernel.\n"
          ]
        },
        {
          "output_type": "execute_result",
          "data": {
            "text/plain": [
              "                   datetime   season  holiday  workingday  weather  \\\n",
              "count                 10886  10886.0  10886.0     10886.0  10886.0   \n",
              "unique                10886      4.0      2.0         2.0      4.0   \n",
              "top     2011-01-01 00:00:00      4.0      0.0         1.0      1.0   \n",
              "freq                      1   2734.0  10575.0      7412.0   7192.0   \n",
              "first   2011-01-01 00:00:00      NaN      NaN         NaN      NaN   \n",
              "last    2012-12-19 23:00:00      NaN      NaN         NaN      NaN   \n",
              "mean                    NaN      NaN      NaN         NaN      NaN   \n",
              "std                     NaN      NaN      NaN         NaN      NaN   \n",
              "min                     NaN      NaN      NaN         NaN      NaN   \n",
              "25%                     NaN      NaN      NaN         NaN      NaN   \n",
              "50%                     NaN      NaN      NaN         NaN      NaN   \n",
              "75%                     NaN      NaN      NaN         NaN      NaN   \n",
              "max                     NaN      NaN      NaN         NaN      NaN   \n",
              "\n",
              "               temp         atemp      humidity     windspeed        casual  \\\n",
              "count   10886.00000  10886.000000  10886.000000  10886.000000  10886.000000   \n",
              "unique          NaN           NaN           NaN           NaN           NaN   \n",
              "top             NaN           NaN           NaN           NaN           NaN   \n",
              "freq            NaN           NaN           NaN           NaN           NaN   \n",
              "first           NaN           NaN           NaN           NaN           NaN   \n",
              "last            NaN           NaN           NaN           NaN           NaN   \n",
              "mean       20.23086     23.655084     61.886460     12.799395     36.021955   \n",
              "std         7.79159      8.474601     19.245033      8.164537     49.960477   \n",
              "min         0.82000      0.760000      0.000000      0.000000      0.000000   \n",
              "25%        13.94000     16.665000     47.000000      7.001500      4.000000   \n",
              "50%        20.50000     24.240000     62.000000     12.998000     17.000000   \n",
              "75%        26.24000     31.060000     77.000000     16.997900     49.000000   \n",
              "max        41.00000     45.455000    100.000000     56.996900    367.000000   \n",
              "\n",
              "          registered         count  \n",
              "count   10886.000000  10886.000000  \n",
              "unique           NaN           NaN  \n",
              "top              NaN           NaN  \n",
              "freq             NaN           NaN  \n",
              "first            NaN           NaN  \n",
              "last             NaN           NaN  \n",
              "mean      155.552177    191.574132  \n",
              "std       151.039033    181.144454  \n",
              "min         0.000000      1.000000  \n",
              "25%        36.000000     42.000000  \n",
              "50%       118.000000    145.000000  \n",
              "75%       222.000000    284.000000  \n",
              "max       886.000000    977.000000  "
            ],
            "text/html": [
              "\n",
              "  <div id=\"df-8928a245-786d-4f43-a536-d5dc2f364a02\">\n",
              "    <div class=\"colab-df-container\">\n",
              "      <div>\n",
              "<style scoped>\n",
              "    .dataframe tbody tr th:only-of-type {\n",
              "        vertical-align: middle;\n",
              "    }\n",
              "\n",
              "    .dataframe tbody tr th {\n",
              "        vertical-align: top;\n",
              "    }\n",
              "\n",
              "    .dataframe thead th {\n",
              "        text-align: right;\n",
              "    }\n",
              "</style>\n",
              "<table border=\"1\" class=\"dataframe\">\n",
              "  <thead>\n",
              "    <tr style=\"text-align: right;\">\n",
              "      <th></th>\n",
              "      <th>datetime</th>\n",
              "      <th>season</th>\n",
              "      <th>holiday</th>\n",
              "      <th>workingday</th>\n",
              "      <th>weather</th>\n",
              "      <th>temp</th>\n",
              "      <th>atemp</th>\n",
              "      <th>humidity</th>\n",
              "      <th>windspeed</th>\n",
              "      <th>casual</th>\n",
              "      <th>registered</th>\n",
              "      <th>count</th>\n",
              "    </tr>\n",
              "  </thead>\n",
              "  <tbody>\n",
              "    <tr>\n",
              "      <th>count</th>\n",
              "      <td>10886</td>\n",
              "      <td>10886.0</td>\n",
              "      <td>10886.0</td>\n",
              "      <td>10886.0</td>\n",
              "      <td>10886.0</td>\n",
              "      <td>10886.00000</td>\n",
              "      <td>10886.000000</td>\n",
              "      <td>10886.000000</td>\n",
              "      <td>10886.000000</td>\n",
              "      <td>10886.000000</td>\n",
              "      <td>10886.000000</td>\n",
              "      <td>10886.000000</td>\n",
              "    </tr>\n",
              "    <tr>\n",
              "      <th>unique</th>\n",
              "      <td>10886</td>\n",
              "      <td>4.0</td>\n",
              "      <td>2.0</td>\n",
              "      <td>2.0</td>\n",
              "      <td>4.0</td>\n",
              "      <td>NaN</td>\n",
              "      <td>NaN</td>\n",
              "      <td>NaN</td>\n",
              "      <td>NaN</td>\n",
              "      <td>NaN</td>\n",
              "      <td>NaN</td>\n",
              "      <td>NaN</td>\n",
              "    </tr>\n",
              "    <tr>\n",
              "      <th>top</th>\n",
              "      <td>2011-01-01 00:00:00</td>\n",
              "      <td>4.0</td>\n",
              "      <td>0.0</td>\n",
              "      <td>1.0</td>\n",
              "      <td>1.0</td>\n",
              "      <td>NaN</td>\n",
              "      <td>NaN</td>\n",
              "      <td>NaN</td>\n",
              "      <td>NaN</td>\n",
              "      <td>NaN</td>\n",
              "      <td>NaN</td>\n",
              "      <td>NaN</td>\n",
              "    </tr>\n",
              "    <tr>\n",
              "      <th>freq</th>\n",
              "      <td>1</td>\n",
              "      <td>2734.0</td>\n",
              "      <td>10575.0</td>\n",
              "      <td>7412.0</td>\n",
              "      <td>7192.0</td>\n",
              "      <td>NaN</td>\n",
              "      <td>NaN</td>\n",
              "      <td>NaN</td>\n",
              "      <td>NaN</td>\n",
              "      <td>NaN</td>\n",
              "      <td>NaN</td>\n",
              "      <td>NaN</td>\n",
              "    </tr>\n",
              "    <tr>\n",
              "      <th>first</th>\n",
              "      <td>2011-01-01 00:00:00</td>\n",
              "      <td>NaN</td>\n",
              "      <td>NaN</td>\n",
              "      <td>NaN</td>\n",
              "      <td>NaN</td>\n",
              "      <td>NaN</td>\n",
              "      <td>NaN</td>\n",
              "      <td>NaN</td>\n",
              "      <td>NaN</td>\n",
              "      <td>NaN</td>\n",
              "      <td>NaN</td>\n",
              "      <td>NaN</td>\n",
              "    </tr>\n",
              "    <tr>\n",
              "      <th>last</th>\n",
              "      <td>2012-12-19 23:00:00</td>\n",
              "      <td>NaN</td>\n",
              "      <td>NaN</td>\n",
              "      <td>NaN</td>\n",
              "      <td>NaN</td>\n",
              "      <td>NaN</td>\n",
              "      <td>NaN</td>\n",
              "      <td>NaN</td>\n",
              "      <td>NaN</td>\n",
              "      <td>NaN</td>\n",
              "      <td>NaN</td>\n",
              "      <td>NaN</td>\n",
              "    </tr>\n",
              "    <tr>\n",
              "      <th>mean</th>\n",
              "      <td>NaN</td>\n",
              "      <td>NaN</td>\n",
              "      <td>NaN</td>\n",
              "      <td>NaN</td>\n",
              "      <td>NaN</td>\n",
              "      <td>20.23086</td>\n",
              "      <td>23.655084</td>\n",
              "      <td>61.886460</td>\n",
              "      <td>12.799395</td>\n",
              "      <td>36.021955</td>\n",
              "      <td>155.552177</td>\n",
              "      <td>191.574132</td>\n",
              "    </tr>\n",
              "    <tr>\n",
              "      <th>std</th>\n",
              "      <td>NaN</td>\n",
              "      <td>NaN</td>\n",
              "      <td>NaN</td>\n",
              "      <td>NaN</td>\n",
              "      <td>NaN</td>\n",
              "      <td>7.79159</td>\n",
              "      <td>8.474601</td>\n",
              "      <td>19.245033</td>\n",
              "      <td>8.164537</td>\n",
              "      <td>49.960477</td>\n",
              "      <td>151.039033</td>\n",
              "      <td>181.144454</td>\n",
              "    </tr>\n",
              "    <tr>\n",
              "      <th>min</th>\n",
              "      <td>NaN</td>\n",
              "      <td>NaN</td>\n",
              "      <td>NaN</td>\n",
              "      <td>NaN</td>\n",
              "      <td>NaN</td>\n",
              "      <td>0.82000</td>\n",
              "      <td>0.760000</td>\n",
              "      <td>0.000000</td>\n",
              "      <td>0.000000</td>\n",
              "      <td>0.000000</td>\n",
              "      <td>0.000000</td>\n",
              "      <td>1.000000</td>\n",
              "    </tr>\n",
              "    <tr>\n",
              "      <th>25%</th>\n",
              "      <td>NaN</td>\n",
              "      <td>NaN</td>\n",
              "      <td>NaN</td>\n",
              "      <td>NaN</td>\n",
              "      <td>NaN</td>\n",
              "      <td>13.94000</td>\n",
              "      <td>16.665000</td>\n",
              "      <td>47.000000</td>\n",
              "      <td>7.001500</td>\n",
              "      <td>4.000000</td>\n",
              "      <td>36.000000</td>\n",
              "      <td>42.000000</td>\n",
              "    </tr>\n",
              "    <tr>\n",
              "      <th>50%</th>\n",
              "      <td>NaN</td>\n",
              "      <td>NaN</td>\n",
              "      <td>NaN</td>\n",
              "      <td>NaN</td>\n",
              "      <td>NaN</td>\n",
              "      <td>20.50000</td>\n",
              "      <td>24.240000</td>\n",
              "      <td>62.000000</td>\n",
              "      <td>12.998000</td>\n",
              "      <td>17.000000</td>\n",
              "      <td>118.000000</td>\n",
              "      <td>145.000000</td>\n",
              "    </tr>\n",
              "    <tr>\n",
              "      <th>75%</th>\n",
              "      <td>NaN</td>\n",
              "      <td>NaN</td>\n",
              "      <td>NaN</td>\n",
              "      <td>NaN</td>\n",
              "      <td>NaN</td>\n",
              "      <td>26.24000</td>\n",
              "      <td>31.060000</td>\n",
              "      <td>77.000000</td>\n",
              "      <td>16.997900</td>\n",
              "      <td>49.000000</td>\n",
              "      <td>222.000000</td>\n",
              "      <td>284.000000</td>\n",
              "    </tr>\n",
              "    <tr>\n",
              "      <th>max</th>\n",
              "      <td>NaN</td>\n",
              "      <td>NaN</td>\n",
              "      <td>NaN</td>\n",
              "      <td>NaN</td>\n",
              "      <td>NaN</td>\n",
              "      <td>41.00000</td>\n",
              "      <td>45.455000</td>\n",
              "      <td>100.000000</td>\n",
              "      <td>56.996900</td>\n",
              "      <td>367.000000</td>\n",
              "      <td>886.000000</td>\n",
              "      <td>977.000000</td>\n",
              "    </tr>\n",
              "  </tbody>\n",
              "</table>\n",
              "</div>\n",
              "      <button class=\"colab-df-convert\" onclick=\"convertToInteractive('df-8928a245-786d-4f43-a536-d5dc2f364a02')\"\n",
              "              title=\"Convert this dataframe to an interactive table.\"\n",
              "              style=\"display:none;\">\n",
              "        \n",
              "  <svg xmlns=\"http://www.w3.org/2000/svg\" height=\"24px\"viewBox=\"0 0 24 24\"\n",
              "       width=\"24px\">\n",
              "    <path d=\"M0 0h24v24H0V0z\" fill=\"none\"/>\n",
              "    <path d=\"M18.56 5.44l.94 2.06.94-2.06 2.06-.94-2.06-.94-.94-2.06-.94 2.06-2.06.94zm-11 1L8.5 8.5l.94-2.06 2.06-.94-2.06-.94L8.5 2.5l-.94 2.06-2.06.94zm10 10l.94 2.06.94-2.06 2.06-.94-2.06-.94-.94-2.06-.94 2.06-2.06.94z\"/><path d=\"M17.41 7.96l-1.37-1.37c-.4-.4-.92-.59-1.43-.59-.52 0-1.04.2-1.43.59L10.3 9.45l-7.72 7.72c-.78.78-.78 2.05 0 2.83L4 21.41c.39.39.9.59 1.41.59.51 0 1.02-.2 1.41-.59l7.78-7.78 2.81-2.81c.8-.78.8-2.07 0-2.86zM5.41 20L4 18.59l7.72-7.72 1.47 1.35L5.41 20z\"/>\n",
              "  </svg>\n",
              "      </button>\n",
              "      \n",
              "  <style>\n",
              "    .colab-df-container {\n",
              "      display:flex;\n",
              "      flex-wrap:wrap;\n",
              "      gap: 12px;\n",
              "    }\n",
              "\n",
              "    .colab-df-convert {\n",
              "      background-color: #E8F0FE;\n",
              "      border: none;\n",
              "      border-radius: 50%;\n",
              "      cursor: pointer;\n",
              "      display: none;\n",
              "      fill: #1967D2;\n",
              "      height: 32px;\n",
              "      padding: 0 0 0 0;\n",
              "      width: 32px;\n",
              "    }\n",
              "\n",
              "    .colab-df-convert:hover {\n",
              "      background-color: #E2EBFA;\n",
              "      box-shadow: 0px 1px 2px rgba(60, 64, 67, 0.3), 0px 1px 3px 1px rgba(60, 64, 67, 0.15);\n",
              "      fill: #174EA6;\n",
              "    }\n",
              "\n",
              "    [theme=dark] .colab-df-convert {\n",
              "      background-color: #3B4455;\n",
              "      fill: #D2E3FC;\n",
              "    }\n",
              "\n",
              "    [theme=dark] .colab-df-convert:hover {\n",
              "      background-color: #434B5C;\n",
              "      box-shadow: 0px 1px 3px 1px rgba(0, 0, 0, 0.15);\n",
              "      filter: drop-shadow(0px 1px 2px rgba(0, 0, 0, 0.3));\n",
              "      fill: #FFFFFF;\n",
              "    }\n",
              "  </style>\n",
              "\n",
              "      <script>\n",
              "        const buttonEl =\n",
              "          document.querySelector('#df-8928a245-786d-4f43-a536-d5dc2f364a02 button.colab-df-convert');\n",
              "        buttonEl.style.display =\n",
              "          google.colab.kernel.accessAllowed ? 'block' : 'none';\n",
              "\n",
              "        async function convertToInteractive(key) {\n",
              "          const element = document.querySelector('#df-8928a245-786d-4f43-a536-d5dc2f364a02');\n",
              "          const dataTable =\n",
              "            await google.colab.kernel.invokeFunction('convertToInteractive',\n",
              "                                                     [key], {});\n",
              "          if (!dataTable) return;\n",
              "\n",
              "          const docLinkHtml = 'Like what you see? Visit the ' +\n",
              "            '<a target=\"_blank\" href=https://colab.research.google.com/notebooks/data_table.ipynb>data table notebook</a>'\n",
              "            + ' to learn more about interactive tables.';\n",
              "          element.innerHTML = '';\n",
              "          dataTable['output_type'] = 'display_data';\n",
              "          await google.colab.output.renderOutput(dataTable, element);\n",
              "          const docLink = document.createElement('div');\n",
              "          docLink.innerHTML = docLinkHtml;\n",
              "          element.appendChild(docLink);\n",
              "        }\n",
              "      </script>\n",
              "    </div>\n",
              "  </div>\n",
              "  "
            ]
          },
          "metadata": {},
          "execution_count": 38
        }
      ]
    },
    {
      "cell_type": "markdown",
      "source": [
        "###b. Univariate analysis"
      ],
      "metadata": {
        "id": "JRrskG57ustD"
      }
    },
    {
      "cell_type": "code",
      "source": [
        "yulu_df.head(3)"
      ],
      "metadata": {
        "colab": {
          "base_uri": "https://localhost:8080/",
          "height": 144
        },
        "id": "EHWETxrytsG-",
        "outputId": "97d00381-0c43-4fb1-97c8-66049b5b80f4"
      },
      "execution_count": null,
      "outputs": [
        {
          "output_type": "execute_result",
          "data": {
            "text/plain": [
              "             datetime season holiday workingday weather  temp   atemp  \\\n",
              "0 2011-01-01 00:00:00      1       0          0       1  9.84  14.395   \n",
              "1 2011-01-01 01:00:00      1       0          0       1  9.02  13.635   \n",
              "2 2011-01-01 02:00:00      1       0          0       1  9.02  13.635   \n",
              "\n",
              "   humidity  windspeed  casual  registered  count  \n",
              "0        81        0.0       3          13     16  \n",
              "1        80        0.0       8          32     40  \n",
              "2        80        0.0       5          27     32  "
            ],
            "text/html": [
              "\n",
              "  <div id=\"df-32a2ca14-6458-48e9-a3bd-44290c719446\">\n",
              "    <div class=\"colab-df-container\">\n",
              "      <div>\n",
              "<style scoped>\n",
              "    .dataframe tbody tr th:only-of-type {\n",
              "        vertical-align: middle;\n",
              "    }\n",
              "\n",
              "    .dataframe tbody tr th {\n",
              "        vertical-align: top;\n",
              "    }\n",
              "\n",
              "    .dataframe thead th {\n",
              "        text-align: right;\n",
              "    }\n",
              "</style>\n",
              "<table border=\"1\" class=\"dataframe\">\n",
              "  <thead>\n",
              "    <tr style=\"text-align: right;\">\n",
              "      <th></th>\n",
              "      <th>datetime</th>\n",
              "      <th>season</th>\n",
              "      <th>holiday</th>\n",
              "      <th>workingday</th>\n",
              "      <th>weather</th>\n",
              "      <th>temp</th>\n",
              "      <th>atemp</th>\n",
              "      <th>humidity</th>\n",
              "      <th>windspeed</th>\n",
              "      <th>casual</th>\n",
              "      <th>registered</th>\n",
              "      <th>count</th>\n",
              "    </tr>\n",
              "  </thead>\n",
              "  <tbody>\n",
              "    <tr>\n",
              "      <th>0</th>\n",
              "      <td>2011-01-01 00:00:00</td>\n",
              "      <td>1</td>\n",
              "      <td>0</td>\n",
              "      <td>0</td>\n",
              "      <td>1</td>\n",
              "      <td>9.84</td>\n",
              "      <td>14.395</td>\n",
              "      <td>81</td>\n",
              "      <td>0.0</td>\n",
              "      <td>3</td>\n",
              "      <td>13</td>\n",
              "      <td>16</td>\n",
              "    </tr>\n",
              "    <tr>\n",
              "      <th>1</th>\n",
              "      <td>2011-01-01 01:00:00</td>\n",
              "      <td>1</td>\n",
              "      <td>0</td>\n",
              "      <td>0</td>\n",
              "      <td>1</td>\n",
              "      <td>9.02</td>\n",
              "      <td>13.635</td>\n",
              "      <td>80</td>\n",
              "      <td>0.0</td>\n",
              "      <td>8</td>\n",
              "      <td>32</td>\n",
              "      <td>40</td>\n",
              "    </tr>\n",
              "    <tr>\n",
              "      <th>2</th>\n",
              "      <td>2011-01-01 02:00:00</td>\n",
              "      <td>1</td>\n",
              "      <td>0</td>\n",
              "      <td>0</td>\n",
              "      <td>1</td>\n",
              "      <td>9.02</td>\n",
              "      <td>13.635</td>\n",
              "      <td>80</td>\n",
              "      <td>0.0</td>\n",
              "      <td>5</td>\n",
              "      <td>27</td>\n",
              "      <td>32</td>\n",
              "    </tr>\n",
              "  </tbody>\n",
              "</table>\n",
              "</div>\n",
              "      <button class=\"colab-df-convert\" onclick=\"convertToInteractive('df-32a2ca14-6458-48e9-a3bd-44290c719446')\"\n",
              "              title=\"Convert this dataframe to an interactive table.\"\n",
              "              style=\"display:none;\">\n",
              "        \n",
              "  <svg xmlns=\"http://www.w3.org/2000/svg\" height=\"24px\"viewBox=\"0 0 24 24\"\n",
              "       width=\"24px\">\n",
              "    <path d=\"M0 0h24v24H0V0z\" fill=\"none\"/>\n",
              "    <path d=\"M18.56 5.44l.94 2.06.94-2.06 2.06-.94-2.06-.94-.94-2.06-.94 2.06-2.06.94zm-11 1L8.5 8.5l.94-2.06 2.06-.94-2.06-.94L8.5 2.5l-.94 2.06-2.06.94zm10 10l.94 2.06.94-2.06 2.06-.94-2.06-.94-.94-2.06-.94 2.06-2.06.94z\"/><path d=\"M17.41 7.96l-1.37-1.37c-.4-.4-.92-.59-1.43-.59-.52 0-1.04.2-1.43.59L10.3 9.45l-7.72 7.72c-.78.78-.78 2.05 0 2.83L4 21.41c.39.39.9.59 1.41.59.51 0 1.02-.2 1.41-.59l7.78-7.78 2.81-2.81c.8-.78.8-2.07 0-2.86zM5.41 20L4 18.59l7.72-7.72 1.47 1.35L5.41 20z\"/>\n",
              "  </svg>\n",
              "      </button>\n",
              "      \n",
              "  <style>\n",
              "    .colab-df-container {\n",
              "      display:flex;\n",
              "      flex-wrap:wrap;\n",
              "      gap: 12px;\n",
              "    }\n",
              "\n",
              "    .colab-df-convert {\n",
              "      background-color: #E8F0FE;\n",
              "      border: none;\n",
              "      border-radius: 50%;\n",
              "      cursor: pointer;\n",
              "      display: none;\n",
              "      fill: #1967D2;\n",
              "      height: 32px;\n",
              "      padding: 0 0 0 0;\n",
              "      width: 32px;\n",
              "    }\n",
              "\n",
              "    .colab-df-convert:hover {\n",
              "      background-color: #E2EBFA;\n",
              "      box-shadow: 0px 1px 2px rgba(60, 64, 67, 0.3), 0px 1px 3px 1px rgba(60, 64, 67, 0.15);\n",
              "      fill: #174EA6;\n",
              "    }\n",
              "\n",
              "    [theme=dark] .colab-df-convert {\n",
              "      background-color: #3B4455;\n",
              "      fill: #D2E3FC;\n",
              "    }\n",
              "\n",
              "    [theme=dark] .colab-df-convert:hover {\n",
              "      background-color: #434B5C;\n",
              "      box-shadow: 0px 1px 3px 1px rgba(0, 0, 0, 0.15);\n",
              "      filter: drop-shadow(0px 1px 2px rgba(0, 0, 0, 0.3));\n",
              "      fill: #FFFFFF;\n",
              "    }\n",
              "  </style>\n",
              "\n",
              "      <script>\n",
              "        const buttonEl =\n",
              "          document.querySelector('#df-32a2ca14-6458-48e9-a3bd-44290c719446 button.colab-df-convert');\n",
              "        buttonEl.style.display =\n",
              "          google.colab.kernel.accessAllowed ? 'block' : 'none';\n",
              "\n",
              "        async function convertToInteractive(key) {\n",
              "          const element = document.querySelector('#df-32a2ca14-6458-48e9-a3bd-44290c719446');\n",
              "          const dataTable =\n",
              "            await google.colab.kernel.invokeFunction('convertToInteractive',\n",
              "                                                     [key], {});\n",
              "          if (!dataTable) return;\n",
              "\n",
              "          const docLinkHtml = 'Like what you see? Visit the ' +\n",
              "            '<a target=\"_blank\" href=https://colab.research.google.com/notebooks/data_table.ipynb>data table notebook</a>'\n",
              "            + ' to learn more about interactive tables.';\n",
              "          element.innerHTML = '';\n",
              "          dataTable['output_type'] = 'display_data';\n",
              "          await google.colab.output.renderOutput(dataTable, element);\n",
              "          const docLink = document.createElement('div');\n",
              "          docLink.innerHTML = docLinkHtml;\n",
              "          element.appendChild(docLink);\n",
              "        }\n",
              "      </script>\n",
              "    </div>\n",
              "  </div>\n",
              "  "
            ]
          },
          "metadata": {},
          "execution_count": 39
        }
      ]
    },
    {
      "cell_type": "code",
      "source": [
        "import seaborn as sns"
      ],
      "metadata": {
        "id": "kqn_hF7wyD9M"
      },
      "execution_count": null,
      "outputs": []
    },
    {
      "cell_type": "code",
      "source": [
        "sns.displot(yulu_df['count'],bins=50)"
      ],
      "metadata": {
        "colab": {
          "base_uri": "https://localhost:8080/",
          "height": 386
        },
        "id": "72-cnht8xxSV",
        "outputId": "2ef85e98-2ec2-4b33-93f3-1ba2c33d14cc"
      },
      "execution_count": null,
      "outputs": [
        {
          "output_type": "execute_result",
          "data": {
            "text/plain": [
              "<seaborn.axisgrid.FacetGrid at 0x7f30993bac50>"
            ]
          },
          "metadata": {},
          "execution_count": 41
        },
        {
          "output_type": "display_data",
          "data": {
            "text/plain": [
              "<Figure size 360x360 with 1 Axes>"
            ],
            "image/png": "[encoded data removed]"
          },
          "metadata": {
            "needs_background": "light"
          }
        }
      ]
    },
    {
      "cell_type": "markdown",
      "source": [
        "**In overall the peak majorly at 0-20 i.e the total rental bikes on a perticular time is more of 0-20 range.**"
      ],
      "metadata": {
        "id": "Fq_cuC4C-vRt"
      }
    },
    {
      "cell_type": "markdown",
      "source": [
        "Lets check the conditions and time when the bike rentals are more than 500"
      ],
      "metadata": {
        "id": "pOOAjeXj_svc"
      }
    },
    {
      "cell_type": "code",
      "source": [
        "yulu_df[yulu_df['count']>=500]"
      ],
      "metadata": {
        "colab": {
          "base_uri": "https://localhost:8080/",
          "height": 424
        },
        "id": "W9p2Y0Bh-qI6",
        "outputId": "39756b27-aa58-45d9-a4c6-ff92331f7df0"
      },
      "execution_count": null,
      "outputs": [
        {
          "output_type": "execute_result",
          "data": {
            "text/plain": [
              "                 datetime season holiday workingday weather   temp   atemp  \\\n",
              "1819  2011-05-02 17:00:00      2       0          1       1  27.06  31.060   \n",
              "1820  2011-05-02 18:00:00      2       0          1       2  26.24  30.305   \n",
              "1843  2011-05-03 17:00:00      2       0          1       1  28.70  32.575   \n",
              "1844  2011-05-03 18:00:00      2       0          1       1  28.70  32.575   \n",
              "1891  2011-05-05 17:00:00      2       0          1       1  22.96  26.515   \n",
              "...                   ...    ...     ...        ...     ...    ...     ...   \n",
              "10855 2012-12-18 17:00:00      4       0          1       1  16.40  20.455   \n",
              "10856 2012-12-18 18:00:00      4       0          1       1  15.58  19.695   \n",
              "10870 2012-12-19 08:00:00      4       0          1       1   9.84  12.880   \n",
              "10879 2012-12-19 17:00:00      4       0          1       1  16.40  20.455   \n",
              "10880 2012-12-19 18:00:00      4       0          1       1  15.58  19.695   \n",
              "\n",
              "       humidity  windspeed  casual  registered  count  \n",
              "1819         65    12.9980      65         472    537  \n",
              "1820         65    12.9980      68         450    518  \n",
              "1843         54    31.0009      53         464    517  \n",
              "1844         48    27.9993      59         485    544  \n",
              "1891         26    26.0027      66         467    533  \n",
              "...         ...        ...     ...         ...    ...  \n",
              "10855        47    30.0026      39         533    572  \n",
              "10856        46    22.0028      13         512    525  \n",
              "10870        87     7.0015      13         665    678  \n",
              "10879        50    26.0027      26         536    562  \n",
              "10880        50    23.9994      23         546    569  \n",
              "\n",
              "[804 rows x 12 columns]"
            ],
            "text/html": [
              "\n",
              "  <div id=\"df-090db95b-6d0d-478f-9568-792cc8d2161f\">\n",
              "    <div class=\"colab-df-container\">\n",
              "      <div>\n",
              "<style scoped>\n",
              "    .dataframe tbody tr th:only-of-type {\n",
              "        vertical-align: middle;\n",
              "    }\n",
              "\n",
              "    .dataframe tbody tr th {\n",
              "        vertical-align: top;\n",
              "    }\n",
              "\n",
              "    .dataframe thead th {\n",
              "        text-align: right;\n",
              "    }\n",
              "</style>\n",
              "<table border=\"1\" class=\"dataframe\">\n",
              "  <thead>\n",
              "    <tr style=\"text-align: right;\">\n",
              "      <th></th>\n",
              "      <th>datetime</th>\n",
              "      <th>season</th>\n",
              "      <th>holiday</th>\n",
              "      <th>workingday</th>\n",
              "      <th>weather</th>\n",
              "      <th>temp</th>\n",
              "      <th>atemp</th>\n",
              "      <th>humidity</th>\n",
              "      <th>windspeed</th>\n",
              "      <th>casual</th>\n",
              "      <th>registered</th>\n",
              "      <th>count</th>\n",
              "    </tr>\n",
              "  </thead>\n",
              "  <tbody>\n",
              "    <tr>\n",
              "      <th>1819</th>\n",
              "      <td>2011-05-02 17:00:00</td>\n",
              "      <td>2</td>\n",
              "      <td>0</td>\n",
              "      <td>1</td>\n",
              "      <td>1</td>\n",
              "      <td>27.06</td>\n",
              "      <td>31.060</td>\n",
              "      <td>65</td>\n",
              "      <td>12.9980</td>\n",
              "      <td>65</td>\n",
              "      <td>472</td>\n",
              "      <td>537</td>\n",
              "    </tr>\n",
              "    <tr>\n",
              "      <th>1820</th>\n",
              "      <td>2011-05-02 18:00:00</td>\n",
              "      <td>2</td>\n",
              "      <td>0</td>\n",
              "      <td>1</td>\n",
              "      <td>2</td>\n",
              "      <td>26.24</td>\n",
              "      <td>30.305</td>\n",
              "      <td>65</td>\n",
              "      <td>12.9980</td>\n",
              "      <td>68</td>\n",
              "      <td>450</td>\n",
              "      <td>518</td>\n",
              "    </tr>\n",
              "    <tr>\n",
              "      <th>1843</th>\n",
              "      <td>2011-05-03 17:00:00</td>\n",
              "      <td>2</td>\n",
              "      <td>0</td>\n",
              "      <td>1</td>\n",
              "      <td>1</td>\n",
              "      <td>28.70</td>\n",
              "      <td>32.575</td>\n",
              "      <td>54</td>\n",
              "      <td>31.0009</td>\n",
              "      <td>53</td>\n",
              "      <td>464</td>\n",
              "      <td>517</td>\n",
              "    </tr>\n",
              "    <tr>\n",
              "      <th>1844</th>\n",
              "      <td>2011-05-03 18:00:00</td>\n",
              "      <td>2</td>\n",
              "      <td>0</td>\n",
              "      <td>1</td>\n",
              "      <td>1</td>\n",
              "      <td>28.70</td>\n",
              "      <td>32.575</td>\n",
              "      <td>48</td>\n",
              "      <td>27.9993</td>\n",
              "      <td>59</td>\n",
              "      <td>485</td>\n",
              "      <td>544</td>\n",
              "    </tr>\n",
              "    <tr>\n",
              "      <th>1891</th>\n",
              "      <td>2011-05-05 17:00:00</td>\n",
              "      <td>2</td>\n",
              "      <td>0</td>\n",
              "      <td>1</td>\n",
              "      <td>1</td>\n",
              "      <td>22.96</td>\n",
              "      <td>26.515</td>\n",
              "      <td>26</td>\n",
              "      <td>26.0027</td>\n",
              "      <td>66</td>\n",
              "      <td>467</td>\n",
              "      <td>533</td>\n",
              "    </tr>\n",
              "    <tr>\n",
              "      <th>...</th>\n",
              "      <td>...</td>\n",
              "      <td>...</td>\n",
              "      <td>...</td>\n",
              "      <td>...</td>\n",
              "      <td>...</td>\n",
              "      <td>...</td>\n",
              "      <td>...</td>\n",
              "      <td>...</td>\n",
              "      <td>...</td>\n",
              "      <td>...</td>\n",
              "      <td>...</td>\n",
              "      <td>...</td>\n",
              "    </tr>\n",
              "    <tr>\n",
              "      <th>10855</th>\n",
              "      <td>2012-12-18 17:00:00</td>\n",
              "      <td>4</td>\n",
              "      <td>0</td>\n",
              "      <td>1</td>\n",
              "      <td>1</td>\n",
              "      <td>16.40</td>\n",
              "      <td>20.455</td>\n",
              "      <td>47</td>\n",
              "      <td>30.0026</td>\n",
              "      <td>39</td>\n",
              "      <td>533</td>\n",
              "      <td>572</td>\n",
              "    </tr>\n",
              "    <tr>\n",
              "      <th>10856</th>\n",
              "      <td>2012-12-18 18:00:00</td>\n",
              "      <td>4</td>\n",
              "      <td>0</td>\n",
              "      <td>1</td>\n",
              "      <td>1</td>\n",
              "      <td>15.58</td>\n",
              "      <td>19.695</td>\n",
              "      <td>46</td>\n",
              "      <td>22.0028</td>\n",
              "      <td>13</td>\n",
              "      <td>512</td>\n",
              "      <td>525</td>\n",
              "    </tr>\n",
              "    <tr>\n",
              "      <th>10870</th>\n",
              "      <td>2012-12-19 08:00:00</td>\n",
              "      <td>4</td>\n",
              "      <td>0</td>\n",
              "      <td>1</td>\n",
              "      <td>1</td>\n",
              "      <td>9.84</td>\n",
              "      <td>12.880</td>\n",
              "      <td>87</td>\n",
              "      <td>7.0015</td>\n",
              "      <td>13</td>\n",
              "      <td>665</td>\n",
              "      <td>678</td>\n",
              "    </tr>\n",
              "    <tr>\n",
              "      <th>10879</th>\n",
              "      <td>2012-12-19 17:00:00</td>\n",
              "      <td>4</td>\n",
              "      <td>0</td>\n",
              "      <td>1</td>\n",
              "      <td>1</td>\n",
              "      <td>16.40</td>\n",
              "      <td>20.455</td>\n",
              "      <td>50</td>\n",
              "      <td>26.0027</td>\n",
              "      <td>26</td>\n",
              "      <td>536</td>\n",
              "      <td>562</td>\n",
              "    </tr>\n",
              "    <tr>\n",
              "      <th>10880</th>\n",
              "      <td>2012-12-19 18:00:00</td>\n",
              "      <td>4</td>\n",
              "      <td>0</td>\n",
              "      <td>1</td>\n",
              "      <td>1</td>\n",
              "      <td>15.58</td>\n",
              "      <td>19.695</td>\n",
              "      <td>50</td>\n",
              "      <td>23.9994</td>\n",
              "      <td>23</td>\n",
              "      <td>546</td>\n",
              "      <td>569</td>\n",
              "    </tr>\n",
              "  </tbody>\n",
              "</table>\n",
              "<p>804 rows × 12 columns</p>\n",
              "</div>\n",
              "      <button class=\"colab-df-convert\" onclick=\"convertToInteractive('df-090db95b-6d0d-478f-9568-792cc8d2161f')\"\n",
              "              title=\"Convert this dataframe to an interactive table.\"\n",
              "              style=\"display:none;\">\n",
              "        \n",
              "  <svg xmlns=\"http://www.w3.org/2000/svg\" height=\"24px\"viewBox=\"0 0 24 24\"\n",
              "       width=\"24px\">\n",
              "    <path d=\"M0 0h24v24H0V0z\" fill=\"none\"/>\n",
              "    <path d=\"M18.56 5.44l.94 2.06.94-2.06 2.06-.94-2.06-.94-.94-2.06-.94 2.06-2.06.94zm-11 1L8.5 8.5l.94-2.06 2.06-.94-2.06-.94L8.5 2.5l-.94 2.06-2.06.94zm10 10l.94 2.06.94-2.06 2.06-.94-2.06-.94-.94-2.06-.94 2.06-2.06.94z\"/><path d=\"M17.41 7.96l-1.37-1.37c-.4-.4-.92-.59-1.43-.59-.52 0-1.04.2-1.43.59L10.3 9.45l-7.72 7.72c-.78.78-.78 2.05 0 2.83L4 21.41c.39.39.9.59 1.41.59.51 0 1.02-.2 1.41-.59l7.78-7.78 2.81-2.81c.8-.78.8-2.07 0-2.86zM5.41 20L4 18.59l7.72-7.72 1.47 1.35L5.41 20z\"/>\n",
              "  </svg>\n",
              "      </button>\n",
              "      \n",
              "  <style>\n",
              "    .colab-df-container {\n",
              "      display:flex;\n",
              "      flex-wrap:wrap;\n",
              "      gap: 12px;\n",
              "    }\n",
              "\n",
              "    .colab-df-convert {\n",
              "      background-color: #E8F0FE;\n",
              "      border: none;\n",
              "      border-radius: 50%;\n",
              "      cursor: pointer;\n",
              "      display: none;\n",
              "      fill: #1967D2;\n",
              "      height: 32px;\n",
              "      padding: 0 0 0 0;\n",
              "      width: 32px;\n",
              "    }\n",
              "\n",
              "    .colab-df-convert:hover {\n",
              "      background-color: #E2EBFA;\n",
              "      box-shadow: 0px 1px 2px rgba(60, 64, 67, 0.3), 0px 1px 3px 1px rgba(60, 64, 67, 0.15);\n",
              "      fill: #174EA6;\n",
              "    }\n",
              "\n",
              "    [theme=dark] .colab-df-convert {\n",
              "      background-color: #3B4455;\n",
              "      fill: #D2E3FC;\n",
              "    }\n",
              "\n",
              "    [theme=dark] .colab-df-convert:hover {\n",
              "      background-color: #434B5C;\n",
              "      box-shadow: 0px 1px 3px 1px rgba(0, 0, 0, 0.15);\n",
              "      filter: drop-shadow(0px 1px 2px rgba(0, 0, 0, 0.3));\n",
              "      fill: #FFFFFF;\n",
              "    }\n",
              "  </style>\n",
              "\n",
              "      <script>\n",
              "        const buttonEl =\n",
              "          document.querySelector('#df-090db95b-6d0d-478f-9568-792cc8d2161f button.colab-df-convert');\n",
              "        buttonEl.style.display =\n",
              "          google.colab.kernel.accessAllowed ? 'block' : 'none';\n",
              "\n",
              "        async function convertToInteractive(key) {\n",
              "          const element = document.querySelector('#df-090db95b-6d0d-478f-9568-792cc8d2161f');\n",
              "          const dataTable =\n",
              "            await google.colab.kernel.invokeFunction('convertToInteractive',\n",
              "                                                     [key], {});\n",
              "          if (!dataTable) return;\n",
              "\n",
              "          const docLinkHtml = 'Like what you see? Visit the ' +\n",
              "            '<a target=\"_blank\" href=https://colab.research.google.com/notebooks/data_table.ipynb>data table notebook</a>'\n",
              "            + ' to learn more about interactive tables.';\n",
              "          element.innerHTML = '';\n",
              "          dataTable['output_type'] = 'display_data';\n",
              "          await google.colab.output.renderOutput(dataTable, element);\n",
              "          const docLink = document.createElement('div');\n",
              "          docLink.innerHTML = docLinkHtml;\n",
              "          element.appendChild(docLink);\n",
              "        }\n",
              "      </script>\n",
              "    </div>\n",
              "  </div>\n",
              "  "
            ]
          },
          "metadata": {},
          "execution_count": 42
        }
      ]
    },
    {
      "cell_type": "code",
      "source": [
        "for i in ['season','holiday','workingday','weather','temp','atemp','humidity','windspeed']:\n",
        "  print(yulu_df[yulu_df['count']>=500][i].value_counts())\n",
        "  print('_____________')"
      ],
      "metadata": {
        "colab": {
          "base_uri": "https://localhost:8080/"
        },
        "id": "jZtxeobRAW0i",
        "outputId": "fb6b26f4-c6d3-4d54-a7fe-ed81bbd2bea1"
      },
      "execution_count": null,
      "outputs": [
        {
          "output_type": "stream",
          "name": "stdout",
          "text": [
            "2    282\n",
            "3    275\n",
            "4    188\n",
            "1     59\n",
            "Name: season, dtype: int64\n",
            "_____________\n",
            "0    789\n",
            "1     15\n",
            "Name: holiday, dtype: int64\n",
            "_____________\n",
            "1    566\n",
            "0    238\n",
            "Name: workingday, dtype: int64\n",
            "_____________\n",
            "1    622\n",
            "2    159\n",
            "3     23\n",
            "4      0\n",
            "Name: weather, dtype: int64\n",
            "_____________\n",
            "26.24    62\n",
            "31.16    56\n",
            "28.70    55\n",
            "29.52    44\n",
            "25.42    42\n",
            "24.60    42\n",
            "22.96    40\n",
            "30.34    40\n",
            "27.06    39\n",
            "32.80    37\n",
            "20.50    32\n",
            "22.14    27\n",
            "33.62    23\n",
            "21.32    22\n",
            "27.88    22\n",
            "17.22    21\n",
            "18.86    20\n",
            "31.98    17\n",
            "18.04    17\n",
            "13.12    15\n",
            "35.26    14\n",
            "23.78    14\n",
            "16.40    14\n",
            "34.44    13\n",
            "13.94    12\n",
            "15.58    11\n",
            "14.76     9\n",
            "12.30     7\n",
            "36.90     7\n",
            "19.68     7\n",
            "36.08     4\n",
            "9.84      4\n",
            "11.48     4\n",
            "37.72     4\n",
            "10.66     3\n",
            "9.02      2\n",
            "6.56      1\n",
            "8.20      1\n",
            "Name: temp, dtype: int64\n",
            "_____________\n",
            "31.060    125\n",
            "32.575     56\n",
            "31.820     45\n",
            "33.335     43\n",
            "26.515     40\n",
            "30.305     37\n",
            "34.850     35\n",
            "24.240     32\n",
            "35.605     28\n",
            "25.760     28\n",
            "34.090     25\n",
            "25.000     22\n",
            "21.210     21\n",
            "22.725     20\n",
            "36.365     20\n",
            "37.120     19\n",
            "37.880     18\n",
            "21.970     17\n",
            "27.275     15\n",
            "20.455     14\n",
            "39.395     11\n",
            "19.695     11\n",
            "29.545     11\n",
            "38.635     11\n",
            "40.150     11\n",
            "15.150     10\n",
            "16.665      9\n",
            "15.910      9\n",
            "14.395      8\n",
            "23.485      7\n",
            "28.790      6\n",
            "28.030      5\n",
            "40.910      5\n",
            "17.425      4\n",
            "12.120      4\n",
            "11.365      4\n",
            "12.880      4\n",
            "42.425      4\n",
            "18.180      3\n",
            "13.635      2\n",
            "18.940      2\n",
            "9.090       1\n",
            "41.665      1\n",
            "10.605      1\n",
            "Name: atemp, dtype: int64\n",
            "_____________\n",
            "36    27\n",
            "38    25\n",
            "37    24\n",
            "46    23\n",
            "41    22\n",
            "      ..\n",
            "17     1\n",
            "84     1\n",
            "80     1\n",
            "71     1\n",
            "93     1\n",
            "Name: humidity, Length: 74, dtype: int64\n",
            "_____________\n",
            "11.0014    89\n",
            "12.9980    86\n",
            "15.0013    78\n",
            "16.9979    77\n",
            "0.0000     73\n",
            "8.9981     68\n",
            "19.0012    62\n",
            "7.0015     55\n",
            "19.9995    51\n",
            "6.0032     38\n",
            "22.0028    27\n",
            "26.0027    25\n",
            "23.9994    25\n",
            "27.9993    17\n",
            "30.0026    10\n",
            "35.0008     9\n",
            "31.0009     6\n",
            "32.9975     3\n",
            "36.9974     2\n",
            "39.0007     2\n",
            "43.9989     1\n",
            "Name: windspeed, dtype: int64\n",
            "_____________\n"
          ]
        }
      ]
    },
    {
      "cell_type": "code",
      "source": [
        "for i in categorical_columns:\n",
        "  sns.countplot(yulu_df[i])\n",
        "  plt.show()"
      ],
      "metadata": {
        "colab": {
          "base_uri": "https://localhost:8080/",
          "height": 1000
        },
        "id": "8mRoVbak_5Ht",
        "outputId": "0da3ddaf-cb60-43a0-edcb-a44a6055d0d8"
      },
      "execution_count": null,
      "outputs": [
        {
          "output_type": "stream",
          "name": "stderr",
          "text": [
            "/usr/local/lib/python3.7/dist-packages/seaborn/_decorators.py:43: FutureWarning: Pass the following variable as a keyword arg: x. From version 0.12, the only valid positional argument will be `data`, and passing other arguments without an explicit keyword will result in an error or misinterpretation.\n",
            "  FutureWarning\n"
          ]
        },
        {
          "output_type": "display_data",
          "data": {
            "text/plain": [
              "<Figure size 432x288 with 1 Axes>"
            ],
            "image/png": "[encoded data removed]"
          },
          "metadata": {
            "needs_background": "light"
          }
        },
        {
          "output_type": "display_data",
          "data": {
            "text/plain": [
              "<Figure size 432x288 with 1 Axes>"
            ],
            "image/png": "[encoded data removed]"
          },
          "metadata": {
            "needs_background": "light"
          }
        },
        {
          "output_type": "display_data",
          "data": {
            "text/plain": [
              "<Figure size 432x288 with 1 Axes>"
            ],
            "image/png": "[encoded data removed]"
          },
          "metadata": {
            "needs_background": "light"
          }
        },
        {
          "output_type": "display_data",
          "data": {
            "text/plain": [
              "<Figure size 432x288 with 1 Axes>"
            ],
            "image/png": "[encoded data removed]"
          },
          "metadata": {
            "needs_background": "light"
          }
        }
      ]
    },
    {
      "cell_type": "markdown",
      "source": [
        "**Season category is having equal amount of instances and this is perfectly useful to apply chisquare test and working day or non holiday is more comapred to non working day and holiday. Among weathers 1 which is of normal is more compared to others**"
      ],
      "metadata": {
        "id": "v46M-3JbAGRT"
      }
    },
    {
      "cell_type": "code",
      "source": [
        "import matplotlib.pyplot as plt"
      ],
      "metadata": {
        "id": "ixDLGEevJDoa"
      },
      "execution_count": null,
      "outputs": []
    },
    {
      "cell_type": "code",
      "source": [
        "yulu_df.groupby(['season'])['count'].count()"
      ],
      "metadata": {
        "colab": {
          "base_uri": "https://localhost:8080/"
        },
        "id": "b59jJtDxJRdR",
        "outputId": "0cc514c6-c0cf-4031-d433-f9e9d8766a3a"
      },
      "execution_count": null,
      "outputs": [
        {
          "output_type": "execute_result",
          "data": {
            "text/plain": [
              "season\n",
              "1    2686\n",
              "2    2733\n",
              "3    2733\n",
              "4    2734\n",
              "Name: count, dtype: int64"
            ]
          },
          "metadata": {},
          "execution_count": 46
        }
      ]
    },
    {
      "cell_type": "markdown",
      "source": [
        "###c.Bivariate analysis"
      ],
      "metadata": {
        "id": "ra-62jy_zoEI"
      }
    },
    {
      "cell_type": "code",
      "source": [
        "for i in categorical_columns:\n",
        "  sns.boxplot(x=i,y='count',data=yulu_df,showmeans=True)\n",
        "  plt.show()"
      ],
      "metadata": {
        "colab": {
          "base_uri": "https://localhost:8080/",
          "height": 1000
        },
        "id": "0uNwBl98IK5b",
        "outputId": "06f4f5a7-cd21-439e-930c-3eeb4ed2c53a"
      },
      "execution_count": null,
      "outputs": [
        {
          "output_type": "display_data",
          "data": {
            "text/plain": [
              "<Figure size 432x288 with 1 Axes>"
            ],
            "image/png": "[encoded data removed]"
          },
          "metadata": {
            "needs_background": "light"
          }
        },
        {
          "output_type": "display_data",
          "data": {
            "text/plain": [
              "<Figure size 432x288 with 1 Axes>"
            ],
            "image/png": "[encoded data removed]"
          },
          "metadata": {
            "needs_background": "light"
          }
        },
        {
          "output_type": "display_data",
          "data": {
            "text/plain": [
              "<Figure size 432x288 with 1 Axes>"
            ],
            "image/png": "[encoded data removed]"
          },
          "metadata": {
            "needs_background": "light"
          }
        },
        {
          "output_type": "display_data",
          "data": {
            "text/plain": [
              "<Figure size 432x288 with 1 Axes>"
            ],
            "image/png": "[encoded data removed]"
          },
          "metadata": {
            "needs_background": "light"
          }
        }
      ]
    },
    {
      "cell_type": "code",
      "source": [
        "yulu_df.groupby(['season'])['count'].mean()"
      ],
      "metadata": {
        "colab": {
          "base_uri": "https://localhost:8080/"
        },
        "id": "pvU3AUfIgyNB",
        "outputId": "837ad103-57db-429b-f650-3a9e64410c52"
      },
      "execution_count": null,
      "outputs": [
        {
          "output_type": "execute_result",
          "data": {
            "text/plain": [
              "season\n",
              "1    116.343261\n",
              "2    215.251372\n",
              "3    234.417124\n",
              "4    198.988296\n",
              "Name: count, dtype: float64"
            ]
          },
          "metadata": {},
          "execution_count": 140
        }
      ]
    },
    {
      "cell_type": "code",
      "source": [
        "yulu_df.groupby(['weather'])['count'].mean()"
      ],
      "metadata": {
        "colab": {
          "base_uri": "https://localhost:8080/"
        },
        "id": "j8rZPAAkg27T",
        "outputId": "cd114ee9-eb6f-4ba2-89e2-dbb3abd262d3"
      },
      "execution_count": null,
      "outputs": [
        {
          "output_type": "execute_result",
          "data": {
            "text/plain": [
              "weather\n",
              "1    205.236791\n",
              "2    178.955540\n",
              "3    118.846333\n",
              "4    164.000000\n",
              "Name: count, dtype: float64"
            ]
          },
          "metadata": {},
          "execution_count": 141
        }
      ]
    },
    {
      "cell_type": "code",
      "source": [
        "yulu_df.groupby(['season','weather'])['count'].mean()"
      ],
      "metadata": {
        "colab": {
          "base_uri": "https://localhost:8080/"
        },
        "id": "02iiqQn9g-z1",
        "outputId": "66e8db17-a06c-435a-ada8-9cfd8fc9981a"
      },
      "execution_count": null,
      "outputs": [
        {
          "output_type": "execute_result",
          "data": {
            "text/plain": [
              "season  weather\n",
              "1       1          126.781694\n",
              "        2          106.861538\n",
              "        3           61.227488\n",
              "        4          164.000000\n",
              "2       1          236.729595\n",
              "        2          189.515537\n",
              "        3          123.906250\n",
              "        4                 NaN\n",
              "3       1          243.583420\n",
              "        2          230.771523\n",
              "        3          156.582915\n",
              "        4                 NaN\n",
              "4       1          209.511163\n",
              "        2          194.784387\n",
              "        3          134.466667\n",
              "        4                 NaN\n",
              "Name: count, dtype: float64"
            ]
          },
          "metadata": {},
          "execution_count": 142
        }
      ]
    },
    {
      "cell_type": "code",
      "source": [
        "yulu_df.groupby(['workingday'])['count'].mean()"
      ],
      "metadata": {
        "colab": {
          "base_uri": "https://localhost:8080/"
        },
        "id": "u05-Qeoeh4YO",
        "outputId": "d9265e03-b2c6-477d-d608-56330e44ca21"
      },
      "execution_count": null,
      "outputs": [
        {
          "output_type": "execute_result",
          "data": {
            "text/plain": [
              "workingday\n",
              "0    188.506621\n",
              "1    193.011873\n",
              "Name: count, dtype: float64"
            ]
          },
          "metadata": {},
          "execution_count": 143
        }
      ]
    },
    {
      "cell_type": "code",
      "source": [
        "yulu_df.groupby(['holiday'])['count'].mean()"
      ],
      "metadata": {
        "colab": {
          "base_uri": "https://localhost:8080/"
        },
        "id": "gwrKiXQRiFkH",
        "outputId": "14022b30-46cf-44bf-bc4a-37060cceac22"
      },
      "execution_count": null,
      "outputs": [
        {
          "output_type": "execute_result",
          "data": {
            "text/plain": [
              "holiday\n",
              "0    191.741655\n",
              "1    185.877814\n",
              "Name: count, dtype: float64"
            ]
          },
          "metadata": {},
          "execution_count": 144
        }
      ]
    },
    {
      "cell_type": "markdown",
      "source": [
        "###d.Insights based on EDA"
      ],
      "metadata": {
        "id": "KjDB5PBV0e-k"
      }
    },
    {
      "cell_type": "markdown",
      "source": [
        "**From the graph it depicts that count of rental bikes is more during weather 1 i.e Clear, Few clouds, partly cloudy**\n",
        "\n",
        "**Also rental bikes more during 1. fall followed by 2. summer and 3. winter and 4. spring at last**\n",
        "\n",
        "**The average rental bikes is almost same in categories of holiday and working day**\n",
        "\n",
        "**From distribution plot of count we can see that majority of rented vehicles falls under 0-20**\n",
        "\n"
      ],
      "metadata": {
        "id": "uvxNSpvboy98"
      }
    },
    {
      "cell_type": "markdown",
      "source": [
        "##2.Hypothesis Testing"
      ],
      "metadata": {
        "id": "yjt3VIPEtq14"
      }
    },
    {
      "cell_type": "markdown",
      "source": [
        "###a.2 sample t-test"
      ],
      "metadata": {
        "id": "y-lszxzFtzJ2"
      }
    },
    {
      "cell_type": "markdown",
      "source": [
        "We have to check whether working day has any effect or not on cycles rented "
      ],
      "metadata": {
        "id": "aCtRgDSwuD0u"
      }
    },
    {
      "cell_type": "code",
      "source": [
        "yulu_df.head(2)"
      ],
      "metadata": {
        "colab": {
          "base_uri": "https://localhost:8080/",
          "height": 112
        },
        "id": "1xjzlAG5uR8D",
        "outputId": "b2a09368-e175-4597-971c-80c55de0e279"
      },
      "execution_count": null,
      "outputs": [
        {
          "output_type": "execute_result",
          "data": {
            "text/plain": [
              "             datetime season holiday workingday weather  temp   atemp  \\\n",
              "0 2011-01-01 00:00:00      1       0          0       1  9.84  14.395   \n",
              "1 2011-01-01 01:00:00      1       0          0       1  9.02  13.635   \n",
              "\n",
              "   humidity  windspeed  casual  registered  count  \n",
              "0        81        0.0       3          13     16  \n",
              "1        80        0.0       8          32     40  "
            ],
            "text/html": [
              "\n",
              "  <div id=\"df-24b609f7-4336-4451-bc0d-723cbe115a6d\">\n",
              "    <div class=\"colab-df-container\">\n",
              "      <div>\n",
              "<style scoped>\n",
              "    .dataframe tbody tr th:only-of-type {\n",
              "        vertical-align: middle;\n",
              "    }\n",
              "\n",
              "    .dataframe tbody tr th {\n",
              "        vertical-align: top;\n",
              "    }\n",
              "\n",
              "    .dataframe thead th {\n",
              "        text-align: right;\n",
              "    }\n",
              "</style>\n",
              "<table border=\"1\" class=\"dataframe\">\n",
              "  <thead>\n",
              "    <tr style=\"text-align: right;\">\n",
              "      <th></th>\n",
              "      <th>datetime</th>\n",
              "      <th>season</th>\n",
              "      <th>holiday</th>\n",
              "      <th>workingday</th>\n",
              "      <th>weather</th>\n",
              "      <th>temp</th>\n",
              "      <th>atemp</th>\n",
              "      <th>humidity</th>\n",
              "      <th>windspeed</th>\n",
              "      <th>casual</th>\n",
              "      <th>registered</th>\n",
              "      <th>count</th>\n",
              "    </tr>\n",
              "  </thead>\n",
              "  <tbody>\n",
              "    <tr>\n",
              "      <th>0</th>\n",
              "      <td>2011-01-01 00:00:00</td>\n",
              "      <td>1</td>\n",
              "      <td>0</td>\n",
              "      <td>0</td>\n",
              "      <td>1</td>\n",
              "      <td>9.84</td>\n",
              "      <td>14.395</td>\n",
              "      <td>81</td>\n",
              "      <td>0.0</td>\n",
              "      <td>3</td>\n",
              "      <td>13</td>\n",
              "      <td>16</td>\n",
              "    </tr>\n",
              "    <tr>\n",
              "      <th>1</th>\n",
              "      <td>2011-01-01 01:00:00</td>\n",
              "      <td>1</td>\n",
              "      <td>0</td>\n",
              "      <td>0</td>\n",
              "      <td>1</td>\n",
              "      <td>9.02</td>\n",
              "      <td>13.635</td>\n",
              "      <td>80</td>\n",
              "      <td>0.0</td>\n",
              "      <td>8</td>\n",
              "      <td>32</td>\n",
              "      <td>40</td>\n",
              "    </tr>\n",
              "  </tbody>\n",
              "</table>\n",
              "</div>\n",
              "      <button class=\"colab-df-convert\" onclick=\"convertToInteractive('df-24b609f7-4336-4451-bc0d-723cbe115a6d')\"\n",
              "              title=\"Convert this dataframe to an interactive table.\"\n",
              "              style=\"display:none;\">\n",
              "        \n",
              "  <svg xmlns=\"http://www.w3.org/2000/svg\" height=\"24px\"viewBox=\"0 0 24 24\"\n",
              "       width=\"24px\">\n",
              "    <path d=\"M0 0h24v24H0V0z\" fill=\"none\"/>\n",
              "    <path d=\"M18.56 5.44l.94 2.06.94-2.06 2.06-.94-2.06-.94-.94-2.06-.94 2.06-2.06.94zm-11 1L8.5 8.5l.94-2.06 2.06-.94-2.06-.94L8.5 2.5l-.94 2.06-2.06.94zm10 10l.94 2.06.94-2.06 2.06-.94-2.06-.94-.94-2.06-.94 2.06-2.06.94z\"/><path d=\"M17.41 7.96l-1.37-1.37c-.4-.4-.92-.59-1.43-.59-.52 0-1.04.2-1.43.59L10.3 9.45l-7.72 7.72c-.78.78-.78 2.05 0 2.83L4 21.41c.39.39.9.59 1.41.59.51 0 1.02-.2 1.41-.59l7.78-7.78 2.81-2.81c.8-.78.8-2.07 0-2.86zM5.41 20L4 18.59l7.72-7.72 1.47 1.35L5.41 20z\"/>\n",
              "  </svg>\n",
              "      </button>\n",
              "      \n",
              "  <style>\n",
              "    .colab-df-container {\n",
              "      display:flex;\n",
              "      flex-wrap:wrap;\n",
              "      gap: 12px;\n",
              "    }\n",
              "\n",
              "    .colab-df-convert {\n",
              "      background-color: #E8F0FE;\n",
              "      border: none;\n",
              "      border-radius: 50%;\n",
              "      cursor: pointer;\n",
              "      display: none;\n",
              "      fill: #1967D2;\n",
              "      height: 32px;\n",
              "      padding: 0 0 0 0;\n",
              "      width: 32px;\n",
              "    }\n",
              "\n",
              "    .colab-df-convert:hover {\n",
              "      background-color: #E2EBFA;\n",
              "      box-shadow: 0px 1px 2px rgba(60, 64, 67, 0.3), 0px 1px 3px 1px rgba(60, 64, 67, 0.15);\n",
              "      fill: #174EA6;\n",
              "    }\n",
              "\n",
              "    [theme=dark] .colab-df-convert {\n",
              "      background-color: #3B4455;\n",
              "      fill: #D2E3FC;\n",
              "    }\n",
              "\n",
              "    [theme=dark] .colab-df-convert:hover {\n",
              "      background-color: #434B5C;\n",
              "      box-shadow: 0px 1px 3px 1px rgba(0, 0, 0, 0.15);\n",
              "      filter: drop-shadow(0px 1px 2px rgba(0, 0, 0, 0.3));\n",
              "      fill: #FFFFFF;\n",
              "    }\n",
              "  </style>\n",
              "\n",
              "      <script>\n",
              "        const buttonEl =\n",
              "          document.querySelector('#df-24b609f7-4336-4451-bc0d-723cbe115a6d button.colab-df-convert');\n",
              "        buttonEl.style.display =\n",
              "          google.colab.kernel.accessAllowed ? 'block' : 'none';\n",
              "\n",
              "        async function convertToInteractive(key) {\n",
              "          const element = document.querySelector('#df-24b609f7-4336-4451-bc0d-723cbe115a6d');\n",
              "          const dataTable =\n",
              "            await google.colab.kernel.invokeFunction('convertToInteractive',\n",
              "                                                     [key], {});\n",
              "          if (!dataTable) return;\n",
              "\n",
              "          const docLinkHtml = 'Like what you see? Visit the ' +\n",
              "            '<a target=\"_blank\" href=https://colab.research.google.com/notebooks/data_table.ipynb>data table notebook</a>'\n",
              "            + ' to learn more about interactive tables.';\n",
              "          element.innerHTML = '';\n",
              "          dataTable['output_type'] = 'display_data';\n",
              "          await google.colab.output.renderOutput(dataTable, element);\n",
              "          const docLink = document.createElement('div');\n",
              "          docLink.innerHTML = docLinkHtml;\n",
              "          element.appendChild(docLink);\n",
              "        }\n",
              "      </script>\n",
              "    </div>\n",
              "  </div>\n",
              "  "
            ]
          },
          "metadata": {},
          "execution_count": 48
        }
      ]
    },
    {
      "cell_type": "code",
      "source": [
        "yulu_df['workingday'].value_counts()"
      ],
      "metadata": {
        "colab": {
          "base_uri": "https://localhost:8080/"
        },
        "id": "D6iQtFRJt3Pf",
        "outputId": "64df811b-5aed-4ce8-8b19-cf1f0757ece5"
      },
      "execution_count": null,
      "outputs": [
        {
          "output_type": "execute_result",
          "data": {
            "text/plain": [
              "1    7412\n",
              "0    3474\n",
              "Name: workingday, dtype: int64"
            ]
          },
          "metadata": {},
          "execution_count": 49
        }
      ]
    },
    {
      "cell_type": "markdown",
      "source": [
        "**Assumptions**\n",
        "\n",
        "**If the samples are less than 30 then t-test would be the best to perform rather than z test**\n",
        "\n",
        "**As of now we have enough data in thousands and n is very large. So t test and z test almost would be the same**\n",
        "\n",
        "**t- test assumptions**\n",
        "\n",
        "**1. The populations should have finite mean and finite difference and in this problem the rented cycles and variance obviously be finite**\n",
        "\n",
        "**2.The 2 samples should be independent and here the working day and non working are independent as the one day is not effecting the other on rented cycles**\n"
      ],
      "metadata": {
        "id": "BhIr_XJHyqOl"
      }
    },
    {
      "cell_type": "markdown",
      "source": [
        "The samples n1 and n2 are different so select only 3474 samples of working day and 3474 samples of non working day for better accuracy as n is already large enough"
      ],
      "metadata": {
        "id": "Slq2OXLjuoCz"
      }
    },
    {
      "cell_type": "code",
      "source": [
        "yulu_df.describe()"
      ],
      "metadata": {
        "colab": {
          "base_uri": "https://localhost:8080/",
          "height": 300
        },
        "id": "Btj8KGtE2q6t",
        "outputId": "e1aa6852-78f3-454c-b922-d37ab4c35876"
      },
      "execution_count": null,
      "outputs": [
        {
          "output_type": "execute_result",
          "data": {
            "text/plain": [
              "              temp         atemp      humidity     windspeed        casual  \\\n",
              "count  10886.00000  10886.000000  10886.000000  10886.000000  10886.000000   \n",
              "mean      20.23086     23.655084     61.886460     12.799395     36.021955   \n",
              "std        7.79159      8.474601     19.245033      8.164537     49.960477   \n",
              "min        0.82000      0.760000      0.000000      0.000000      0.000000   \n",
              "25%       13.94000     16.665000     47.000000      7.001500      4.000000   \n",
              "50%       20.50000     24.240000     62.000000     12.998000     17.000000   \n",
              "75%       26.24000     31.060000     77.000000     16.997900     49.000000   \n",
              "max       41.00000     45.455000    100.000000     56.996900    367.000000   \n",
              "\n",
              "         registered         count  \n",
              "count  10886.000000  10886.000000  \n",
              "mean     155.552177    191.574132  \n",
              "std      151.039033    181.144454  \n",
              "min        0.000000      1.000000  \n",
              "25%       36.000000     42.000000  \n",
              "50%      118.000000    145.000000  \n",
              "75%      222.000000    284.000000  \n",
              "max      886.000000    977.000000  "
            ],
            "text/html": [
              "\n",
              "  <div id=\"df-a21cce1b-7c76-4d77-97f6-c270bdeb5cdb\">\n",
              "    <div class=\"colab-df-container\">\n",
              "      <div>\n",
              "<style scoped>\n",
              "    .dataframe tbody tr th:only-of-type {\n",
              "        vertical-align: middle;\n",
              "    }\n",
              "\n",
              "    .dataframe tbody tr th {\n",
              "        vertical-align: top;\n",
              "    }\n",
              "\n",
              "    .dataframe thead th {\n",
              "        text-align: right;\n",
              "    }\n",
              "</style>\n",
              "<table border=\"1\" class=\"dataframe\">\n",
              "  <thead>\n",
              "    <tr style=\"text-align: right;\">\n",
              "      <th></th>\n",
              "      <th>temp</th>\n",
              "      <th>atemp</th>\n",
              "      <th>humidity</th>\n",
              "      <th>windspeed</th>\n",
              "      <th>casual</th>\n",
              "      <th>registered</th>\n",
              "      <th>count</th>\n",
              "    </tr>\n",
              "  </thead>\n",
              "  <tbody>\n",
              "    <tr>\n",
              "      <th>count</th>\n",
              "      <td>10886.00000</td>\n",
              "      <td>10886.000000</td>\n",
              "      <td>10886.000000</td>\n",
              "      <td>10886.000000</td>\n",
              "      <td>10886.000000</td>\n",
              "      <td>10886.000000</td>\n",
              "      <td>10886.000000</td>\n",
              "    </tr>\n",
              "    <tr>\n",
              "      <th>mean</th>\n",
              "      <td>20.23086</td>\n",
              "      <td>23.655084</td>\n",
              "      <td>61.886460</td>\n",
              "      <td>12.799395</td>\n",
              "      <td>36.021955</td>\n",
              "      <td>155.552177</td>\n",
              "      <td>191.574132</td>\n",
              "    </tr>\n",
              "    <tr>\n",
              "      <th>std</th>\n",
              "      <td>7.79159</td>\n",
              "      <td>8.474601</td>\n",
              "      <td>19.245033</td>\n",
              "      <td>8.164537</td>\n",
              "      <td>49.960477</td>\n",
              "      <td>151.039033</td>\n",
              "      <td>181.144454</td>\n",
              "    </tr>\n",
              "    <tr>\n",
              "      <th>min</th>\n",
              "      <td>0.82000</td>\n",
              "      <td>0.760000</td>\n",
              "      <td>0.000000</td>\n",
              "      <td>0.000000</td>\n",
              "      <td>0.000000</td>\n",
              "      <td>0.000000</td>\n",
              "      <td>1.000000</td>\n",
              "    </tr>\n",
              "    <tr>\n",
              "      <th>25%</th>\n",
              "      <td>13.94000</td>\n",
              "      <td>16.665000</td>\n",
              "      <td>47.000000</td>\n",
              "      <td>7.001500</td>\n",
              "      <td>4.000000</td>\n",
              "      <td>36.000000</td>\n",
              "      <td>42.000000</td>\n",
              "    </tr>\n",
              "    <tr>\n",
              "      <th>50%</th>\n",
              "      <td>20.50000</td>\n",
              "      <td>24.240000</td>\n",
              "      <td>62.000000</td>\n",
              "      <td>12.998000</td>\n",
              "      <td>17.000000</td>\n",
              "      <td>118.000000</td>\n",
              "      <td>145.000000</td>\n",
              "    </tr>\n",
              "    <tr>\n",
              "      <th>75%</th>\n",
              "      <td>26.24000</td>\n",
              "      <td>31.060000</td>\n",
              "      <td>77.000000</td>\n",
              "      <td>16.997900</td>\n",
              "      <td>49.000000</td>\n",
              "      <td>222.000000</td>\n",
              "      <td>284.000000</td>\n",
              "    </tr>\n",
              "    <tr>\n",
              "      <th>max</th>\n",
              "      <td>41.00000</td>\n",
              "      <td>45.455000</td>\n",
              "      <td>100.000000</td>\n",
              "      <td>56.996900</td>\n",
              "      <td>367.000000</td>\n",
              "      <td>886.000000</td>\n",
              "      <td>977.000000</td>\n",
              "    </tr>\n",
              "  </tbody>\n",
              "</table>\n",
              "</div>\n",
              "      <button class=\"colab-df-convert\" onclick=\"convertToInteractive('df-a21cce1b-7c76-4d77-97f6-c270bdeb5cdb')\"\n",
              "              title=\"Convert this dataframe to an interactive table.\"\n",
              "              style=\"display:none;\">\n",
              "        \n",
              "  <svg xmlns=\"http://www.w3.org/2000/svg\" height=\"24px\"viewBox=\"0 0 24 24\"\n",
              "       width=\"24px\">\n",
              "    <path d=\"M0 0h24v24H0V0z\" fill=\"none\"/>\n",
              "    <path d=\"M18.56 5.44l.94 2.06.94-2.06 2.06-.94-2.06-.94-.94-2.06-.94 2.06-2.06.94zm-11 1L8.5 8.5l.94-2.06 2.06-.94-2.06-.94L8.5 2.5l-.94 2.06-2.06.94zm10 10l.94 2.06.94-2.06 2.06-.94-2.06-.94-.94-2.06-.94 2.06-2.06.94z\"/><path d=\"M17.41 7.96l-1.37-1.37c-.4-.4-.92-.59-1.43-.59-.52 0-1.04.2-1.43.59L10.3 9.45l-7.72 7.72c-.78.78-.78 2.05 0 2.83L4 21.41c.39.39.9.59 1.41.59.51 0 1.02-.2 1.41-.59l7.78-7.78 2.81-2.81c.8-.78.8-2.07 0-2.86zM5.41 20L4 18.59l7.72-7.72 1.47 1.35L5.41 20z\"/>\n",
              "  </svg>\n",
              "      </button>\n",
              "      \n",
              "  <style>\n",
              "    .colab-df-container {\n",
              "      display:flex;\n",
              "      flex-wrap:wrap;\n",
              "      gap: 12px;\n",
              "    }\n",
              "\n",
              "    .colab-df-convert {\n",
              "      background-color: #E8F0FE;\n",
              "      border: none;\n",
              "      border-radius: 50%;\n",
              "      cursor: pointer;\n",
              "      display: none;\n",
              "      fill: #1967D2;\n",
              "      height: 32px;\n",
              "      padding: 0 0 0 0;\n",
              "      width: 32px;\n",
              "    }\n",
              "\n",
              "    .colab-df-convert:hover {\n",
              "      background-color: #E2EBFA;\n",
              "      box-shadow: 0px 1px 2px rgba(60, 64, 67, 0.3), 0px 1px 3px 1px rgba(60, 64, 67, 0.15);\n",
              "      fill: #174EA6;\n",
              "    }\n",
              "\n",
              "    [theme=dark] .colab-df-convert {\n",
              "      background-color: #3B4455;\n",
              "      fill: #D2E3FC;\n",
              "    }\n",
              "\n",
              "    [theme=dark] .colab-df-convert:hover {\n",
              "      background-color: #434B5C;\n",
              "      box-shadow: 0px 1px 3px 1px rgba(0, 0, 0, 0.15);\n",
              "      filter: drop-shadow(0px 1px 2px rgba(0, 0, 0, 0.3));\n",
              "      fill: #FFFFFF;\n",
              "    }\n",
              "  </style>\n",
              "\n",
              "      <script>\n",
              "        const buttonEl =\n",
              "          document.querySelector('#df-a21cce1b-7c76-4d77-97f6-c270bdeb5cdb button.colab-df-convert');\n",
              "        buttonEl.style.display =\n",
              "          google.colab.kernel.accessAllowed ? 'block' : 'none';\n",
              "\n",
              "        async function convertToInteractive(key) {\n",
              "          const element = document.querySelector('#df-a21cce1b-7c76-4d77-97f6-c270bdeb5cdb');\n",
              "          const dataTable =\n",
              "            await google.colab.kernel.invokeFunction('convertToInteractive',\n",
              "                                                     [key], {});\n",
              "          if (!dataTable) return;\n",
              "\n",
              "          const docLinkHtml = 'Like what you see? Visit the ' +\n",
              "            '<a target=\"_blank\" href=https://colab.research.google.com/notebooks/data_table.ipynb>data table notebook</a>'\n",
              "            + ' to learn more about interactive tables.';\n",
              "          element.innerHTML = '';\n",
              "          dataTable['output_type'] = 'display_data';\n",
              "          await google.colab.output.renderOutput(dataTable, element);\n",
              "          const docLink = document.createElement('div');\n",
              "          docLink.innerHTML = docLinkHtml;\n",
              "          element.appendChild(docLink);\n",
              "        }\n",
              "      </script>\n",
              "    </div>\n",
              "  </div>\n",
              "  "
            ]
          },
          "metadata": {},
          "execution_count": 50
        }
      ]
    },
    {
      "cell_type": "markdown",
      "source": [
        "**So from the above stats it is clear that mean count of cycles rented is 191 and median is 145. But the max rented is 977. It is not an impossible count as in some cases it might happen and hence I consider it as not an outlier**"
      ],
      "metadata": {
        "id": "owq0O8xz2yzv"
      }
    },
    {
      "cell_type": "code",
      "source": [
        "sns.histplot(yulu_df['count'], bins=50)\n",
        "plt.show()"
      ],
      "metadata": {
        "colab": {
          "base_uri": "https://localhost:8080/",
          "height": 279
        },
        "id": "xNhP3dPw4B_p",
        "outputId": "4eaf853a-1436-4af4-a861-cc0eec21e965"
      },
      "execution_count": null,
      "outputs": [
        {
          "output_type": "display_data",
          "data": {
            "text/plain": [
              "<Figure size 432x288 with 1 Axes>"
            ],
            "image/png": "[encoded data removed]"
          },
          "metadata": {
            "needs_background": "light"
          }
        }
      ]
    },
    {
      "cell_type": "code",
      "source": [
        "working_day=yulu_df[yulu_df['workingday']==1]['count']\n",
        "non_working_day=yulu_df[yulu_df['workingday']==0]['count']"
      ],
      "metadata": {
        "id": "oKH-Qb5o1LDP"
      },
      "execution_count": null,
      "outputs": []
    },
    {
      "cell_type": "code",
      "source": [
        "working_day=np.array(working_day)\n",
        "non_working_day=np.array(non_working_day)"
      ],
      "metadata": {
        "id": "fxTDGwOl18pJ"
      },
      "execution_count": null,
      "outputs": []
    },
    {
      "cell_type": "markdown",
      "source": [
        "**So here in working day we are actually interested to find out the mean of rented cycles are equal or not on two different days(i.e working or non working). The sample sizes are also different and it varies in thousands and one sample size is 100% more than the other. For better accuracy consider only 3474 samples**"
      ],
      "metadata": {
        "id": "idVzbJHe3OSw"
      }
    },
    {
      "cell_type": "markdown",
      "source": [
        "Ho: Rented cycles are equal and has no effect of working day\n",
        "\n",
        "H1: Rented cycles are not equal and has effect of working day"
      ],
      "metadata": {
        "id": "9rLOa1GeaeN8"
      }
    },
    {
      "cell_type": "code",
      "source": [
        "working_day_n1=np.random.choice(working_day,3474,replace=True)\n",
        "working_day_n1"
      ],
      "metadata": {
        "colab": {
          "base_uri": "https://localhost:8080/"
        },
        "id": "DdF5tvwp5r1p",
        "outputId": "46d35a3c-c3ba-4ce4-85ce-34f1557775cc"
      },
      "execution_count": null,
      "outputs": [
        {
          "output_type": "execute_result",
          "data": {
            "text/plain": [
              "array([209, 633, 729, ...,  73, 173, 135])"
            ]
          },
          "metadata": {},
          "execution_count": 54
        }
      ]
    },
    {
      "cell_type": "code",
      "source": [
        "#2 sample T-Test\n",
        "dof = working_day_n1.shape[0] + non_working_day.shape[0] - 2\n",
        "dof"
      ],
      "metadata": {
        "colab": {
          "base_uri": "https://localhost:8080/"
        },
        "id": "6GF3k9Rv2k_9",
        "outputId": "4bb392fb-9f09-47f4-9741-3a8fac17e6e5"
      },
      "execution_count": null,
      "outputs": [
        {
          "output_type": "execute_result",
          "data": {
            "text/plain": [
              "6946"
            ]
          },
          "metadata": {},
          "execution_count": 55
        }
      ]
    },
    {
      "cell_type": "code",
      "source": [
        "diff_means = working_day_n1.mean() - non_working_day.mean()\n",
        "diff_means"
      ],
      "metadata": {
        "colab": {
          "base_uri": "https://localhost:8080/"
        },
        "id": "ATTK40VE2kzz",
        "outputId": "ff7efa75-4a82-49d2-d1b0-a27b702a2bae"
      },
      "execution_count": null,
      "outputs": [
        {
          "output_type": "execute_result",
          "data": {
            "text/plain": [
              "5.944444444444457"
            ]
          },
          "metadata": {},
          "execution_count": 56
        }
      ]
    },
    {
      "cell_type": "code",
      "source": [
        "from scipy import stats"
      ],
      "metadata": {
        "id": "081E9f9S6t_b"
      },
      "execution_count": null,
      "outputs": []
    },
    {
      "cell_type": "code",
      "source": [
        "#2 sample t-test\n",
        "stats.ttest_ind(working_day_n1, non_working_day)\n"
      ],
      "metadata": {
        "colab": {
          "base_uri": "https://localhost:8080/"
        },
        "id": "MR6vByy86gi0",
        "outputId": "bf54da7c-4fc3-4a38-c577-f785dd2b6dc6"
      },
      "execution_count": null,
      "outputs": [
        {
          "output_type": "execute_result",
          "data": {
            "text/plain": [
              "Ttest_indResult(statistic=1.3922533004245352, pvalue=0.16389027760832556)"
            ]
          },
          "metadata": {},
          "execution_count": 58
        }
      ]
    },
    {
      "cell_type": "markdown",
      "source": [
        "**So the test statistic value or p value is greater than the signficant value of 5% so we have to accept null hypothesis  that working day rented cycles == non working day rented cycles**"
      ],
      "metadata": {
        "id": "DaA4XN697AZb"
      }
    },
    {
      "cell_type": "markdown",
      "source": [
        "But while chosing it is random and sometimes the hypotheis depends on selection of data we chose"
      ],
      "metadata": {
        "id": "udBRWKRa94P9"
      }
    },
    {
      "cell_type": "markdown",
      "source": [
        "**Lets calculate with the working day samples of n1-7412 and non working day samples of n2-3474.**"
      ],
      "metadata": {
        "id": "oKy0e0RN76mf"
      }
    },
    {
      "cell_type": "code",
      "source": [
        "diff_means = working_day.mean() - non_working_day.mean()\n",
        "diff_means"
      ],
      "metadata": {
        "colab": {
          "base_uri": "https://localhost:8080/"
        },
        "id": "zeAlwiP774Gw",
        "outputId": "87176581-58ea-4c4b-fcda-58a6c53cb2cb"
      },
      "execution_count": null,
      "outputs": [
        {
          "output_type": "execute_result",
          "data": {
            "text/plain": [
              "4.505252028716285"
            ]
          },
          "metadata": {},
          "execution_count": 59
        }
      ]
    },
    {
      "cell_type": "code",
      "source": [
        "stats.ttest_ind(working_day, non_working_day)"
      ],
      "metadata": {
        "colab": {
          "base_uri": "https://localhost:8080/"
        },
        "id": "n4kAl9cL735L",
        "outputId": "8003267d-764b-4d2d-ea3b-61e8f6e69568"
      },
      "execution_count": null,
      "outputs": [
        {
          "output_type": "execute_result",
          "data": {
            "text/plain": [
              "Ttest_indResult(statistic=1.2096277376026694, pvalue=0.22644804226361348)"
            ]
          },
          "metadata": {},
          "execution_count": 60
        }
      ]
    },
    {
      "cell_type": "markdown",
      "source": [
        "**So the test statistic value or p value is greater than the signficant value of 5% so we have to accept null hypothesis that working day rented cycles == non working day rented cycles**"
      ],
      "metadata": {
        "id": "DzJxV_kQ8jor"
      }
    },
    {
      "cell_type": "code",
      "source": [
        "yulu_df['workingday'].value_counts()"
      ],
      "metadata": {
        "colab": {
          "base_uri": "https://localhost:8080/"
        },
        "id": "gBFNiwwS_cxH",
        "outputId": "67c72cf1-cb04-4a48-fca8-a132963e1acb"
      },
      "execution_count": null,
      "outputs": [
        {
          "output_type": "execute_result",
          "data": {
            "text/plain": [
              "1    7412\n",
              "0    3474\n",
              "Name: workingday, dtype: int64"
            ]
          },
          "metadata": {},
          "execution_count": 61
        }
      ]
    },
    {
      "cell_type": "code",
      "source": [
        "yulu_df.groupby(['workingday'])['count'].mean()"
      ],
      "metadata": {
        "colab": {
          "base_uri": "https://localhost:8080/"
        },
        "id": "Fylwi-12_rLd",
        "outputId": "1e3d4d2f-58f2-4be7-a3de-fa7895cdb654"
      },
      "execution_count": null,
      "outputs": [
        {
          "output_type": "execute_result",
          "data": {
            "text/plain": [
              "workingday\n",
              "0    188.506621\n",
              "1    193.011873\n",
              "Name: count, dtype: float64"
            ]
          },
          "metadata": {},
          "execution_count": 62
        }
      ]
    },
    {
      "cell_type": "markdown",
      "source": [
        "###b.chisquare test"
      ],
      "metadata": {
        "id": "S2htlXmJ-_VR"
      }
    },
    {
      "cell_type": "markdown",
      "source": [
        "**It is a non parametric test and there are no conditions particularly w.r.t to mean and standard deviation**"
      ],
      "metadata": {
        "id": "Cflr6iwEFNFs"
      }
    },
    {
      "cell_type": "markdown",
      "source": [
        "**To check weather is dependent or not with season**"
      ],
      "metadata": {
        "id": "ovRBq43TUAgj"
      }
    },
    {
      "cell_type": "code",
      "source": [
        "table=pd.crosstab(index=yulu_df['season'],columns=yulu_df['weather'])\n",
        "table"
      ],
      "metadata": {
        "colab": {
          "base_uri": "https://localhost:8080/",
          "height": 206
        },
        "id": "fJCkmkCa731F",
        "outputId": "3e197775-c001-490e-af22-1c68d37c2f11"
      },
      "execution_count": null,
      "outputs": [
        {
          "output_type": "execute_result",
          "data": {
            "text/plain": [
              "weather     1    2    3  4\n",
              "season                    \n",
              "1        1759  715  211  1\n",
              "2        1801  708  224  0\n",
              "3        1930  604  199  0\n",
              "4        1702  807  225  0"
            ],
            "text/html": [
              "\n",
              "  <div id=\"df-95047460-2c66-450b-9a44-06aa51392e9b\">\n",
              "    <div class=\"colab-df-container\">\n",
              "      <div>\n",
              "<style scoped>\n",
              "    .dataframe tbody tr th:only-of-type {\n",
              "        vertical-align: middle;\n",
              "    }\n",
              "\n",
              "    .dataframe tbody tr th {\n",
              "        vertical-align: top;\n",
              "    }\n",
              "\n",
              "    .dataframe thead th {\n",
              "        text-align: right;\n",
              "    }\n",
              "</style>\n",
              "<table border=\"1\" class=\"dataframe\">\n",
              "  <thead>\n",
              "    <tr style=\"text-align: right;\">\n",
              "      <th>weather</th>\n",
              "      <th>1</th>\n",
              "      <th>2</th>\n",
              "      <th>3</th>\n",
              "      <th>4</th>\n",
              "    </tr>\n",
              "    <tr>\n",
              "      <th>season</th>\n",
              "      <th></th>\n",
              "      <th></th>\n",
              "      <th></th>\n",
              "      <th></th>\n",
              "    </tr>\n",
              "  </thead>\n",
              "  <tbody>\n",
              "    <tr>\n",
              "      <th>1</th>\n",
              "      <td>1759</td>\n",
              "      <td>715</td>\n",
              "      <td>211</td>\n",
              "      <td>1</td>\n",
              "    </tr>\n",
              "    <tr>\n",
              "      <th>2</th>\n",
              "      <td>1801</td>\n",
              "      <td>708</td>\n",
              "      <td>224</td>\n",
              "      <td>0</td>\n",
              "    </tr>\n",
              "    <tr>\n",
              "      <th>3</th>\n",
              "      <td>1930</td>\n",
              "      <td>604</td>\n",
              "      <td>199</td>\n",
              "      <td>0</td>\n",
              "    </tr>\n",
              "    <tr>\n",
              "      <th>4</th>\n",
              "      <td>1702</td>\n",
              "      <td>807</td>\n",
              "      <td>225</td>\n",
              "      <td>0</td>\n",
              "    </tr>\n",
              "  </tbody>\n",
              "</table>\n",
              "</div>\n",
              "      <button class=\"colab-df-convert\" onclick=\"convertToInteractive('df-95047460-2c66-450b-9a44-06aa51392e9b')\"\n",
              "              title=\"Convert this dataframe to an interactive table.\"\n",
              "              style=\"display:none;\">\n",
              "        \n",
              "  <svg xmlns=\"http://www.w3.org/2000/svg\" height=\"24px\"viewBox=\"0 0 24 24\"\n",
              "       width=\"24px\">\n",
              "    <path d=\"M0 0h24v24H0V0z\" fill=\"none\"/>\n",
              "    <path d=\"M18.56 5.44l.94 2.06.94-2.06 2.06-.94-2.06-.94-.94-2.06-.94 2.06-2.06.94zm-11 1L8.5 8.5l.94-2.06 2.06-.94-2.06-.94L8.5 2.5l-.94 2.06-2.06.94zm10 10l.94 2.06.94-2.06 2.06-.94-2.06-.94-.94-2.06-.94 2.06-2.06.94z\"/><path d=\"M17.41 7.96l-1.37-1.37c-.4-.4-.92-.59-1.43-.59-.52 0-1.04.2-1.43.59L10.3 9.45l-7.72 7.72c-.78.78-.78 2.05 0 2.83L4 21.41c.39.39.9.59 1.41.59.51 0 1.02-.2 1.41-.59l7.78-7.78 2.81-2.81c.8-.78.8-2.07 0-2.86zM5.41 20L4 18.59l7.72-7.72 1.47 1.35L5.41 20z\"/>\n",
              "  </svg>\n",
              "      </button>\n",
              "      \n",
              "  <style>\n",
              "    .colab-df-container {\n",
              "      display:flex;\n",
              "      flex-wrap:wrap;\n",
              "      gap: 12px;\n",
              "    }\n",
              "\n",
              "    .colab-df-convert {\n",
              "      background-color: #E8F0FE;\n",
              "      border: none;\n",
              "      border-radius: 50%;\n",
              "      cursor: pointer;\n",
              "      display: none;\n",
              "      fill: #1967D2;\n",
              "      height: 32px;\n",
              "      padding: 0 0 0 0;\n",
              "      width: 32px;\n",
              "    }\n",
              "\n",
              "    .colab-df-convert:hover {\n",
              "      background-color: #E2EBFA;\n",
              "      box-shadow: 0px 1px 2px rgba(60, 64, 67, 0.3), 0px 1px 3px 1px rgba(60, 64, 67, 0.15);\n",
              "      fill: #174EA6;\n",
              "    }\n",
              "\n",
              "    [theme=dark] .colab-df-convert {\n",
              "      background-color: #3B4455;\n",
              "      fill: #D2E3FC;\n",
              "    }\n",
              "\n",
              "    [theme=dark] .colab-df-convert:hover {\n",
              "      background-color: #434B5C;\n",
              "      box-shadow: 0px 1px 3px 1px rgba(0, 0, 0, 0.15);\n",
              "      filter: drop-shadow(0px 1px 2px rgba(0, 0, 0, 0.3));\n",
              "      fill: #FFFFFF;\n",
              "    }\n",
              "  </style>\n",
              "\n",
              "      <script>\n",
              "        const buttonEl =\n",
              "          document.querySelector('#df-95047460-2c66-450b-9a44-06aa51392e9b button.colab-df-convert');\n",
              "        buttonEl.style.display =\n",
              "          google.colab.kernel.accessAllowed ? 'block' : 'none';\n",
              "\n",
              "        async function convertToInteractive(key) {\n",
              "          const element = document.querySelector('#df-95047460-2c66-450b-9a44-06aa51392e9b');\n",
              "          const dataTable =\n",
              "            await google.colab.kernel.invokeFunction('convertToInteractive',\n",
              "                                                     [key], {});\n",
              "          if (!dataTable) return;\n",
              "\n",
              "          const docLinkHtml = 'Like what you see? Visit the ' +\n",
              "            '<a target=\"_blank\" href=https://colab.research.google.com/notebooks/data_table.ipynb>data table notebook</a>'\n",
              "            + ' to learn more about interactive tables.';\n",
              "          element.innerHTML = '';\n",
              "          dataTable['output_type'] = 'display_data';\n",
              "          await google.colab.output.renderOutput(dataTable, element);\n",
              "          const docLink = document.createElement('div');\n",
              "          docLink.innerHTML = docLinkHtml;\n",
              "          element.appendChild(docLink);\n",
              "        }\n",
              "      </script>\n",
              "    </div>\n",
              "  </div>\n",
              "  "
            ]
          },
          "metadata": {},
          "execution_count": 63
        }
      ]
    },
    {
      "cell_type": "markdown",
      "source": [
        "Ho: weather is independent on the season\n",
        "\n",
        "H1: weather is not independent on the season"
      ],
      "metadata": {
        "id": "GjtwG1YGa2wt"
      }
    },
    {
      "cell_type": "code",
      "source": [
        "from scipy.stats import chi2_contingency"
      ],
      "metadata": {
        "id": "o6TKNPkRHmpg"
      },
      "execution_count": null,
      "outputs": []
    },
    {
      "cell_type": "code",
      "source": [
        "chi2_contingency(table, correction=False, lambda_=None)"
      ],
      "metadata": {
        "colab": {
          "base_uri": "https://localhost:8080/"
        },
        "id": "69jlvXCzIxW6",
        "outputId": "49eee156-2945-4141-ed1c-b63818b19afa"
      },
      "execution_count": null,
      "outputs": [
        {
          "output_type": "execute_result",
          "data": {
            "text/plain": [
              "(49.158655596893624,\n",
              " 1.549925073686492e-07,\n",
              " 9,\n",
              " array([[1.77454639e+03, 6.99258130e+02, 2.11948742e+02, 2.46738931e-01],\n",
              "        [1.80559765e+03, 7.11493845e+02, 2.15657450e+02, 2.51056403e-01],\n",
              "        [1.80559765e+03, 7.11493845e+02, 2.15657450e+02, 2.51056403e-01],\n",
              "        [1.80625831e+03, 7.11754180e+02, 2.15736359e+02, 2.51148264e-01]]))"
            ]
          },
          "metadata": {},
          "execution_count": 65
        }
      ]
    },
    {
      "cell_type": "markdown",
      "source": [
        "**SO, from the above table the p value is very less than significance level and thus we can reject null hypothesis ( which is independent) and have to accept alternate hypothesis. Hence we can say that weather and season are dependent**"
      ],
      "metadata": {
        "id": "C0ltjAmSJ-BN"
      }
    },
    {
      "cell_type": "code",
      "source": [
        "# table=pd.crosstab(index=yulu_df['season'],columns=yulu_df['weather'],values=yulu_df['count'],aggfunc=np.sum)\n",
        "# table"
      ],
      "metadata": {
        "id": "y-q-YM0cXV4x"
      },
      "execution_count": null,
      "outputs": []
    },
    {
      "cell_type": "code",
      "source": [
        "# chi2_contingency(table, correction=False, lambda_=None)"
      ],
      "metadata": {
        "id": "Ab9RHFfNXiPh"
      },
      "execution_count": null,
      "outputs": []
    },
    {
      "cell_type": "markdown",
      "source": [
        "###c.Annova"
      ],
      "metadata": {
        "id": "AGjzZEsMKu9y"
      }
    },
    {
      "cell_type": "markdown",
      "source": [
        "**To check no.of cycles rented is similar or not w.r.t season and weather**"
      ],
      "metadata": {
        "id": "PObGGQ4FM4i1"
      }
    },
    {
      "cell_type": "markdown",
      "source": [
        "####a.Season"
      ],
      "metadata": {
        "id": "WrYw06GAmBG7"
      }
    },
    {
      "cell_type": "markdown",
      "source": [
        "**Assumptions**"
      ],
      "metadata": {
        "id": "AmGwPFN0bMqh"
      }
    },
    {
      "cell_type": "markdown",
      "source": [
        "**The samples should be drawn from a normal distributed population**\n",
        "\n",
        "**The group or sample variances must be same**\n",
        "\n",
        "**All samples drawn are independent of each other**"
      ],
      "metadata": {
        "id": "D1tm_mIsbSO4"
      }
    },
    {
      "cell_type": "code",
      "source": [
        "yulu_df.columns"
      ],
      "metadata": {
        "colab": {
          "base_uri": "https://localhost:8080/"
        },
        "id": "FPGQLN24O1Kl",
        "outputId": "2d372128-8a83-4a39-f08c-2b841ef143b9"
      },
      "execution_count": null,
      "outputs": [
        {
          "output_type": "execute_result",
          "data": {
            "text/plain": [
              "Index(['datetime', 'season', 'holiday', 'workingday', 'weather', 'temp',\n",
              "       'atemp', 'humidity', 'windspeed', 'casual', 'registered', 'count'],\n",
              "      dtype='object')"
            ]
          },
          "metadata": {},
          "execution_count": 68
        }
      ]
    },
    {
      "cell_type": "code",
      "source": [
        "sample_1=np.array(yulu_df[yulu_df['season']==1]['count'])\n",
        "sample_1"
      ],
      "metadata": {
        "colab": {
          "base_uri": "https://localhost:8080/"
        },
        "id": "7TD8AusYTd2d",
        "outputId": "419fd91d-696d-4701-b539-ccc00ba16f1c"
      },
      "execution_count": null,
      "outputs": [
        {
          "output_type": "execute_result",
          "data": {
            "text/plain": [
              "array([ 16,  40,  32, ..., 223, 148,  54])"
            ]
          },
          "metadata": {},
          "execution_count": 69
        }
      ]
    },
    {
      "cell_type": "code",
      "source": [
        "sample_2=np.array(yulu_df[yulu_df['season']==2]['count'])\n",
        "sample_2"
      ],
      "metadata": {
        "colab": {
          "base_uri": "https://localhost:8080/"
        },
        "id": "ioAJ0OLcVNYr",
        "outputId": "a0367e66-7c27-429c-eb33-1e082f1c4d8f"
      },
      "execution_count": null,
      "outputs": [
        {
          "output_type": "execute_result",
          "data": {
            "text/plain": [
              "array([  6,   4,   7, ..., 276, 291, 125])"
            ]
          },
          "metadata": {},
          "execution_count": 70
        }
      ]
    },
    {
      "cell_type": "code",
      "source": [
        "sample_3=np.array(yulu_df[yulu_df['season']==3]['count'])\n",
        "sample_3"
      ],
      "metadata": {
        "colab": {
          "base_uri": "https://localhost:8080/"
        },
        "id": "ZGG9M9PqVRGp",
        "outputId": "4dc50075-9d96-47b6-b311-80bd5c2bcc9d"
      },
      "execution_count": null,
      "outputs": [
        {
          "output_type": "execute_result",
          "data": {
            "text/plain": [
              "array([ 68,  31,  13, ..., 349, 229, 123])"
            ]
          },
          "metadata": {},
          "execution_count": 71
        }
      ]
    },
    {
      "cell_type": "code",
      "source": [
        "sample_4=np.array(yulu_df[yulu_df['season']==4]['count'])\n",
        "sample_4"
      ],
      "metadata": {
        "colab": {
          "base_uri": "https://localhost:8080/"
        },
        "id": "ch8yWiahVWZ2",
        "outputId": "e3e206df-1bd3-4724-d050-e365fa433323"
      },
      "execution_count": null,
      "outputs": [
        {
          "output_type": "execute_result",
          "data": {
            "text/plain": [
              "array([130,  58,  67, ..., 168, 129,  88])"
            ]
          },
          "metadata": {},
          "execution_count": 72
        }
      ]
    },
    {
      "cell_type": "code",
      "source": [
        "sample_1.mean(),sample_2.mean(),sample_3.mean(),sample_4.mean()"
      ],
      "metadata": {
        "colab": {
          "base_uri": "https://localhost:8080/"
        },
        "id": "3qgd_7cEVaUw",
        "outputId": "39110cad-3956-4e37-fdce-7771aa494ca5"
      },
      "execution_count": null,
      "outputs": [
        {
          "output_type": "execute_result",
          "data": {
            "text/plain": [
              "(116.34326135517499, 215.25137211855105, 234.417124039517, 198.98829553767374)"
            ]
          },
          "metadata": {},
          "execution_count": 73
        }
      ]
    },
    {
      "cell_type": "code",
      "source": [
        "sample_1.std(),sample_2.std(),sample_3.std(),sample_4.std()"
      ],
      "metadata": {
        "colab": {
          "base_uri": "https://localhost:8080/"
        },
        "id": "lX6QK7I5Vjjm",
        "outputId": "948e3e84-eb2b-48fc-ec58-392dafd3b35a"
      },
      "execution_count": null,
      "outputs": [
        {
          "output_type": "execute_result",
          "data": {
            "text/plain": [
              "(125.25065191566085, 191.97271225178454, 197.1149286308142, 177.58992243548823)"
            ]
          },
          "metadata": {},
          "execution_count": 74
        }
      ]
    },
    {
      "cell_type": "markdown",
      "source": [
        "**The variances are in the same scale and roughly equal**"
      ],
      "metadata": {
        "id": "E2eMpldwVuoS"
      }
    },
    {
      "cell_type": "code",
      "source": [
        "yulu_df['season'].value_counts()"
      ],
      "metadata": {
        "colab": {
          "base_uri": "https://localhost:8080/"
        },
        "id": "8YVPXS6pctVA",
        "outputId": "4469a4e1-ca88-4840-cb52-82a6b35e2b04"
      },
      "execution_count": null,
      "outputs": [
        {
          "output_type": "execute_result",
          "data": {
            "text/plain": [
              "4    2734\n",
              "2    2733\n",
              "3    2733\n",
              "1    2686\n",
              "Name: season, dtype: int64"
            ]
          },
          "metadata": {},
          "execution_count": 75
        }
      ]
    },
    {
      "cell_type": "markdown",
      "source": [
        "**The n should be same for all groups or seasons and it is almost same**"
      ],
      "metadata": {
        "id": "uTjjf4JRd1Cg"
      }
    },
    {
      "cell_type": "markdown",
      "source": [
        "**Are the samples are following gaussian distribution?**"
      ],
      "metadata": {
        "id": "0TIqYAbTWMFE"
      }
    },
    {
      "cell_type": "code",
      "source": [
        "import math"
      ],
      "metadata": {
        "id": "NWRrF12YWyj1"
      },
      "execution_count": null,
      "outputs": []
    },
    {
      "cell_type": "code",
      "source": [
        "plt.hist(sample_1,bins=100)\n",
        "plt.show()"
      ],
      "metadata": {
        "colab": {
          "base_uri": "https://localhost:8080/",
          "height": 265
        },
        "id": "LfIEhXJZVuHL",
        "outputId": "e3f5cf23-7e8d-4fa8-fe6e-f750b7297ffa"
      },
      "execution_count": null,
      "outputs": [
        {
          "output_type": "display_data",
          "data": {
            "text/plain": [
              "<Figure size 432x288 with 1 Axes>"
            ],
            "image/png": "[encoded data removed]"
          },
          "metadata": {
            "needs_background": "light"
          }
        }
      ]
    },
    {
      "cell_type": "code",
      "source": [
        "plt.hist(sample_2,bins=100)\n",
        "plt.show()"
      ],
      "metadata": {
        "colab": {
          "base_uri": "https://localhost:8080/",
          "height": 265
        },
        "id": "lP6mnepuWtzB",
        "outputId": "476706ef-57b1-4b3d-9358-e0f4e70a7b2f"
      },
      "execution_count": null,
      "outputs": [
        {
          "output_type": "display_data",
          "data": {
            "text/plain": [
              "<Figure size 432x288 with 1 Axes>"
            ],
            "image/png": "[encoded data removed]"
          },
          "metadata": {
            "needs_background": "light"
          }
        }
      ]
    },
    {
      "cell_type": "code",
      "source": [
        "plt.hist(sample_3,bins=100)\n",
        "plt.show()"
      ],
      "metadata": {
        "colab": {
          "base_uri": "https://localhost:8080/",
          "height": 265
        },
        "id": "J1FZR0-DXDKz",
        "outputId": "2fff819b-862f-4f10-d040-340419601d39"
      },
      "execution_count": null,
      "outputs": [
        {
          "output_type": "display_data",
          "data": {
            "text/plain": [
              "<Figure size 432x288 with 1 Axes>"
            ],
            "image/png": "[encoded data removed]"
          },
          "metadata": {
            "needs_background": "light"
          }
        }
      ]
    },
    {
      "cell_type": "code",
      "source": [
        "plt.hist(sample_4,bins=100)\n",
        "plt.show()"
      ],
      "metadata": {
        "colab": {
          "base_uri": "https://localhost:8080/",
          "height": 267
        },
        "id": "1LmOPpULXHzo",
        "outputId": "e194ec8c-5788-476c-94dc-2959d4570cb3"
      },
      "execution_count": null,
      "outputs": [
        {
          "output_type": "display_data",
          "data": {
            "text/plain": [
              "<Figure size 432x288 with 1 Axes>"
            ],
            "image/png": "[encoded data removed]"
          },
          "metadata": {
            "needs_background": "light"
          }
        }
      ]
    },
    {
      "cell_type": "markdown",
      "source": [
        "**As it is not following gaussian distribution, please try to apply transformations**"
      ],
      "metadata": {
        "id": "b89MBG2tFxmp"
      }
    },
    {
      "cell_type": "code",
      "source": [
        "fitted_data_1, fitted_lambda_1 = stats.boxcox(sample_1)\n",
        "plt.hist(fitted_data_1,bins=100)\n",
        "plt.show()"
      ],
      "metadata": {
        "id": "OXmFoZf2Y7Lx",
        "colab": {
          "base_uri": "https://localhost:8080/",
          "height": 267
        },
        "outputId": "73925a36-7bea-4ef3-ea2d-aa38a023ebb3"
      },
      "execution_count": null,
      "outputs": [
        {
          "output_type": "display_data",
          "data": {
            "text/plain": [
              "<Figure size 432x288 with 1 Axes>"
            ],
            "image/png": "[encoded data removed]"
          },
          "metadata": {
            "needs_background": "light"
          }
        }
      ]
    },
    {
      "cell_type": "code",
      "source": [
        "import statsmodels.api as sm\n",
        "fig = sm.qqplot(fitted_data_1, line='45', fit=True)\n",
        "plt.grid()"
      ],
      "metadata": {
        "colab": {
          "base_uri": "https://localhost:8080/",
          "height": 334
        },
        "id": "UpGtQck1aP-W",
        "outputId": "ab741fcd-8a3e-42e0-d467-c34dfe1c5a3f"
      },
      "execution_count": null,
      "outputs": [
        {
          "output_type": "stream",
          "name": "stderr",
          "text": [
            "/usr/local/lib/python3.7/dist-packages/statsmodels/tools/_testing.py:19: FutureWarning: pandas.util.testing is deprecated. Use the functions in the public API at pandas.testing instead.\n",
            "  import pandas.util.testing as tm\n"
          ]
        },
        {
          "output_type": "display_data",
          "data": {
            "text/plain": [
              "<Figure size 432x288 with 1 Axes>"
            ],
            "image/png": "[encoded data removed]"
          },
          "metadata": {
            "needs_background": "light"
          }
        }
      ]
    },
    {
      "cell_type": "code",
      "source": [
        "fitted_data_2, fitted_lambda_2 = stats.boxcox(sample_2)\n",
        "plt.hist(fitted_data_2,bins=100)\n",
        "plt.show()"
      ],
      "metadata": {
        "colab": {
          "base_uri": "https://localhost:8080/",
          "height": 265
        },
        "id": "v-f6DO1RZZqq",
        "outputId": "05ec9150-71ae-434f-909e-7fee2bad12cc"
      },
      "execution_count": null,
      "outputs": [
        {
          "output_type": "display_data",
          "data": {
            "text/plain": [
              "<Figure size 432x288 with 1 Axes>"
            ],
            "image/png": "[encoded data removed]"
          },
          "metadata": {
            "needs_background": "light"
          }
        }
      ]
    },
    {
      "cell_type": "code",
      "source": [
        "fitted_data_3, fitted_lambda_3 = stats.boxcox(sample_3)\n",
        "plt.hist(fitted_data_3,bins=100)\n",
        "plt.show()"
      ],
      "metadata": {
        "colab": {
          "base_uri": "https://localhost:8080/",
          "height": 265
        },
        "id": "f6mPdOtdZmK3",
        "outputId": "e6cb6337-e2b5-42ca-bba6-ddc9ca145730"
      },
      "execution_count": null,
      "outputs": [
        {
          "output_type": "display_data",
          "data": {
            "text/plain": [
              "<Figure size 432x288 with 1 Axes>"
            ],
            "image/png": "[encoded data removed]"
          },
          "metadata": {
            "needs_background": "light"
          }
        }
      ]
    },
    {
      "cell_type": "code",
      "source": [
        "fitted_data_4, fitted_lambda_4 = stats.boxcox(sample_4)\n",
        "plt.hist(fitted_data_4,bins=100)\n",
        "plt.show()"
      ],
      "metadata": {
        "colab": {
          "base_uri": "https://localhost:8080/",
          "height": 265
        },
        "id": "AZ1k5LiMZqvN",
        "outputId": "08c4683c-5c74-46b2-802a-35029b133f97"
      },
      "execution_count": null,
      "outputs": [
        {
          "output_type": "display_data",
          "data": {
            "text/plain": [
              "<Figure size 432x288 with 1 Axes>"
            ],
            "image/png": "[encoded data removed]"
          },
          "metadata": {
            "needs_background": "light"
          }
        }
      ]
    },
    {
      "cell_type": "markdown",
      "source": [
        "**Even after applying box cox transformation also the non normal is not transformed into normal distribution**"
      ],
      "metadata": {
        "id": "09Y5f_KJegP5"
      }
    },
    {
      "cell_type": "markdown",
      "source": [
        "**Actualy , there were no outliers but just eliminate as per IQR and lets try by removing values beyond IQR range**"
      ],
      "metadata": {
        "id": "lFv7jzeJe7tL"
      }
    },
    {
      "cell_type": "code",
      "source": [
        "yulu_df['count'].describe()"
      ],
      "metadata": {
        "colab": {
          "base_uri": "https://localhost:8080/"
        },
        "id": "Bbc3fKoCeC3l",
        "outputId": "17e5baaa-0446-4c2b-ad63-3e3a62ffa18b"
      },
      "execution_count": null,
      "outputs": [
        {
          "output_type": "execute_result",
          "data": {
            "text/plain": [
              "count    10886.000000\n",
              "mean       191.574132\n",
              "std        181.144454\n",
              "min          1.000000\n",
              "25%         42.000000\n",
              "50%        145.000000\n",
              "75%        284.000000\n",
              "max        977.000000\n",
              "Name: count, dtype: float64"
            ]
          },
          "metadata": {},
          "execution_count": 86
        }
      ]
    },
    {
      "cell_type": "code",
      "source": [
        "q1=np.percentile(yulu_df['count'],25)\n",
        "q3=np.percentile(yulu_df['count'],75)\n",
        "q1,q3"
      ],
      "metadata": {
        "colab": {
          "base_uri": "https://localhost:8080/"
        },
        "id": "b8XgIRXPfFLq",
        "outputId": "a7269332-69de-477e-bede-7e405153029d"
      },
      "execution_count": null,
      "outputs": [
        {
          "output_type": "execute_result",
          "data": {
            "text/plain": [
              "(42.0, 284.0)"
            ]
          },
          "metadata": {},
          "execution_count": 87
        }
      ]
    },
    {
      "cell_type": "code",
      "source": [
        "IQR=q3-q1\n",
        "lower_limit=q1-1.5*IQR\n",
        "upper_limit=q3+1.5*IQR\n",
        "lower_limit,upper_limit"
      ],
      "metadata": {
        "colab": {
          "base_uri": "https://localhost:8080/"
        },
        "id": "XHoUR57YfFI1",
        "outputId": "8e2531c1-70bd-4843-f24c-c5af8a8dcf8a"
      },
      "execution_count": null,
      "outputs": [
        {
          "output_type": "execute_result",
          "data": {
            "text/plain": [
              "(-321.0, 647.0)"
            ]
          },
          "metadata": {},
          "execution_count": 88
        }
      ]
    },
    {
      "cell_type": "code",
      "source": [
        "yulu_df_new=yulu_df[yulu_df['count']<647]\n",
        "yulu_df_new"
      ],
      "metadata": {
        "colab": {
          "base_uri": "https://localhost:8080/",
          "height": 424
        },
        "id": "gsCUvh72fFFb",
        "outputId": "739f834e-3f72-4e04-d319-04fefa6b545e"
      },
      "execution_count": null,
      "outputs": [
        {
          "output_type": "execute_result",
          "data": {
            "text/plain": [
              "                 datetime season holiday workingday weather   temp   atemp  \\\n",
              "0     2011-01-01 00:00:00      1       0          0       1   9.84  14.395   \n",
              "1     2011-01-01 01:00:00      1       0          0       1   9.02  13.635   \n",
              "2     2011-01-01 02:00:00      1       0          0       1   9.02  13.635   \n",
              "3     2011-01-01 03:00:00      1       0          0       1   9.84  14.395   \n",
              "4     2011-01-01 04:00:00      1       0          0       1   9.84  14.395   \n",
              "...                   ...    ...     ...        ...     ...    ...     ...   \n",
              "10881 2012-12-19 19:00:00      4       0          1       1  15.58  19.695   \n",
              "10882 2012-12-19 20:00:00      4       0          1       1  14.76  17.425   \n",
              "10883 2012-12-19 21:00:00      4       0          1       1  13.94  15.910   \n",
              "10884 2012-12-19 22:00:00      4       0          1       1  13.94  17.425   \n",
              "10885 2012-12-19 23:00:00      4       0          1       1  13.12  16.665   \n",
              "\n",
              "       humidity  windspeed  casual  registered  count  \n",
              "0            81     0.0000       3          13     16  \n",
              "1            80     0.0000       8          32     40  \n",
              "2            80     0.0000       5          27     32  \n",
              "3            75     0.0000       3          10     13  \n",
              "4            75     0.0000       0           1      1  \n",
              "...         ...        ...     ...         ...    ...  \n",
              "10881        50    26.0027       7         329    336  \n",
              "10882        57    15.0013      10         231    241  \n",
              "10883        61    15.0013       4         164    168  \n",
              "10884        61     6.0032      12         117    129  \n",
              "10885        66     8.9981       4          84     88  \n",
              "\n",
              "[10583 rows x 12 columns]"
            ],
            "text/html": [
              "\n",
              "  <div id=\"df-f75f077b-fccb-48ee-b24c-6b21f02ceb86\">\n",
              "    <div class=\"colab-df-container\">\n",
              "      <div>\n",
              "<style scoped>\n",
              "    .dataframe tbody tr th:only-of-type {\n",
              "        vertical-align: middle;\n",
              "    }\n",
              "\n",
              "    .dataframe tbody tr th {\n",
              "        vertical-align: top;\n",
              "    }\n",
              "\n",
              "    .dataframe thead th {\n",
              "        text-align: right;\n",
              "    }\n",
              "</style>\n",
              "<table border=\"1\" class=\"dataframe\">\n",
              "  <thead>\n",
              "    <tr style=\"text-align: right;\">\n",
              "      <th></th>\n",
              "      <th>datetime</th>\n",
              "      <th>season</th>\n",
              "      <th>holiday</th>\n",
              "      <th>workingday</th>\n",
              "      <th>weather</th>\n",
              "      <th>temp</th>\n",
              "      <th>atemp</th>\n",
              "      <th>humidity</th>\n",
              "      <th>windspeed</th>\n",
              "      <th>casual</th>\n",
              "      <th>registered</th>\n",
              "      <th>count</th>\n",
              "    </tr>\n",
              "  </thead>\n",
              "  <tbody>\n",
              "    <tr>\n",
              "      <th>0</th>\n",
              "      <td>2011-01-01 00:00:00</td>\n",
              "      <td>1</td>\n",
              "      <td>0</td>\n",
              "      <td>0</td>\n",
              "      <td>1</td>\n",
              "      <td>9.84</td>\n",
              "      <td>14.395</td>\n",
              "      <td>81</td>\n",
              "      <td>0.0000</td>\n",
              "      <td>3</td>\n",
              "      <td>13</td>\n",
              "      <td>16</td>\n",
              "    </tr>\n",
              "    <tr>\n",
              "      <th>1</th>\n",
              "      <td>2011-01-01 01:00:00</td>\n",
              "      <td>1</td>\n",
              "      <td>0</td>\n",
              "      <td>0</td>\n",
              "      <td>1</td>\n",
              "      <td>9.02</td>\n",
              "      <td>13.635</td>\n",
              "      <td>80</td>\n",
              "      <td>0.0000</td>\n",
              "      <td>8</td>\n",
              "      <td>32</td>\n",
              "      <td>40</td>\n",
              "    </tr>\n",
              "    <tr>\n",
              "      <th>2</th>\n",
              "      <td>2011-01-01 02:00:00</td>\n",
              "      <td>1</td>\n",
              "      <td>0</td>\n",
              "      <td>0</td>\n",
              "      <td>1</td>\n",
              "      <td>9.02</td>\n",
              "      <td>13.635</td>\n",
              "      <td>80</td>\n",
              "      <td>0.0000</td>\n",
              "      <td>5</td>\n",
              "      <td>27</td>\n",
              "      <td>32</td>\n",
              "    </tr>\n",
              "    <tr>\n",
              "      <th>3</th>\n",
              "      <td>2011-01-01 03:00:00</td>\n",
              "      <td>1</td>\n",
              "      <td>0</td>\n",
              "      <td>0</td>\n",
              "      <td>1</td>\n",
              "      <td>9.84</td>\n",
              "      <td>14.395</td>\n",
              "      <td>75</td>\n",
              "      <td>0.0000</td>\n",
              "      <td>3</td>\n",
              "      <td>10</td>\n",
              "      <td>13</td>\n",
              "    </tr>\n",
              "    <tr>\n",
              "      <th>4</th>\n",
              "      <td>2011-01-01 04:00:00</td>\n",
              "      <td>1</td>\n",
              "      <td>0</td>\n",
              "      <td>0</td>\n",
              "      <td>1</td>\n",
              "      <td>9.84</td>\n",
              "      <td>14.395</td>\n",
              "      <td>75</td>\n",
              "      <td>0.0000</td>\n",
              "      <td>0</td>\n",
              "      <td>1</td>\n",
              "      <td>1</td>\n",
              "    </tr>\n",
              "    <tr>\n",
              "      <th>...</th>\n",
              "      <td>...</td>\n",
              "      <td>...</td>\n",
              "      <td>...</td>\n",
              "      <td>...</td>\n",
              "      <td>...</td>\n",
              "      <td>...</td>\n",
              "      <td>...</td>\n",
              "      <td>...</td>\n",
              "      <td>...</td>\n",
              "      <td>...</td>\n",
              "      <td>...</td>\n",
              "      <td>...</td>\n",
              "    </tr>\n",
              "    <tr>\n",
              "      <th>10881</th>\n",
              "      <td>2012-12-19 19:00:00</td>\n",
              "      <td>4</td>\n",
              "      <td>0</td>\n",
              "      <td>1</td>\n",
              "      <td>1</td>\n",
              "      <td>15.58</td>\n",
              "      <td>19.695</td>\n",
              "      <td>50</td>\n",
              "      <td>26.0027</td>\n",
              "      <td>7</td>\n",
              "      <td>329</td>\n",
              "      <td>336</td>\n",
              "    </tr>\n",
              "    <tr>\n",
              "      <th>10882</th>\n",
              "      <td>2012-12-19 20:00:00</td>\n",
              "      <td>4</td>\n",
              "      <td>0</td>\n",
              "      <td>1</td>\n",
              "      <td>1</td>\n",
              "      <td>14.76</td>\n",
              "      <td>17.425</td>\n",
              "      <td>57</td>\n",
              "      <td>15.0013</td>\n",
              "      <td>10</td>\n",
              "      <td>231</td>\n",
              "      <td>241</td>\n",
              "    </tr>\n",
              "    <tr>\n",
              "      <th>10883</th>\n",
              "      <td>2012-12-19 21:00:00</td>\n",
              "      <td>4</td>\n",
              "      <td>0</td>\n",
              "      <td>1</td>\n",
              "      <td>1</td>\n",
              "      <td>13.94</td>\n",
              "      <td>15.910</td>\n",
              "      <td>61</td>\n",
              "      <td>15.0013</td>\n",
              "      <td>4</td>\n",
              "      <td>164</td>\n",
              "      <td>168</td>\n",
              "    </tr>\n",
              "    <tr>\n",
              "      <th>10884</th>\n",
              "      <td>2012-12-19 22:00:00</td>\n",
              "      <td>4</td>\n",
              "      <td>0</td>\n",
              "      <td>1</td>\n",
              "      <td>1</td>\n",
              "      <td>13.94</td>\n",
              "      <td>17.425</td>\n",
              "      <td>61</td>\n",
              "      <td>6.0032</td>\n",
              "      <td>12</td>\n",
              "      <td>117</td>\n",
              "      <td>129</td>\n",
              "    </tr>\n",
              "    <tr>\n",
              "      <th>10885</th>\n",
              "      <td>2012-12-19 23:00:00</td>\n",
              "      <td>4</td>\n",
              "      <td>0</td>\n",
              "      <td>1</td>\n",
              "      <td>1</td>\n",
              "      <td>13.12</td>\n",
              "      <td>16.665</td>\n",
              "      <td>66</td>\n",
              "      <td>8.9981</td>\n",
              "      <td>4</td>\n",
              "      <td>84</td>\n",
              "      <td>88</td>\n",
              "    </tr>\n",
              "  </tbody>\n",
              "</table>\n",
              "<p>10583 rows × 12 columns</p>\n",
              "</div>\n",
              "      <button class=\"colab-df-convert\" onclick=\"convertToInteractive('df-f75f077b-fccb-48ee-b24c-6b21f02ceb86')\"\n",
              "              title=\"Convert this dataframe to an interactive table.\"\n",
              "              style=\"display:none;\">\n",
              "        \n",
              "  <svg xmlns=\"http://www.w3.org/2000/svg\" height=\"24px\"viewBox=\"0 0 24 24\"\n",
              "       width=\"24px\">\n",
              "    <path d=\"M0 0h24v24H0V0z\" fill=\"none\"/>\n",
              "    <path d=\"M18.56 5.44l.94 2.06.94-2.06 2.06-.94-2.06-.94-.94-2.06-.94 2.06-2.06.94zm-11 1L8.5 8.5l.94-2.06 2.06-.94-2.06-.94L8.5 2.5l-.94 2.06-2.06.94zm10 10l.94 2.06.94-2.06 2.06-.94-2.06-.94-.94-2.06-.94 2.06-2.06.94z\"/><path d=\"M17.41 7.96l-1.37-1.37c-.4-.4-.92-.59-1.43-.59-.52 0-1.04.2-1.43.59L10.3 9.45l-7.72 7.72c-.78.78-.78 2.05 0 2.83L4 21.41c.39.39.9.59 1.41.59.51 0 1.02-.2 1.41-.59l7.78-7.78 2.81-2.81c.8-.78.8-2.07 0-2.86zM5.41 20L4 18.59l7.72-7.72 1.47 1.35L5.41 20z\"/>\n",
              "  </svg>\n",
              "      </button>\n",
              "      \n",
              "  <style>\n",
              "    .colab-df-container {\n",
              "      display:flex;\n",
              "      flex-wrap:wrap;\n",
              "      gap: 12px;\n",
              "    }\n",
              "\n",
              "    .colab-df-convert {\n",
              "      background-color: #E8F0FE;\n",
              "      border: none;\n",
              "      border-radius: 50%;\n",
              "      cursor: pointer;\n",
              "      display: none;\n",
              "      fill: #1967D2;\n",
              "      height: 32px;\n",
              "      padding: 0 0 0 0;\n",
              "      width: 32px;\n",
              "    }\n",
              "\n",
              "    .colab-df-convert:hover {\n",
              "      background-color: #E2EBFA;\n",
              "      box-shadow: 0px 1px 2px rgba(60, 64, 67, 0.3), 0px 1px 3px 1px rgba(60, 64, 67, 0.15);\n",
              "      fill: #174EA6;\n",
              "    }\n",
              "\n",
              "    [theme=dark] .colab-df-convert {\n",
              "      background-color: #3B4455;\n",
              "      fill: #D2E3FC;\n",
              "    }\n",
              "\n",
              "    [theme=dark] .colab-df-convert:hover {\n",
              "      background-color: #434B5C;\n",
              "      box-shadow: 0px 1px 3px 1px rgba(0, 0, 0, 0.15);\n",
              "      filter: drop-shadow(0px 1px 2px rgba(0, 0, 0, 0.3));\n",
              "      fill: #FFFFFF;\n",
              "    }\n",
              "  </style>\n",
              "\n",
              "      <script>\n",
              "        const buttonEl =\n",
              "          document.querySelector('#df-f75f077b-fccb-48ee-b24c-6b21f02ceb86 button.colab-df-convert');\n",
              "        buttonEl.style.display =\n",
              "          google.colab.kernel.accessAllowed ? 'block' : 'none';\n",
              "\n",
              "        async function convertToInteractive(key) {\n",
              "          const element = document.querySelector('#df-f75f077b-fccb-48ee-b24c-6b21f02ceb86');\n",
              "          const dataTable =\n",
              "            await google.colab.kernel.invokeFunction('convertToInteractive',\n",
              "                                                     [key], {});\n",
              "          if (!dataTable) return;\n",
              "\n",
              "          const docLinkHtml = 'Like what you see? Visit the ' +\n",
              "            '<a target=\"_blank\" href=https://colab.research.google.com/notebooks/data_table.ipynb>data table notebook</a>'\n",
              "            + ' to learn more about interactive tables.';\n",
              "          element.innerHTML = '';\n",
              "          dataTable['output_type'] = 'display_data';\n",
              "          await google.colab.output.renderOutput(dataTable, element);\n",
              "          const docLink = document.createElement('div');\n",
              "          docLink.innerHTML = docLinkHtml;\n",
              "          element.appendChild(docLink);\n",
              "        }\n",
              "      </script>\n",
              "    </div>\n",
              "  </div>\n",
              "  "
            ]
          },
          "metadata": {},
          "execution_count": 89
        }
      ]
    },
    {
      "cell_type": "code",
      "source": [
        "yulu_df_new['season'].value_counts()"
      ],
      "metadata": {
        "colab": {
          "base_uri": "https://localhost:8080/"
        },
        "id": "SwAyMODmfFC-",
        "outputId": "ccec7f9b-e12a-46de-d6d7-e9c4c15c338d"
      },
      "execution_count": null,
      "outputs": [
        {
          "output_type": "execute_result",
          "data": {
            "text/plain": [
              "1    2670\n",
              "4    2664\n",
              "2    2633\n",
              "3    2616\n",
              "Name: season, dtype: int64"
            ]
          },
          "metadata": {},
          "execution_count": 90
        }
      ]
    },
    {
      "cell_type": "code",
      "source": [
        "sns.displot(yulu_df['count'])\n",
        "plt.show()"
      ],
      "metadata": {
        "colab": {
          "base_uri": "https://localhost:8080/",
          "height": 369
        },
        "id": "l2plfTVofE_S",
        "outputId": "e274c1e0-825f-476b-b8d1-5da16d5ce356"
      },
      "execution_count": null,
      "outputs": [
        {
          "output_type": "display_data",
          "data": {
            "text/plain": [
              "<Figure size 360x360 with 1 Axes>"
            ],
            "image/png": "[encoded data removed]"
          },
          "metadata": {
            "needs_background": "light"
          }
        }
      ]
    },
    {
      "cell_type": "code",
      "source": [
        "season_unique=yulu_df_new['season'].unique()\n",
        "season_unique"
      ],
      "metadata": {
        "colab": {
          "base_uri": "https://localhost:8080/"
        },
        "id": "HxAEnUb7gAv7",
        "outputId": "cb019684-318d-4417-cfd7-eb8af6fcfc44"
      },
      "execution_count": null,
      "outputs": [
        {
          "output_type": "execute_result",
          "data": {
            "text/plain": [
              "[1, 2, 3, 4]\n",
              "Categories (4, int64): [1, 2, 3, 4]"
            ]
          },
          "metadata": {},
          "execution_count": 92
        }
      ]
    },
    {
      "cell_type": "code",
      "source": [
        "# for i in range(10):\n",
        "#   name='sample'+str(i)\n",
        "#   print(f'{name} : {i}')"
      ],
      "metadata": {
        "id": "_-HjCiYRgnUs"
      },
      "execution_count": null,
      "outputs": []
    },
    {
      "cell_type": "code",
      "source": [
        "# import statsmodels.api as sm\n",
        "# fig = sm.qqplot(fitted_data_1, line='45', fit=True)\n",
        "# plt.grid()"
      ],
      "metadata": {
        "id": "G0PGPXIoib4l"
      },
      "execution_count": null,
      "outputs": []
    },
    {
      "cell_type": "code",
      "source": [
        "season_arrays=[]\n",
        "for i in season_unique:\n",
        "  sample='season'+str(i)\n",
        "  array=np.array(yulu_df_new[yulu_df_new['season']==i]['count'])\n",
        "  print(sample)\n",
        "  print('Before_transformation')\n",
        "  sns.displot(array)\n",
        "  plt.show()\n",
        "  print('after_transformation')\n",
        "  fitted_data, fitted_lambda = stats.boxcox(array)\n",
        "  sns.displot(fitted_data)  \n",
        "  plt.show()\n",
        "  print('QQplot')\n",
        "  fig = sm.qqplot(fitted_data, line='45', fit=True)\n",
        "  plt.grid()\n",
        "  plt.show()\n",
        "  season_arrays.append(fitted_data)\n"
      ],
      "metadata": {
        "colab": {
          "base_uri": "https://localhost:8080/",
          "height": 1000
        },
        "id": "cAEWst1ugYTf",
        "outputId": "764e6e30-ab02-4f5e-f10e-a2ab2febf8c0"
      },
      "execution_count": null,
      "outputs": [
        {
          "output_type": "stream",
          "name": "stdout",
          "text": [
            "season1\n",
            "Before_transformation\n"
          ]
        },
        {
          "output_type": "display_data",
          "data": {
            "text/plain": [
              "<Figure size 360x360 with 1 Axes>"
            ],
            "image/png": "[encoded data removed]"
          },
          "metadata": {
            "needs_background": "light"
          }
        },
        {
          "output_type": "stream",
          "name": "stdout",
          "text": [
            "after_transformation\n"
          ]
        },
        {
          "output_type": "display_data",
          "data": {
            "text/plain": [
              "<Figure size 360x360 with 1 Axes>"
            ],
            "image/png": "[encoded data removed]"
          },
          "metadata": {
            "needs_background": "light"
          }
        },
        {
          "output_type": "stream",
          "name": "stdout",
          "text": [
            "QQplot\n"
          ]
        },
        {
          "output_type": "display_data",
          "data": {
            "text/plain": [
              "<Figure size 432x288 with 1 Axes>"
            ],
            "image/png": "[encoded data removed]"
          },
          "metadata": {
            "needs_background": "light"
          }
        },
        {
          "output_type": "stream",
          "name": "stdout",
          "text": [
            "season2\n",
            "Before_transformation\n"
          ]
        },
        {
          "output_type": "display_data",
          "data": {
            "text/plain": [
              "<Figure size 360x360 with 1 Axes>"
            ],
            "image/png": "[encoded data removed]"
          },
          "metadata": {
            "needs_background": "light"
          }
        },
        {
          "output_type": "stream",
          "name": "stdout",
          "text": [
            "after_transformation\n"
          ]
        },
        {
          "output_type": "display_data",
          "data": {
            "text/plain": [
              "<Figure size 360x360 with 1 Axes>"
            ],
            "image/png": "[encoded data removed]"
          },
          "metadata": {
            "needs_background": "light"
          }
        },
        {
          "output_type": "stream",
          "name": "stdout",
          "text": [
            "QQplot\n"
          ]
        },
        {
          "output_type": "display_data",
          "data": {
            "text/plain": [
              "<Figure size 432x288 with 1 Axes>"
            ],
            "image/png": "[encoded data removed]"
          },
          "metadata": {
            "needs_background": "light"
          }
        },
        {
          "output_type": "stream",
          "name": "stdout",
          "text": [
            "season3\n",
            "Before_transformation\n"
          ]
        },
        {
          "output_type": "display_data",
          "data": {
            "text/plain": [
              "<Figure size 360x360 with 1 Axes>"
            ],
            "image/png": "[encoded data removed]"
          },
          "metadata": {
            "needs_background": "light"
          }
        },
        {
          "output_type": "stream",
          "name": "stdout",
          "text": [
            "after_transformation\n"
          ]
        },
        {
          "output_type": "display_data",
          "data": {
            "text/plain": [
              "<Figure size 360x360 with 1 Axes>"
            ],
            "image/png": "[encoded data removed]"
          },
          "metadata": {
            "needs_background": "light"
          }
        },
        {
          "output_type": "stream",
          "name": "stdout",
          "text": [
            "QQplot\n"
          ]
        },
        {
          "output_type": "display_data",
          "data": {
            "text/plain": [
              "<Figure size 432x288 with 1 Axes>"
            ],
            "image/png": "[encoded data removed]"
          },
          "metadata": {
            "needs_background": "light"
          }
        },
        {
          "output_type": "stream",
          "name": "stdout",
          "text": [
            "season4\n",
            "Before_transformation\n"
          ]
        },
        {
          "output_type": "display_data",
          "data": {
            "text/plain": [
              "<Figure size 360x360 with 1 Axes>"
            ],
            "image/png": "[encoded data removed]"
          },
          "metadata": {
            "needs_background": "light"
          }
        },
        {
          "output_type": "stream",
          "name": "stdout",
          "text": [
            "after_transformation\n"
          ]
        },
        {
          "output_type": "display_data",
          "data": {
            "text/plain": [
              "<Figure size 360x360 with 1 Axes>"
            ],
            "image/png": "[encoded data removed]"
          },
          "metadata": {
            "needs_background": "light"
          }
        },
        {
          "output_type": "stream",
          "name": "stdout",
          "text": [
            "QQplot\n"
          ]
        },
        {
          "output_type": "display_data",
          "data": {
            "text/plain": [
              "<Figure size 432x288 with 1 Axes>"
            ],
            "image/png": "[encoded data removed]"
          },
          "metadata": {
            "needs_background": "light"
          }
        }
      ]
    },
    {
      "cell_type": "markdown",
      "source": [
        "**So after removing outliers also the groups or rented cycles as per season has not changed to normal distribution**"
      ],
      "metadata": {
        "id": "DY0t4SQdi2RZ"
      }
    },
    {
      "cell_type": "markdown",
      "source": [
        "**Actually we have to apply kruskal wallis test, but lets try with annova**"
      ],
      "metadata": {
        "id": "a0LRTRoRZV-3"
      }
    },
    {
      "cell_type": "markdown",
      "source": [
        "**The third assumption which is of the data should be from normal population, it is failing but still try to apply the annova test**"
      ],
      "metadata": {
        "id": "v_K1__dOG6UX"
      }
    },
    {
      "cell_type": "markdown",
      "source": [
        "**Check for annova test or F1 distribution**"
      ],
      "metadata": {
        "id": "UOeSNwgSjBGy"
      }
    },
    {
      "cell_type": "markdown",
      "source": [
        "**Ho: the means or count is equal for all groups**\n",
        "\n",
        "**H1: The means or count is not equal for all groups**"
      ],
      "metadata": {
        "id": "YPa283JIlHwh"
      }
    },
    {
      "cell_type": "code",
      "source": [
        "season_arrays"
      ],
      "metadata": {
        "colab": {
          "base_uri": "https://localhost:8080/"
        },
        "id": "JXT6lpbZlQ_d",
        "outputId": "647fe7b4-86b8-4a3e-cb33-1e04805e2e2c"
      },
      "execution_count": null,
      "outputs": [
        {
          "output_type": "execute_result",
          "data": {
            "text/plain": [
              "[array([ 4.16855644,  6.41371532,  5.81346355, ..., 12.51543   ,\n",
              "        10.78631832,  7.28167964]),\n",
              " array([ 2.56190598,  1.82204818,  2.87429466, ..., 19.48471852,\n",
              "        19.93174687, 13.76011755]),\n",
              " array([12.50556009,  8.14179193,  4.80192309, ..., 28.37778127,\n",
              "        23.12453221, 16.97511956]),\n",
              " array([14.53096224,  9.91818277, 10.63987482, ..., 16.3272194 ,\n",
              "        14.47960439, 12.11982531])]"
            ]
          },
          "metadata": {},
          "execution_count": 96
        }
      ]
    },
    {
      "cell_type": "code",
      "source": [
        "from scipy.stats import f_oneway"
      ],
      "metadata": {
        "id": "fhzIK7MDjAhc"
      },
      "execution_count": null,
      "outputs": []
    },
    {
      "cell_type": "code",
      "source": [
        "f_oneway(season_arrays[0],season_arrays[1],season_arrays[2],season_arrays[3])"
      ],
      "metadata": {
        "colab": {
          "base_uri": "https://localhost:8080/"
        },
        "id": "AcnofGVGkvDs",
        "outputId": "16f0bf2b-4d1a-4b8f-c610-d2ee376267ef"
      },
      "execution_count": null,
      "outputs": [
        {
          "output_type": "execute_result",
          "data": {
            "text/plain": [
              "F_onewayResult(statistic=1086.1896839037313, pvalue=0.0)"
            ]
          },
          "metadata": {},
          "execution_count": 98
        }
      ]
    },
    {
      "cell_type": "code",
      "source": [
        "f_oneway(sample_1,sample_2,sample_3,sample_4)"
      ],
      "metadata": {
        "colab": {
          "base_uri": "https://localhost:8080/"
        },
        "id": "Mi9VC5eHlfdA",
        "outputId": "e112ddea-3210-491e-9a3b-e1a4a7e2a3d8"
      },
      "execution_count": null,
      "outputs": [
        {
          "output_type": "execute_result",
          "data": {
            "text/plain": [
              "F_onewayResult(statistic=236.94671081032106, pvalue=6.164843386499654e-149)"
            ]
          },
          "metadata": {},
          "execution_count": 99
        }
      ]
    },
    {
      "cell_type": "markdown",
      "source": [
        "**The p value is very less than the significance value and hence we have to reject null hypothesis saying the mean or no.of cycles rented is not equal w.r.t every season**"
      ],
      "metadata": {
        "id": "YQjogCktlmph"
      }
    },
    {
      "cell_type": "code",
      "source": [
        "stats.kruskal(season_arrays[0],season_arrays[1],season_arrays[2],season_arrays[3])"
      ],
      "metadata": {
        "id": "cnhLjstII2i5",
        "colab": {
          "base_uri": "https://localhost:8080/"
        },
        "outputId": "fae459dd-1b9b-42dd-a29f-5f51914094c7"
      },
      "execution_count": null,
      "outputs": [
        {
          "output_type": "execute_result",
          "data": {
            "text/plain": [
              "KruskalResult(statistic=2356.830234505287, pvalue=0.0)"
            ]
          },
          "metadata": {},
          "execution_count": 100
        }
      ]
    },
    {
      "cell_type": "markdown",
      "source": [
        "**Even with kruskal wallis test also it is showing p value as 0 means we have to reject null hypothesis i.e count is not equal in all seasons**"
      ],
      "metadata": {
        "id": "WMm7OZHcaKCx"
      }
    },
    {
      "cell_type": "markdown",
      "source": [
        "####b.Weather"
      ],
      "metadata": {
        "id": "2YW1yTaBmFjT"
      }
    },
    {
      "cell_type": "markdown",
      "source": [
        "**Assumptions**"
      ],
      "metadata": {
        "id": "NTOGrhbzmFjU"
      }
    },
    {
      "cell_type": "markdown",
      "source": [
        "**The samples should be drawn from a normal distributed population**\n",
        "\n",
        "**The group or sample variances must be same**\n",
        "\n",
        "**All samples drawn are independent of each other**"
      ],
      "metadata": {
        "id": "VYqUd8JcmFjV"
      }
    },
    {
      "cell_type": "code",
      "source": [
        "yulu_df.columns"
      ],
      "metadata": {
        "colab": {
          "base_uri": "https://localhost:8080/"
        },
        "outputId": "c4e0edcb-f251-4520-f947-77f641075eb9",
        "id": "1IpXbQ-RmFjW"
      },
      "execution_count": null,
      "outputs": [
        {
          "output_type": "execute_result",
          "data": {
            "text/plain": [
              "Index(['datetime', 'season', 'holiday', 'workingday', 'weather', 'temp',\n",
              "       'atemp', 'humidity', 'windspeed', 'casual', 'registered', 'count'],\n",
              "      dtype='object')"
            ]
          },
          "metadata": {},
          "execution_count": 101
        }
      ]
    },
    {
      "cell_type": "code",
      "source": [
        "sample_1=np.array(yulu_df[yulu_df['weather']==1]['count'])\n",
        "sample_1"
      ],
      "metadata": {
        "colab": {
          "base_uri": "https://localhost:8080/"
        },
        "outputId": "aa7e91d4-8cf2-4e5a-e629-6637f943db50",
        "id": "RjuMl5ZJmFjW"
      },
      "execution_count": null,
      "outputs": [
        {
          "output_type": "execute_result",
          "data": {
            "text/plain": [
              "array([ 16,  40,  32, ..., 168, 129,  88])"
            ]
          },
          "metadata": {},
          "execution_count": 102
        }
      ]
    },
    {
      "cell_type": "code",
      "source": [
        "sample_2=np.array(yulu_df[yulu_df['weather']==2]['count'])\n",
        "sample_2"
      ],
      "metadata": {
        "colab": {
          "base_uri": "https://localhost:8080/"
        },
        "outputId": "a0fae91c-1ff1-4582-eb02-8c9e819bea73",
        "id": "6oEosa00mFjX"
      },
      "execution_count": null,
      "outputs": [
        {
          "output_type": "execute_result",
          "data": {
            "text/plain": [
              "array([  1,  94, 106, ...,  18,  15,   7])"
            ]
          },
          "metadata": {},
          "execution_count": 103
        }
      ]
    },
    {
      "cell_type": "code",
      "source": [
        "sample_3=np.array(yulu_df[yulu_df['weather']==3]['count'])\n",
        "sample_3"
      ],
      "metadata": {
        "colab": {
          "base_uri": "https://localhost:8080/"
        },
        "outputId": "e0c78474-2f57-4a41-e23a-e7f7347db737",
        "id": "j-VccG4emFjY"
      },
      "execution_count": null,
      "outputs": [
        {
          "output_type": "execute_result",
          "data": {
            "text/plain": [
              "array([ 35,  37,   2,   8,  59,  74,  76,   5,   7,   1,  15,  20,  95,\n",
              "        51,  32,  20,  29,  19,  60,  33,  27,  13,   4,   7,   3,   2,\n",
              "         3,  22,  52, 135,  16,   2,   3,   4,   1,   1,   3,  18,  49,\n",
              "       155,   8,   9,   4,   4,  10,  20,  34,  47,  52,  72,  55,  60,\n",
              "        71,   1,  88,  84,  46,  37,  16,   7,   3,   5,  39,   7,  11,\n",
              "        25,  23,  11,  11,   7,   4,   2,  21,  18,   3,   2,   1,   3,\n",
              "        12,  37,  44,  24,  17,  11,  34,  12,  12,  14,  21,  82,  56,\n",
              "        38,  28,  27,   8,   5,  55,   8,   3,   6,   4,   7,  12,  28,\n",
              "        95, 184, 190, 136,  79,  15,   2,   5, 157,  46,  28,  19,  13,\n",
              "         1, 113, 221,  80,  42,  15,  25, 148,  62,  53,  14,   3,  54,\n",
              "       226,  54,  40, 106, 291, 224,   2,   2,   3,   5,  34,  70, 164,\n",
              "        95,  10,  45,  29,  22,  31,  58,  63,  78,  33,  15,  53,  24,\n",
              "       162,  27,   7,   4,   1,   3,   9,  21,  52,  79,  40, 470, 292,\n",
              "       378, 351,   5,  82, 157, 491, 398, 119,  32,  88, 279, 248, 248,\n",
              "       157,  59,  26,  44,  14, 392, 226, 453,  13,   8,   4,   4,  22,\n",
              "        49, 104, 153,   6,   9,   3, 202, 106, 331, 213, 164, 183, 180,\n",
              "        79, 309, 171,  69,  23, 350, 252, 569, 112, 188, 294, 188, 151,\n",
              "        16, 552, 450, 328,  84, 317,  33,   5,   1, 358, 181, 176, 189,\n",
              "        43, 132, 167, 158, 116,  46,  92, 110,  68, 161, 150, 492, 321,\n",
              "        87,  77,   3, 343, 149, 171, 137, 108, 326, 193, 194, 358,  90,\n",
              "        73,  62,   3, 103, 155,  39,  27,  25, 182, 409, 274,  62,  20,\n",
              "         8, 165,  58, 198,  32,  20, 258, 194, 152, 175,  82,  20,   8,\n",
              "         2,   1,  21, 364, 106,  89,  67,  29,  24,  89, 106, 163, 121,\n",
              "        58,   5,   2,   4,  75,  86, 328, 190,  66,  10,  22,  11,  25,\n",
              "        58, 285, 237,  96,  38,  29,  24,  14,   4,   2,  14,  56, 179,\n",
              "       195, 139, 156, 113,  68,  52,  82,  70,  26,  16,   3, 108, 288,\n",
              "       136,  45, 261, 244,  36, 129, 121, 132, 228, 140,  66,  56,  65,\n",
              "        47,  24,  30,   9, 308, 256, 173, 206, 167,  64, 118, 120, 101,\n",
              "       204, 171,  10,   2,   7, 120,  62, 101,  78,  45, 251, 172, 109,\n",
              "        90,  83,  43,  54,  52,  81, 209, 109,  69, 479, 268,  94, 147,\n",
              "       125,  87,  75,   3,   3,  31,  68, 210, 202, 123, 149, 130,  97,\n",
              "       120, 201, 181, 140, 145,  96,  64,  62,  73, 177, 153,   5,  13,\n",
              "       137, 232,  82,  36,  60,  54,  58,  66, 123, 189, 111,  99,  75,\n",
              "        46,  31,  22,  75, 168, 355,  97,   7,  20,  50,  32,  55,  71,\n",
              "        75,  45,  88, 233, 110,  87,  53,   6,   3,   1,   3,  18,  46,\n",
              "        86,  64,  33,  50,  33,  33,  25,  30,  31,  52,  51,  33,  26,\n",
              "         6,  13,  82, 131, 106, 106, 105,  50,  69,  49, 152, 190,  55,\n",
              "        65,  73, 134,  98,  93,  57,  29,  49,   9,   3,   3,   2,   3,\n",
              "         2,  16,  89,   3,  28,  12,   2,  13,  57, 126,  93,  68,  62,\n",
              "        67, 208, 520,   1,  19,  74, 205, 445, 228,  78, 105,  67,  64,\n",
              "        80,  77,  78,  17,   4,  54,  75, 155, 167, 161, 125, 129, 359,\n",
              "        45,  26,   9,   4,   2,   9,  19,  78,  90, 166, 146, 144,  20,\n",
              "        21,  24,   3,  44,  71,  45,  64,  31,  53, 118, 289, 353,  36,\n",
              "        55,  12,  50, 128, 160, 174, 101,  22,  44,  38,  48,  94, 387,\n",
              "       375,  26,  11,   1,  29,   1,   2, 113, 107, 129, 258, 408,  42,\n",
              "        68,  63,  17,   5,   5, 165, 202, 585, 576, 265, 147, 119, 110,\n",
              "        64,  51,  98,  25,  13,  26, 120, 384, 627, 171, 428, 541,  16,\n",
              "        11,  17,  36, 219,  71, 134, 389, 147,  63,   1,   2,   5, 372,\n",
              "        98,  51,  34,  67,  55,  33,  65,  75, 156, 110,  59, 111, 229,\n",
              "       304,  19,   6,   5,   8,  24,  92, 239, 263, 109,  71, 141, 254,\n",
              "       258, 222, 227, 110,  45,  39,  85,  23,  73,  14,   8,   5,   5,\n",
              "        36, 782,   4,  29, 303, 125,  65,  95,  59,  60, 116,  89,  23,\n",
              "        37, 145,  91, 168,  74, 110, 376, 298, 122, 123,  18,   5,   5,\n",
              "         2,  92, 230, 819, 414,  84,  90,   9, 458, 312,  43, 386, 755,\n",
              "       194, 332,  68,  65, 891, 229,   5, 407, 276, 445,   7,  33,  44,\n",
              "       133, 119, 251,  85,  21, 512, 160, 163,  64, 812, 213, 121,  92,\n",
              "        43, 272, 298, 162, 149, 190, 392, 207, 104, 545, 493, 457, 355,\n",
              "       166, 123, 646, 123,  49,  62, 512, 114, 171, 167, 215, 233, 129,\n",
              "        70,  13,   5,   4, 160,  88, 143,  36, 141, 338, 151, 856, 613,\n",
              "       262, 207, 105, 179, 260, 134,  86,  45,  99, 163, 209, 374, 715,\n",
              "       687, 395, 306, 289,  52,  76,  39, 133,  35,  62,  86, 306, 333,\n",
              "       157, 106, 370, 377, 227, 107,  13,   7,   3,   7, 359, 284, 592,\n",
              "       239,  16, 131, 154, 565, 425, 331, 146, 170, 221, 689,  60,  40,\n",
              "        15,  12, 155,   5,  11,   5,  50, 107, 211, 110,  94, 303, 124,\n",
              "       398, 215, 241,   6,  23,  69, 225, 253, 229, 198, 122, 108,  78,\n",
              "        51,  20, 134, 173, 220,  31,   3,  41,  96, 107,   5, 302,  47,\n",
              "       313])"
            ]
          },
          "metadata": {},
          "execution_count": 104
        }
      ]
    },
    {
      "cell_type": "code",
      "source": [
        "sample_4=np.array(yulu_df[yulu_df['weather']==4]['count'])\n",
        "sample_4"
      ],
      "metadata": {
        "colab": {
          "base_uri": "https://localhost:8080/"
        },
        "outputId": "505bc362-1d41-4b06-f2da-682079ed8b0b",
        "id": "VJwx_rOemFjY"
      },
      "execution_count": null,
      "outputs": [
        {
          "output_type": "execute_result",
          "data": {
            "text/plain": [
              "array([164])"
            ]
          },
          "metadata": {},
          "execution_count": 105
        }
      ]
    },
    {
      "cell_type": "code",
      "source": [
        "sample_1.mean(),sample_2.mean(),sample_3.mean(),sample_4.mean()"
      ],
      "metadata": {
        "colab": {
          "base_uri": "https://localhost:8080/"
        },
        "outputId": "c9d95f7c-a747-48d8-ad62-3b08eb103c78",
        "id": "gHnwFnUcmFjZ"
      },
      "execution_count": null,
      "outputs": [
        {
          "output_type": "execute_result",
          "data": {
            "text/plain": [
              "(205.23679087875416, 178.95553987297106, 118.84633294528521, 164.0)"
            ]
          },
          "metadata": {},
          "execution_count": 106
        }
      ]
    },
    {
      "cell_type": "code",
      "source": [
        "sample_1.std(),sample_2.std(),sample_3.std(),sample_4.std()"
      ],
      "metadata": {
        "colab": {
          "base_uri": "https://localhost:8080/"
        },
        "outputId": "914cd39c-6c70-407a-ca5c-0d720361a877",
        "id": "F31z_W-mmFjZ"
      },
      "execution_count": null,
      "outputs": [
        {
          "output_type": "execute_result",
          "data": {
            "text/plain": [
              "(187.94649831022764, 168.33670555002382, 138.5006092451971, 0.0)"
            ]
          },
          "metadata": {},
          "execution_count": 107
        }
      ]
    },
    {
      "cell_type": "markdown",
      "source": [
        "**The variances are not even closer and hence we cant apply annova test but as per the instruction given in problem which is to apply even if assumptions are not passed, we are proceeding to apply F distribution and kruskal wallis test**"
      ],
      "metadata": {
        "id": "I6Azq15fmFja"
      }
    },
    {
      "cell_type": "code",
      "source": [
        "yulu_df['weather'].value_counts()"
      ],
      "metadata": {
        "colab": {
          "base_uri": "https://localhost:8080/"
        },
        "outputId": "191e5251-89ba-4538-87e9-3a83ca0857de",
        "id": "ZY1cCaxPmFja"
      },
      "execution_count": null,
      "outputs": [
        {
          "output_type": "execute_result",
          "data": {
            "text/plain": [
              "1    7192\n",
              "2    2834\n",
              "3     859\n",
              "4       1\n",
              "Name: weather, dtype: int64"
            ]
          },
          "metadata": {},
          "execution_count": 108
        }
      ]
    },
    {
      "cell_type": "markdown",
      "source": [
        "**The n should be same for all groups or seasons but here it is not even closer and the assumptions are failing for this case**"
      ],
      "metadata": {
        "id": "POIgPc_PmFja"
      }
    },
    {
      "cell_type": "markdown",
      "source": [
        "**Are the samples are following gaussian distribution?**"
      ],
      "metadata": {
        "id": "YuuaJBo8mFjb"
      }
    },
    {
      "cell_type": "code",
      "source": [
        "import math"
      ],
      "metadata": {
        "id": "hc_eqmXHmFjb"
      },
      "execution_count": null,
      "outputs": []
    },
    {
      "cell_type": "code",
      "source": [
        "plt.hist(sample_1,bins=100)\n",
        "plt.show()"
      ],
      "metadata": {
        "colab": {
          "base_uri": "https://localhost:8080/",
          "height": 265
        },
        "outputId": "74308c5a-da8c-459f-fef7-363f54d8f098",
        "id": "sfLL6ucHmFjc"
      },
      "execution_count": null,
      "outputs": [
        {
          "output_type": "display_data",
          "data": {
            "text/plain": [
              "<Figure size 432x288 with 1 Axes>"
            ],
            "image/png": "[encoded data removed]"
          },
          "metadata": {
            "needs_background": "light"
          }
        }
      ]
    },
    {
      "cell_type": "code",
      "source": [
        "plt.hist(sample_2,bins=100)\n",
        "plt.show()"
      ],
      "metadata": {
        "colab": {
          "base_uri": "https://localhost:8080/",
          "height": 265
        },
        "outputId": "d73e2811-7dc3-4513-9def-bc30e5e23aad",
        "id": "vHkOIDaQmFjc"
      },
      "execution_count": null,
      "outputs": [
        {
          "output_type": "display_data",
          "data": {
            "text/plain": [
              "<Figure size 432x288 with 1 Axes>"
            ],
            "image/png": "[encoded data removed]"
          },
          "metadata": {
            "needs_background": "light"
          }
        }
      ]
    },
    {
      "cell_type": "code",
      "source": [
        "plt.hist(sample_3,bins=100)\n",
        "plt.show()"
      ],
      "metadata": {
        "colab": {
          "base_uri": "https://localhost:8080/",
          "height": 265
        },
        "outputId": "7fc9c630-1acf-41f5-f171-3c4ef7026512",
        "id": "jRJpe84tmFjd"
      },
      "execution_count": null,
      "outputs": [
        {
          "output_type": "display_data",
          "data": {
            "text/plain": [
              "<Figure size 432x288 with 1 Axes>"
            ],
            "image/png": "[encoded data removed]"
          },
          "metadata": {
            "needs_background": "light"
          }
        }
      ]
    },
    {
      "cell_type": "code",
      "source": [
        "plt.hist(sample_4,bins=100)\n",
        "plt.show()"
      ],
      "metadata": {
        "colab": {
          "base_uri": "https://localhost:8080/",
          "height": 265
        },
        "outputId": "3e3eeee8-40d5-4e2f-9428-394b5aeb447b",
        "id": "H3nsp9bbmFjd"
      },
      "execution_count": null,
      "outputs": [
        {
          "output_type": "display_data",
          "data": {
            "text/plain": [
              "<Figure size 432x288 with 1 Axes>"
            ],
            "image/png": "[encoded data removed]"
          },
          "metadata": {
            "needs_background": "light"
          }
        }
      ]
    },
    {
      "cell_type": "code",
      "source": [
        "fitted_data_1, fitted_lambda_1 = stats.boxcox(sample_1)"
      ],
      "metadata": {
        "id": "MFj1iVoTmFje"
      },
      "execution_count": null,
      "outputs": []
    },
    {
      "cell_type": "code",
      "source": [
        "plt.hist(fitted_data_1,bins=100)\n",
        "plt.show()"
      ],
      "metadata": {
        "colab": {
          "base_uri": "https://localhost:8080/",
          "height": 265
        },
        "outputId": "4344f1e8-b6b7-4648-ed3d-bc541317fb68",
        "id": "GUNXkOmsmFje"
      },
      "execution_count": null,
      "outputs": [
        {
          "output_type": "display_data",
          "data": {
            "text/plain": [
              "<Figure size 432x288 with 1 Axes>"
            ],
            "image/png": "[encoded data removed]"
          },
          "metadata": {
            "needs_background": "light"
          }
        }
      ]
    },
    {
      "cell_type": "code",
      "source": [
        "import statsmodels.api as sm\n",
        "fig = sm.qqplot(fitted_data_1, line='45', fit=True)\n",
        "plt.grid()"
      ],
      "metadata": {
        "colab": {
          "base_uri": "https://localhost:8080/",
          "height": 279
        },
        "outputId": "491c953f-aeb2-4650-bccb-152b11c02faa",
        "id": "pEj697_1mFjf"
      },
      "execution_count": null,
      "outputs": [
        {
          "output_type": "display_data",
          "data": {
            "text/plain": [
              "<Figure size 432x288 with 1 Axes>"
            ],
            "image/png": "[encoded data removed]"
          },
          "metadata": {
            "needs_background": "light"
          }
        }
      ]
    },
    {
      "cell_type": "code",
      "source": [
        "fitted_data_2, fitted_lambda_2 = stats.boxcox(sample_2)\n",
        "plt.hist(fitted_data_2,bins=100)\n",
        "plt.show()"
      ],
      "metadata": {
        "colab": {
          "base_uri": "https://localhost:8080/",
          "height": 265
        },
        "outputId": "65398334-ba62-4a80-8077-30e391b9d916",
        "id": "S8LeKLH7mFjf"
      },
      "execution_count": null,
      "outputs": [
        {
          "output_type": "display_data",
          "data": {
            "text/plain": [
              "<Figure size 432x288 with 1 Axes>"
            ],
            "image/png": "[encoded data removed]"
          },
          "metadata": {
            "needs_background": "light"
          }
        }
      ]
    },
    {
      "cell_type": "code",
      "source": [
        "fitted_data_3, fitted_lambda_3 = stats.boxcox(sample_3)\n",
        "plt.hist(fitted_data_3,bins=100)\n",
        "plt.show()"
      ],
      "metadata": {
        "colab": {
          "base_uri": "https://localhost:8080/",
          "height": 265
        },
        "outputId": "b84c1913-a37c-450d-ad05-24d517915416",
        "id": "KJyNMW01mFjg"
      },
      "execution_count": null,
      "outputs": [
        {
          "output_type": "display_data",
          "data": {
            "text/plain": [
              "<Figure size 432x288 with 1 Axes>"
            ],
            "image/png": "[encoded data removed]"
          },
          "metadata": {
            "needs_background": "light"
          }
        }
      ]
    },
    {
      "cell_type": "code",
      "source": [
        "fitted_data_4, fitted_lambda_4 = stats.boxcox(sample_4)\n",
        "plt.hist(fitted_data_4,bins=100)\n",
        "plt.show()"
      ],
      "metadata": {
        "colab": {
          "base_uri": "https://localhost:8080/",
          "height": 322
        },
        "outputId": "5fcb03d9-1d3a-4856-afb8-e22367b4d01b",
        "id": "FlR_rjfJmFjg"
      },
      "execution_count": null,
      "outputs": [
        {
          "output_type": "error",
          "ename": "ValueError",
          "evalue": "ignored",
          "traceback": [
            "\u001b[0;31m---------------------------------------------------------------------------\u001b[0m",
            "\u001b[0;31mValueError\u001b[0m                                Traceback (most recent call last)",
            "\u001b[0;32m<ipython-input-119-14a4f801eebd>\u001b[0m in \u001b[0;36m<module>\u001b[0;34m()\u001b[0m\n\u001b[0;32m----> 1\u001b[0;31m \u001b[0mfitted_data_4\u001b[0m\u001b[0;34m,\u001b[0m \u001b[0mfitted_lambda_4\u001b[0m \u001b[0;34m=\u001b[0m \u001b[0mstats\u001b[0m\u001b[0;34m.\u001b[0m\u001b[0mboxcox\u001b[0m\u001b[0;34m(\u001b[0m\u001b[0msample_4\u001b[0m\u001b[0;34m)\u001b[0m\u001b[0;34m\u001b[0m\u001b[0;34m\u001b[0m\u001b[0m\n\u001b[0m\u001b[1;32m      2\u001b[0m \u001b[0mplt\u001b[0m\u001b[0;34m.\u001b[0m\u001b[0mhist\u001b[0m\u001b[0;34m(\u001b[0m\u001b[0mfitted_data_4\u001b[0m\u001b[0;34m,\u001b[0m\u001b[0mbins\u001b[0m\u001b[0;34m=\u001b[0m\u001b[0;36m100\u001b[0m\u001b[0;34m)\u001b[0m\u001b[0;34m\u001b[0m\u001b[0;34m\u001b[0m\u001b[0m\n\u001b[1;32m      3\u001b[0m \u001b[0mplt\u001b[0m\u001b[0;34m.\u001b[0m\u001b[0mshow\u001b[0m\u001b[0;34m(\u001b[0m\u001b[0;34m)\u001b[0m\u001b[0;34m\u001b[0m\u001b[0;34m\u001b[0m\u001b[0m\n",
            "\u001b[0;32m/usr/local/lib/python3.7/dist-packages/scipy/stats/morestats.py\u001b[0m in \u001b[0;36mboxcox\u001b[0;34m(x, lmbda, alpha, optimizer)\u001b[0m\n\u001b[1;32m   1059\u001b[0m \u001b[0;34m\u001b[0m\u001b[0m\n\u001b[1;32m   1060\u001b[0m     \u001b[0;32mif\u001b[0m \u001b[0mnp\u001b[0m\u001b[0;34m.\u001b[0m\u001b[0mall\u001b[0m\u001b[0;34m(\u001b[0m\u001b[0mx\u001b[0m \u001b[0;34m==\u001b[0m \u001b[0mx\u001b[0m\u001b[0;34m[\u001b[0m\u001b[0;36m0\u001b[0m\u001b[0;34m]\u001b[0m\u001b[0;34m)\u001b[0m\u001b[0;34m:\u001b[0m\u001b[0;34m\u001b[0m\u001b[0;34m\u001b[0m\u001b[0m\n\u001b[0;32m-> 1061\u001b[0;31m         \u001b[0;32mraise\u001b[0m \u001b[0mValueError\u001b[0m\u001b[0;34m(\u001b[0m\u001b[0;34m\"Data must not be constant.\"\u001b[0m\u001b[0;34m)\u001b[0m\u001b[0;34m\u001b[0m\u001b[0;34m\u001b[0m\u001b[0m\n\u001b[0m\u001b[1;32m   1062\u001b[0m \u001b[0;34m\u001b[0m\u001b[0m\n\u001b[1;32m   1063\u001b[0m     \u001b[0;32mif\u001b[0m \u001b[0mnp\u001b[0m\u001b[0;34m.\u001b[0m\u001b[0many\u001b[0m\u001b[0;34m(\u001b[0m\u001b[0mx\u001b[0m \u001b[0;34m<=\u001b[0m \u001b[0;36m0\u001b[0m\u001b[0;34m)\u001b[0m\u001b[0;34m:\u001b[0m\u001b[0;34m\u001b[0m\u001b[0;34m\u001b[0m\u001b[0m\n",
            "\u001b[0;31mValueError\u001b[0m: Data must not be constant."
          ]
        }
      ]
    },
    {
      "cell_type": "markdown",
      "source": [
        "**Even after applying box cox transformation also the non normal is not transformed into normal distribution**"
      ],
      "metadata": {
        "id": "kq0esB5YmFjh"
      }
    },
    {
      "cell_type": "markdown",
      "source": [
        "**lets try by removing outliers**"
      ],
      "metadata": {
        "id": "Eaw_eluNmFjh"
      }
    },
    {
      "cell_type": "code",
      "source": [
        "yulu_df['count'].describe()"
      ],
      "metadata": {
        "id": "V46L27bGmFjh",
        "colab": {
          "base_uri": "https://localhost:8080/"
        },
        "outputId": "5faebf25-92a7-4590-918b-54d43bc88ecd"
      },
      "execution_count": null,
      "outputs": [
        {
          "output_type": "execute_result",
          "data": {
            "text/plain": [
              "count    10886.000000\n",
              "mean       191.574132\n",
              "std        181.144454\n",
              "min          1.000000\n",
              "25%         42.000000\n",
              "50%        145.000000\n",
              "75%        284.000000\n",
              "max        977.000000\n",
              "Name: count, dtype: float64"
            ]
          },
          "metadata": {},
          "execution_count": 120
        }
      ]
    },
    {
      "cell_type": "code",
      "source": [
        "q1=np.percentile(yulu_df['count'],25)\n",
        "q3=np.percentile(yulu_df['count'],75)\n",
        "q1,q3"
      ],
      "metadata": {
        "id": "N-UT4P1wmFji",
        "colab": {
          "base_uri": "https://localhost:8080/"
        },
        "outputId": "23357672-a6dc-4432-b9e0-65097474de82"
      },
      "execution_count": null,
      "outputs": [
        {
          "output_type": "execute_result",
          "data": {
            "text/plain": [
              "(42.0, 284.0)"
            ]
          },
          "metadata": {},
          "execution_count": 121
        }
      ]
    },
    {
      "cell_type": "code",
      "source": [
        "IQR=q3-q1\n",
        "lower_limit=q1-1.5*IQR\n",
        "upper_limit=q3+1.5*IQR\n",
        "lower_limit,upper_limit"
      ],
      "metadata": {
        "id": "KuF31wsImFji",
        "colab": {
          "base_uri": "https://localhost:8080/"
        },
        "outputId": "d6fadf91-336d-4b08-b9e0-81418db4a829"
      },
      "execution_count": null,
      "outputs": [
        {
          "output_type": "execute_result",
          "data": {
            "text/plain": [
              "(-321.0, 647.0)"
            ]
          },
          "metadata": {},
          "execution_count": 122
        }
      ]
    },
    {
      "cell_type": "code",
      "source": [
        "yulu_df_new=yulu_df[yulu_df['count']<647]\n",
        "yulu_df_new"
      ],
      "metadata": {
        "id": "Vgjs6Ex_mFjj",
        "colab": {
          "base_uri": "https://localhost:8080/",
          "height": 424
        },
        "outputId": "ec963ddb-4b65-41d7-9c49-4561a1898187"
      },
      "execution_count": null,
      "outputs": [
        {
          "output_type": "execute_result",
          "data": {
            "text/plain": [
              "                 datetime season holiday workingday weather   temp   atemp  \\\n",
              "0     2011-01-01 00:00:00      1       0          0       1   9.84  14.395   \n",
              "1     2011-01-01 01:00:00      1       0          0       1   9.02  13.635   \n",
              "2     2011-01-01 02:00:00      1       0          0       1   9.02  13.635   \n",
              "3     2011-01-01 03:00:00      1       0          0       1   9.84  14.395   \n",
              "4     2011-01-01 04:00:00      1       0          0       1   9.84  14.395   \n",
              "...                   ...    ...     ...        ...     ...    ...     ...   \n",
              "10881 2012-12-19 19:00:00      4       0          1       1  15.58  19.695   \n",
              "10882 2012-12-19 20:00:00      4       0          1       1  14.76  17.425   \n",
              "10883 2012-12-19 21:00:00      4       0          1       1  13.94  15.910   \n",
              "10884 2012-12-19 22:00:00      4       0          1       1  13.94  17.425   \n",
              "10885 2012-12-19 23:00:00      4       0          1       1  13.12  16.665   \n",
              "\n",
              "       humidity  windspeed  casual  registered  count  \n",
              "0            81     0.0000       3          13     16  \n",
              "1            80     0.0000       8          32     40  \n",
              "2            80     0.0000       5          27     32  \n",
              "3            75     0.0000       3          10     13  \n",
              "4            75     0.0000       0           1      1  \n",
              "...         ...        ...     ...         ...    ...  \n",
              "10881        50    26.0027       7         329    336  \n",
              "10882        57    15.0013      10         231    241  \n",
              "10883        61    15.0013       4         164    168  \n",
              "10884        61     6.0032      12         117    129  \n",
              "10885        66     8.9981       4          84     88  \n",
              "\n",
              "[10583 rows x 12 columns]"
            ],
            "text/html": [
              "\n",
              "  <div id=\"df-9d9ef374-2aef-4020-9f0c-160bdb410549\">\n",
              "    <div class=\"colab-df-container\">\n",
              "      <div>\n",
              "<style scoped>\n",
              "    .dataframe tbody tr th:only-of-type {\n",
              "        vertical-align: middle;\n",
              "    }\n",
              "\n",
              "    .dataframe tbody tr th {\n",
              "        vertical-align: top;\n",
              "    }\n",
              "\n",
              "    .dataframe thead th {\n",
              "        text-align: right;\n",
              "    }\n",
              "</style>\n",
              "<table border=\"1\" class=\"dataframe\">\n",
              "  <thead>\n",
              "    <tr style=\"text-align: right;\">\n",
              "      <th></th>\n",
              "      <th>datetime</th>\n",
              "      <th>season</th>\n",
              "      <th>holiday</th>\n",
              "      <th>workingday</th>\n",
              "      <th>weather</th>\n",
              "      <th>temp</th>\n",
              "      <th>atemp</th>\n",
              "      <th>humidity</th>\n",
              "      <th>windspeed</th>\n",
              "      <th>casual</th>\n",
              "      <th>registered</th>\n",
              "      <th>count</th>\n",
              "    </tr>\n",
              "  </thead>\n",
              "  <tbody>\n",
              "    <tr>\n",
              "      <th>0</th>\n",
              "      <td>2011-01-01 00:00:00</td>\n",
              "      <td>1</td>\n",
              "      <td>0</td>\n",
              "      <td>0</td>\n",
              "      <td>1</td>\n",
              "      <td>9.84</td>\n",
              "      <td>14.395</td>\n",
              "      <td>81</td>\n",
              "      <td>0.0000</td>\n",
              "      <td>3</td>\n",
              "      <td>13</td>\n",
              "      <td>16</td>\n",
              "    </tr>\n",
              "    <tr>\n",
              "      <th>1</th>\n",
              "      <td>2011-01-01 01:00:00</td>\n",
              "      <td>1</td>\n",
              "      <td>0</td>\n",
              "      <td>0</td>\n",
              "      <td>1</td>\n",
              "      <td>9.02</td>\n",
              "      <td>13.635</td>\n",
              "      <td>80</td>\n",
              "      <td>0.0000</td>\n",
              "      <td>8</td>\n",
              "      <td>32</td>\n",
              "      <td>40</td>\n",
              "    </tr>\n",
              "    <tr>\n",
              "      <th>2</th>\n",
              "      <td>2011-01-01 02:00:00</td>\n",
              "      <td>1</td>\n",
              "      <td>0</td>\n",
              "      <td>0</td>\n",
              "      <td>1</td>\n",
              "      <td>9.02</td>\n",
              "      <td>13.635</td>\n",
              "      <td>80</td>\n",
              "      <td>0.0000</td>\n",
              "      <td>5</td>\n",
              "      <td>27</td>\n",
              "      <td>32</td>\n",
              "    </tr>\n",
              "    <tr>\n",
              "      <th>3</th>\n",
              "      <td>2011-01-01 03:00:00</td>\n",
              "      <td>1</td>\n",
              "      <td>0</td>\n",
              "      <td>0</td>\n",
              "      <td>1</td>\n",
              "      <td>9.84</td>\n",
              "      <td>14.395</td>\n",
              "      <td>75</td>\n",
              "      <td>0.0000</td>\n",
              "      <td>3</td>\n",
              "      <td>10</td>\n",
              "      <td>13</td>\n",
              "    </tr>\n",
              "    <tr>\n",
              "      <th>4</th>\n",
              "      <td>2011-01-01 04:00:00</td>\n",
              "      <td>1</td>\n",
              "      <td>0</td>\n",
              "      <td>0</td>\n",
              "      <td>1</td>\n",
              "      <td>9.84</td>\n",
              "      <td>14.395</td>\n",
              "      <td>75</td>\n",
              "      <td>0.0000</td>\n",
              "      <td>0</td>\n",
              "      <td>1</td>\n",
              "      <td>1</td>\n",
              "    </tr>\n",
              "    <tr>\n",
              "      <th>...</th>\n",
              "      <td>...</td>\n",
              "      <td>...</td>\n",
              "      <td>...</td>\n",
              "      <td>...</td>\n",
              "      <td>...</td>\n",
              "      <td>...</td>\n",
              "      <td>...</td>\n",
              "      <td>...</td>\n",
              "      <td>...</td>\n",
              "      <td>...</td>\n",
              "      <td>...</td>\n",
              "      <td>...</td>\n",
              "    </tr>\n",
              "    <tr>\n",
              "      <th>10881</th>\n",
              "      <td>2012-12-19 19:00:00</td>\n",
              "      <td>4</td>\n",
              "      <td>0</td>\n",
              "      <td>1</td>\n",
              "      <td>1</td>\n",
              "      <td>15.58</td>\n",
              "      <td>19.695</td>\n",
              "      <td>50</td>\n",
              "      <td>26.0027</td>\n",
              "      <td>7</td>\n",
              "      <td>329</td>\n",
              "      <td>336</td>\n",
              "    </tr>\n",
              "    <tr>\n",
              "      <th>10882</th>\n",
              "      <td>2012-12-19 20:00:00</td>\n",
              "      <td>4</td>\n",
              "      <td>0</td>\n",
              "      <td>1</td>\n",
              "      <td>1</td>\n",
              "      <td>14.76</td>\n",
              "      <td>17.425</td>\n",
              "      <td>57</td>\n",
              "      <td>15.0013</td>\n",
              "      <td>10</td>\n",
              "      <td>231</td>\n",
              "      <td>241</td>\n",
              "    </tr>\n",
              "    <tr>\n",
              "      <th>10883</th>\n",
              "      <td>2012-12-19 21:00:00</td>\n",
              "      <td>4</td>\n",
              "      <td>0</td>\n",
              "      <td>1</td>\n",
              "      <td>1</td>\n",
              "      <td>13.94</td>\n",
              "      <td>15.910</td>\n",
              "      <td>61</td>\n",
              "      <td>15.0013</td>\n",
              "      <td>4</td>\n",
              "      <td>164</td>\n",
              "      <td>168</td>\n",
              "    </tr>\n",
              "    <tr>\n",
              "      <th>10884</th>\n",
              "      <td>2012-12-19 22:00:00</td>\n",
              "      <td>4</td>\n",
              "      <td>0</td>\n",
              "      <td>1</td>\n",
              "      <td>1</td>\n",
              "      <td>13.94</td>\n",
              "      <td>17.425</td>\n",
              "      <td>61</td>\n",
              "      <td>6.0032</td>\n",
              "      <td>12</td>\n",
              "      <td>117</td>\n",
              "      <td>129</td>\n",
              "    </tr>\n",
              "    <tr>\n",
              "      <th>10885</th>\n",
              "      <td>2012-12-19 23:00:00</td>\n",
              "      <td>4</td>\n",
              "      <td>0</td>\n",
              "      <td>1</td>\n",
              "      <td>1</td>\n",
              "      <td>13.12</td>\n",
              "      <td>16.665</td>\n",
              "      <td>66</td>\n",
              "      <td>8.9981</td>\n",
              "      <td>4</td>\n",
              "      <td>84</td>\n",
              "      <td>88</td>\n",
              "    </tr>\n",
              "  </tbody>\n",
              "</table>\n",
              "<p>10583 rows × 12 columns</p>\n",
              "</div>\n",
              "      <button class=\"colab-df-convert\" onclick=\"convertToInteractive('df-9d9ef374-2aef-4020-9f0c-160bdb410549')\"\n",
              "              title=\"Convert this dataframe to an interactive table.\"\n",
              "              style=\"display:none;\">\n",
              "        \n",
              "  <svg xmlns=\"http://www.w3.org/2000/svg\" height=\"24px\"viewBox=\"0 0 24 24\"\n",
              "       width=\"24px\">\n",
              "    <path d=\"M0 0h24v24H0V0z\" fill=\"none\"/>\n",
              "    <path d=\"M18.56 5.44l.94 2.06.94-2.06 2.06-.94-2.06-.94-.94-2.06-.94 2.06-2.06.94zm-11 1L8.5 8.5l.94-2.06 2.06-.94-2.06-.94L8.5 2.5l-.94 2.06-2.06.94zm10 10l.94 2.06.94-2.06 2.06-.94-2.06-.94-.94-2.06-.94 2.06-2.06.94z\"/><path d=\"M17.41 7.96l-1.37-1.37c-.4-.4-.92-.59-1.43-.59-.52 0-1.04.2-1.43.59L10.3 9.45l-7.72 7.72c-.78.78-.78 2.05 0 2.83L4 21.41c.39.39.9.59 1.41.59.51 0 1.02-.2 1.41-.59l7.78-7.78 2.81-2.81c.8-.78.8-2.07 0-2.86zM5.41 20L4 18.59l7.72-7.72 1.47 1.35L5.41 20z\"/>\n",
              "  </svg>\n",
              "      </button>\n",
              "      \n",
              "  <style>\n",
              "    .colab-df-container {\n",
              "      display:flex;\n",
              "      flex-wrap:wrap;\n",
              "      gap: 12px;\n",
              "    }\n",
              "\n",
              "    .colab-df-convert {\n",
              "      background-color: #E8F0FE;\n",
              "      border: none;\n",
              "      border-radius: 50%;\n",
              "      cursor: pointer;\n",
              "      display: none;\n",
              "      fill: #1967D2;\n",
              "      height: 32px;\n",
              "      padding: 0 0 0 0;\n",
              "      width: 32px;\n",
              "    }\n",
              "\n",
              "    .colab-df-convert:hover {\n",
              "      background-color: #E2EBFA;\n",
              "      box-shadow: 0px 1px 2px rgba(60, 64, 67, 0.3), 0px 1px 3px 1px rgba(60, 64, 67, 0.15);\n",
              "      fill: #174EA6;\n",
              "    }\n",
              "\n",
              "    [theme=dark] .colab-df-convert {\n",
              "      background-color: #3B4455;\n",
              "      fill: #D2E3FC;\n",
              "    }\n",
              "\n",
              "    [theme=dark] .colab-df-convert:hover {\n",
              "      background-color: #434B5C;\n",
              "      box-shadow: 0px 1px 3px 1px rgba(0, 0, 0, 0.15);\n",
              "      filter: drop-shadow(0px 1px 2px rgba(0, 0, 0, 0.3));\n",
              "      fill: #FFFFFF;\n",
              "    }\n",
              "  </style>\n",
              "\n",
              "      <script>\n",
              "        const buttonEl =\n",
              "          document.querySelector('#df-9d9ef374-2aef-4020-9f0c-160bdb410549 button.colab-df-convert');\n",
              "        buttonEl.style.display =\n",
              "          google.colab.kernel.accessAllowed ? 'block' : 'none';\n",
              "\n",
              "        async function convertToInteractive(key) {\n",
              "          const element = document.querySelector('#df-9d9ef374-2aef-4020-9f0c-160bdb410549');\n",
              "          const dataTable =\n",
              "            await google.colab.kernel.invokeFunction('convertToInteractive',\n",
              "                                                     [key], {});\n",
              "          if (!dataTable) return;\n",
              "\n",
              "          const docLinkHtml = 'Like what you see? Visit the ' +\n",
              "            '<a target=\"_blank\" href=https://colab.research.google.com/notebooks/data_table.ipynb>data table notebook</a>'\n",
              "            + ' to learn more about interactive tables.';\n",
              "          element.innerHTML = '';\n",
              "          dataTable['output_type'] = 'display_data';\n",
              "          await google.colab.output.renderOutput(dataTable, element);\n",
              "          const docLink = document.createElement('div');\n",
              "          docLink.innerHTML = docLinkHtml;\n",
              "          element.appendChild(docLink);\n",
              "        }\n",
              "      </script>\n",
              "    </div>\n",
              "  </div>\n",
              "  "
            ]
          },
          "metadata": {},
          "execution_count": 123
        }
      ]
    },
    {
      "cell_type": "code",
      "source": [
        "yulu_df_new['weather'].value_counts()"
      ],
      "metadata": {
        "id": "IrRxEYTomFjj",
        "colab": {
          "base_uri": "https://localhost:8080/"
        },
        "outputId": "0771bdbc-a9c7-423e-9b27-ee5ccf6197f2"
      },
      "execution_count": null,
      "outputs": [
        {
          "output_type": "execute_result",
          "data": {
            "text/plain": [
              "1    6962\n",
              "2    2770\n",
              "3     850\n",
              "4       1\n",
              "Name: weather, dtype: int64"
            ]
          },
          "metadata": {},
          "execution_count": 124
        }
      ]
    },
    {
      "cell_type": "code",
      "source": [
        "sns.displot(yulu_df['count'])\n",
        "plt.show()"
      ],
      "metadata": {
        "id": "M6aGsOJzmFjk",
        "colab": {
          "base_uri": "https://localhost:8080/",
          "height": 369
        },
        "outputId": "598941c4-85b4-4179-81c1-d586ed1cc678"
      },
      "execution_count": null,
      "outputs": [
        {
          "output_type": "display_data",
          "data": {
            "text/plain": [
              "<Figure size 360x360 with 1 Axes>"
            ],
            "image/png": "[encoded data removed]"
          },
          "metadata": {
            "needs_background": "light"
          }
        }
      ]
    },
    {
      "cell_type": "code",
      "source": [
        "weather_unique=yulu_df_new['weather'].unique()\n",
        "weather_unique"
      ],
      "metadata": {
        "id": "KjZaQQ0OmFjl",
        "colab": {
          "base_uri": "https://localhost:8080/"
        },
        "outputId": "1f180741-ec5a-4334-aa72-2ac5f3082e81"
      },
      "execution_count": null,
      "outputs": [
        {
          "output_type": "execute_result",
          "data": {
            "text/plain": [
              "[1, 2, 3, 4]\n",
              "Categories (4, int64): [1, 2, 3, 4]"
            ]
          },
          "metadata": {},
          "execution_count": 126
        }
      ]
    },
    {
      "cell_type": "code",
      "source": [
        "# for i in range(10):\n",
        "#   name='sample'+str(i)\n",
        "#   print(f'{name} : {i}')"
      ],
      "metadata": {
        "id": "iegmHM7smFjl"
      },
      "execution_count": null,
      "outputs": []
    },
    {
      "cell_type": "code",
      "source": [
        "weather_arrays=[]\n",
        "for i in weather_unique:\n",
        "  sample='weaather'+str(i)\n",
        "  array=np.array(yulu_df_new[yulu_df_new['weather']==i]['count'])\n",
        "  print(sample)\n",
        "  print('Before_transformation')\n",
        "  sns.displot(array)\n",
        "  plt.show()\n",
        "  print('after_transformation')\n",
        "  fitted_data, fitted_lambda = stats.boxcox(array)\n",
        "  sns.displot(fitted_data)  \n",
        "  plt.show()\n",
        "  print('QQplot')\n",
        "  fig = sm.qqplot(fitted_data, line='45', fit=True)\n",
        "  plt.grid()\n",
        "  plt.show()\n",
        "  weather_arrays.append(fitted_data)\n"
      ],
      "metadata": {
        "id": "JAApr77EmFjl",
        "colab": {
          "base_uri": "https://localhost:8080/",
          "height": 1000
        },
        "outputId": "c7bf2ea6-32c0-4bd7-9203-3d88b0ea57be"
      },
      "execution_count": null,
      "outputs": [
        {
          "output_type": "stream",
          "name": "stdout",
          "text": [
            "weaather1\n",
            "Before_transformation\n"
          ]
        },
        {
          "output_type": "display_data",
          "data": {
            "text/plain": [
              "<Figure size 360x360 with 1 Axes>"
            ],
            "image/png": "[encoded data removed]"
          },
          "metadata": {
            "needs_background": "light"
          }
        },
        {
          "output_type": "stream",
          "name": "stdout",
          "text": [
            "after_transformation\n"
          ]
        },
        {
          "output_type": "display_data",
          "data": {
            "text/plain": [
              "<Figure size 360x360 with 1 Axes>"
            ],
            "image/png": "[encoded data removed]"
          },
          "metadata": {
            "needs_background": "light"
          }
        },
        {
          "output_type": "stream",
          "name": "stdout",
          "text": [
            "QQplot\n"
          ]
        },
        {
          "output_type": "display_data",
          "data": {
            "text/plain": [
              "<Figure size 432x288 with 1 Axes>"
            ],
            "image/png": "[encoded data removed]"
          },
          "metadata": {
            "needs_background": "light"
          }
        },
        {
          "output_type": "stream",
          "name": "stdout",
          "text": [
            "weaather2\n",
            "Before_transformation\n"
          ]
        },
        {
          "output_type": "display_data",
          "data": {
            "text/plain": [
              "<Figure size 360x360 with 1 Axes>"
            ],
            "image/png": "[encoded data removed]"
          },
          "metadata": {
            "needs_background": "light"
          }
        },
        {
          "output_type": "stream",
          "name": "stdout",
          "text": [
            "after_transformation\n"
          ]
        },
        {
          "output_type": "display_data",
          "data": {
            "text/plain": [
              "<Figure size 360x360 with 1 Axes>"
            ],
            "image/png": "[encoded data removed]"
          },
          "metadata": {
            "needs_background": "light"
          }
        },
        {
          "output_type": "stream",
          "name": "stdout",
          "text": [
            "QQplot\n"
          ]
        },
        {
          "output_type": "display_data",
          "data": {
            "text/plain": [
              "<Figure size 432x288 with 1 Axes>"
            ],
            "image/png": "[encoded data removed]"
          },
          "metadata": {
            "needs_background": "light"
          }
        },
        {
          "output_type": "stream",
          "name": "stdout",
          "text": [
            "weaather3\n",
            "Before_transformation\n"
          ]
        },
        {
          "output_type": "display_data",
          "data": {
            "text/plain": [
              "<Figure size 360x360 with 1 Axes>"
            ],
            "image/png": "[encoded data removed]"
          },
          "metadata": {
            "needs_background": "light"
          }
        },
        {
          "output_type": "stream",
          "name": "stdout",
          "text": [
            "after_transformation\n"
          ]
        },
        {
          "output_type": "display_data",
          "data": {
            "text/plain": [
              "<Figure size 360x360 with 1 Axes>"
            ],
            "image/png": "[encoded data removed]"
          },
          "metadata": {
            "needs_background": "light"
          }
        },
        {
          "output_type": "stream",
          "name": "stdout",
          "text": [
            "QQplot\n"
          ]
        },
        {
          "output_type": "display_data",
          "data": {
            "text/plain": [
              "<Figure size 432x288 with 1 Axes>"
            ],
            "image/png": "[encoded data removed]"
          },
          "metadata": {
            "needs_background": "light"
          }
        },
        {
          "output_type": "stream",
          "name": "stdout",
          "text": [
            "weaather4\n",
            "Before_transformation\n"
          ]
        },
        {
          "output_type": "display_data",
          "data": {
            "text/plain": [
              "<Figure size 360x360 with 1 Axes>"
            ],
            "image/png": "[encoded data removed]"
          },
          "metadata": {
            "needs_background": "light"
          }
        },
        {
          "output_type": "stream",
          "name": "stdout",
          "text": [
            "after_transformation\n"
          ]
        },
        {
          "output_type": "error",
          "ename": "ValueError",
          "evalue": "ignored",
          "traceback": [
            "\u001b[0;31m---------------------------------------------------------------------------\u001b[0m",
            "\u001b[0;31mValueError\u001b[0m                                Traceback (most recent call last)",
            "\u001b[0;32m<ipython-input-128-00dfb0cddd65>\u001b[0m in \u001b[0;36m<module>\u001b[0;34m()\u001b[0m\n\u001b[1;32m      8\u001b[0m   \u001b[0mplt\u001b[0m\u001b[0;34m.\u001b[0m\u001b[0mshow\u001b[0m\u001b[0;34m(\u001b[0m\u001b[0;34m)\u001b[0m\u001b[0;34m\u001b[0m\u001b[0;34m\u001b[0m\u001b[0m\n\u001b[1;32m      9\u001b[0m   \u001b[0mprint\u001b[0m\u001b[0;34m(\u001b[0m\u001b[0;34m'after_transformation'\u001b[0m\u001b[0;34m)\u001b[0m\u001b[0;34m\u001b[0m\u001b[0;34m\u001b[0m\u001b[0m\n\u001b[0;32m---> 10\u001b[0;31m   \u001b[0mfitted_data\u001b[0m\u001b[0;34m,\u001b[0m \u001b[0mfitted_lambda\u001b[0m \u001b[0;34m=\u001b[0m \u001b[0mstats\u001b[0m\u001b[0;34m.\u001b[0m\u001b[0mboxcox\u001b[0m\u001b[0;34m(\u001b[0m\u001b[0marray\u001b[0m\u001b[0;34m)\u001b[0m\u001b[0;34m\u001b[0m\u001b[0;34m\u001b[0m\u001b[0m\n\u001b[0m\u001b[1;32m     11\u001b[0m   \u001b[0msns\u001b[0m\u001b[0;34m.\u001b[0m\u001b[0mdisplot\u001b[0m\u001b[0;34m(\u001b[0m\u001b[0mfitted_data\u001b[0m\u001b[0;34m)\u001b[0m\u001b[0;34m\u001b[0m\u001b[0;34m\u001b[0m\u001b[0m\n\u001b[1;32m     12\u001b[0m   \u001b[0mplt\u001b[0m\u001b[0;34m.\u001b[0m\u001b[0mshow\u001b[0m\u001b[0;34m(\u001b[0m\u001b[0;34m)\u001b[0m\u001b[0;34m\u001b[0m\u001b[0;34m\u001b[0m\u001b[0m\n",
            "\u001b[0;32m/usr/local/lib/python3.7/dist-packages/scipy/stats/morestats.py\u001b[0m in \u001b[0;36mboxcox\u001b[0;34m(x, lmbda, alpha, optimizer)\u001b[0m\n\u001b[1;32m   1059\u001b[0m \u001b[0;34m\u001b[0m\u001b[0m\n\u001b[1;32m   1060\u001b[0m     \u001b[0;32mif\u001b[0m \u001b[0mnp\u001b[0m\u001b[0;34m.\u001b[0m\u001b[0mall\u001b[0m\u001b[0;34m(\u001b[0m\u001b[0mx\u001b[0m \u001b[0;34m==\u001b[0m \u001b[0mx\u001b[0m\u001b[0;34m[\u001b[0m\u001b[0;36m0\u001b[0m\u001b[0;34m]\u001b[0m\u001b[0;34m)\u001b[0m\u001b[0;34m:\u001b[0m\u001b[0;34m\u001b[0m\u001b[0;34m\u001b[0m\u001b[0m\n\u001b[0;32m-> 1061\u001b[0;31m         \u001b[0;32mraise\u001b[0m \u001b[0mValueError\u001b[0m\u001b[0;34m(\u001b[0m\u001b[0;34m\"Data must not be constant.\"\u001b[0m\u001b[0;34m)\u001b[0m\u001b[0;34m\u001b[0m\u001b[0;34m\u001b[0m\u001b[0m\n\u001b[0m\u001b[1;32m   1062\u001b[0m \u001b[0;34m\u001b[0m\u001b[0m\n\u001b[1;32m   1063\u001b[0m     \u001b[0;32mif\u001b[0m \u001b[0mnp\u001b[0m\u001b[0;34m.\u001b[0m\u001b[0many\u001b[0m\u001b[0;34m(\u001b[0m\u001b[0mx\u001b[0m \u001b[0;34m<=\u001b[0m \u001b[0;36m0\u001b[0m\u001b[0;34m)\u001b[0m\u001b[0;34m:\u001b[0m\u001b[0;34m\u001b[0m\u001b[0;34m\u001b[0m\u001b[0m\n",
            "\u001b[0;31mValueError\u001b[0m: Data must not be constant."
          ]
        }
      ]
    },
    {
      "cell_type": "markdown",
      "source": [
        "**So after removing outliers also the groups or rented cycles as per weather has not changed to normal distribution**"
      ],
      "metadata": {
        "id": "z52rSvTbmFjm"
      }
    },
    {
      "cell_type": "markdown",
      "source": [
        "**Check for annova test or F1 distribution**"
      ],
      "metadata": {
        "id": "xoiH0tYfmFjm"
      }
    },
    {
      "cell_type": "code",
      "source": [
        "weather_arrays"
      ],
      "metadata": {
        "id": "PP42y5v0mFjm",
        "colab": {
          "base_uri": "https://localhost:8080/"
        },
        "outputId": "39a168d9-00c6-4530-bac2-5a9e11fee183"
      },
      "execution_count": null,
      "outputs": [
        {
          "output_type": "execute_result",
          "data": {
            "text/plain": [
              "[array([ 4.84162064,  7.89083019,  7.0502743 , ..., 15.32634399,\n",
              "        13.64522763, 11.48503273]),\n",
              " array([ 0.        , 11.11231936, 11.71035296, ...,  4.98871983,\n",
              "         4.50484111,  2.78441099]),\n",
              " array([ 5.50177676,  5.62848005,  0.75146226,  2.66651677,  6.75879572,\n",
              "         7.35284235,  7.42483566,  1.947784  ,  2.45435772,  0.        ,\n",
              "         3.75767476,  4.3121582 ,  8.04485721,  6.39271876,  5.30083571,\n",
              "         4.3121582 ,  5.08482152,  4.21058784,  6.80181552,  5.36936983,\n",
              "         4.93104981,  3.49522795,  1.63281707,  2.45435772,  1.24989544,\n",
              "         0.75146226,  1.24989544,  4.50410218,  6.44079781,  9.08811043,\n",
              "         3.87889462,  0.75146226,  1.24989544,  1.63281707,  0.        ,\n",
              "         0.        ,  1.24989544,  4.10481405,  6.29434021,  9.52191577,\n",
              "         2.66651677,  2.85914057,  1.63281707,  1.63281707,  3.0359267 ,\n",
              "         4.3121582 ,  5.43632305,  6.19281952,  6.44079781,  7.27933488,\n",
              "         6.5808871 ,  6.80181552,  7.24199005,  0.        ,  7.82858937,\n",
              "         7.69899306,  6.14080678,  5.62848005,  3.87889462,  2.45435772,\n",
              "         1.24989544,  1.947784  ,  5.75001472,  2.45435772,  3.19958231,\n",
              "         4.76824093,  4.5950722 ,  3.19958231,  3.19958231,  2.45435772,\n",
              "         1.63281707,  0.75146226,  4.40989035,  4.10481405,  1.24989544,\n",
              "         0.75146226,  0.        ,  1.24989544,  3.35215363,  5.62848005,\n",
              "         6.0341123 ,  4.68304592,  3.99441407,  3.19958231,  5.43632305,\n",
              "         3.35215363,  3.35215363,  3.63006324,  4.40989035,  7.63240491,\n",
              "         6.62627512,  5.68986312,  5.00899306,  4.93104981,  2.66651677,\n",
              "         1.947784  ,  6.5808871 ,  2.66651677,  1.24989544,  2.21740596,\n",
              "         1.63281707,  2.45435772,  3.35215363,  5.00899306,  8.04485721,\n",
              "        10.08001455, 10.18689769,  9.11093779,  7.53013799,  3.75767476,\n",
              "         0.75146226,  1.947784  ,  9.56287738,  6.14080678,  5.00899306,\n",
              "         4.21058784,  3.49522795,  0.        ,  8.54945204, 10.70107232,\n",
              "         7.56455424,  5.92361567,  3.75767476,  4.76824093,  9.37526594,\n",
              "         6.88622521,  6.48817012,  3.63006324,  1.24989544,  6.53485914,\n",
              "        10.7787133 ,  6.53485914,  5.80899022,  8.36113248, 11.68432483,\n",
              "        10.74781719,  0.75146226,  0.75146226,  1.24989544,  1.947784  ,\n",
              "         5.43632305,  7.204238  ,  9.70315175,  8.04485721,  3.0359267 ,\n",
              "         6.08791598,  5.08482152,  4.50410218,  5.23063215,  6.71521076,\n",
              "         6.92764604,  7.49538465,  5.36936983,  3.75767476,  6.48817012,\n",
              "         4.68304592,  9.66355144,  4.93104981,  2.45435772,  1.63281707,\n",
              "         0.        ,  1.24989544,  2.85914057,  4.40989035,  6.44079781,\n",
              "         7.53013799,  5.80899022, 13.55338281, 11.69698045, 12.67851714,\n",
              "        12.39074474,  1.947784  ,  7.63240491,  9.56287738, 13.73427601,\n",
              "        12.8816372 ,  8.70384611,  5.30083571,  7.82858937, 11.5297819 ,\n",
              "        11.10540046, 11.10540046,  9.56287738,  6.75879572,  4.85085107,\n",
              "         6.0341123 ,  3.63006324, 12.82154265, 10.7787133 , 13.40232974,\n",
              "         3.49522795,  2.66651677,  1.63281707,  1.63281707,  4.50410218,\n",
              "         6.29434021,  8.30557171,  9.48054516,  2.21740596,  2.85914057,\n",
              "         1.24989544, 10.39309721,  8.36113248, 12.16638216, 10.57398518,\n",
              "         9.70315175, 10.06194067, 10.0072588 ,  7.53013799, 11.90718535,\n",
              "         9.83888907,  7.16606838,  4.5950722 , 12.37976361, 11.16237829,\n",
              "        14.35800829,  8.52310935, 10.15156247, 11.72219191, 10.15156247,\n",
              "         9.43875603,  3.87889462, 14.22795252, 13.37522189, 12.13183354,\n",
              "         7.69899306, 12.00303545,  5.36936983,  1.947784  ,  0.        ,\n",
              "        12.46694562, 10.02556354,  9.9332473 , 10.16926607,  5.97935869,\n",
              "         9.01883799,  9.76186071,  9.58320769,  8.62741779,  6.14080678,\n",
              "         7.95372631,  8.46987586,  7.12747042,  9.64360997,  9.41770146,\n",
              "        13.74274024, 12.05026359,  7.79662249,  7.46028653,  1.24989544,\n",
              "        12.30221157,  9.39653852,  9.83888907,  9.13363626,  8.41589183,\n",
              "        12.10866572, 10.23936735, 10.25671766, 12.46694562,  7.89169318,\n",
              "         7.31628245,  6.88622521,  1.24989544,  8.27748227,  9.52191577,\n",
              "         5.75001472,  4.93104981,  4.76824093, 10.04379058, 12.99002229,\n",
              "        11.46387555,  6.88622521,  4.3121582 ,  2.66651677,  9.72281261,\n",
              "         6.71521076, 10.32543782,  5.30083571,  4.3121582 , 11.24655319,\n",
              "        10.25671766,  9.45970352,  9.91454232,  7.63240491,  4.3121582 ,\n",
              "         2.66651677,  0.75146226,  0.        ,  4.40989035, 12.53135283,\n",
              "         8.36113248,  7.86027777,  7.08843289,  5.08482152,  4.68304592,\n",
              "         7.86027777,  8.36113248,  9.68339836,  8.75397795,  6.71521076,\n",
              "         1.947784  ,  0.75146226,  1.63281707,  7.38902378,  7.76437142,\n",
              "        12.13183354, 10.18689769,  7.04894413,  3.0359267 ,  4.50410218,\n",
              "         3.19958231,  4.76824093,  6.71521076, 11.6076797 , 10.94497675,\n",
              "         8.07474158,  5.68986312,  5.08482152,  4.68304592,  3.63006324,\n",
              "         1.63281707,  0.75146226,  3.63006324,  6.62627512,  9.98887559,\n",
              "        10.27399925,  9.1786532 ,  9.54244712,  8.54945204,  7.12747042,\n",
              "         6.44079781,  7.63240491,  7.204238  ,  4.85085107,  3.87889462,\n",
              "         1.24989544,  8.41589183, 11.64615595,  9.11093779,  6.08791598,\n",
              "        11.28807656, 11.04771056,  5.565806  ,  8.9483425 ,  8.75397795,\n",
              "         9.01883799, 10.8093996 ,  9.20097489,  7.04894413,  6.62627512,\n",
              "         7.00899195,  6.19281952,  4.68304592,  5.15866262,  2.85914057,\n",
              "        11.89507019, 11.21866395,  9.87688405, 10.45973271,  9.76186071,\n",
              "         6.96856367,  8.67853653,  8.72899245,  8.22066739, 10.42654072,\n",
              "         9.83888907,  3.0359267 ,  0.75146226,  2.45435772,  8.72899245,\n",
              "         6.88622521,  8.22066739,  7.49538465,  6.08791598, 11.14819949,\n",
              "         9.85792909,  8.44297919,  7.89169318,  7.66585342,  5.97935869,\n",
              "         6.53485914,  6.44079781,  7.59864082, 10.50905851,  8.44297919,\n",
              "         7.16606838, 13.6316553 , 11.38355416,  8.01472962,  9.3538824 ,\n",
              "         8.85235769,  7.79662249,  7.38902378,  1.24989544,  1.24989544,\n",
              "         5.23063215,  7.12747042, 10.52537928, 10.39309721,  8.80347576,\n",
              "         9.39653852,  8.97197996,  8.10438723,  8.72899245, 10.37627975,\n",
              "        10.02556354,  9.20097489,  9.31077706,  8.07474158,  6.96856367,\n",
              "         6.88622521,  7.31628245,  9.95187064,  9.48054516,  1.947784  ,\n",
              "         3.49522795,  9.13363626, 10.87015566,  7.63240491,  5.565806  ,\n",
              "         6.80181552,  6.53485914,  6.71521076,  7.04894413,  8.80347576,\n",
              "        10.16926607,  8.49658492,  8.16297953,  7.38902378,  6.14080678,\n",
              "         5.23063215,  4.50410218,  7.38902378,  9.78124987, 12.43442985,\n",
              "         8.10438723,  2.45435772,  4.3121582 ,  6.34390826,  5.30083571,\n",
              "         6.5808871 ,  7.24199005,  7.38902378,  6.08791598,  7.82858937,\n",
              "        10.88521852,  8.46987586,  7.79662249,  6.48817012,  2.21740596,\n",
              "         1.24989544,  0.        ,  1.24989544,  4.10481405,  6.14080678,\n",
              "         7.76437142,  6.96856367,  5.36936983,  6.34390826,  5.36936983,\n",
              "         5.36936983,  4.76824093,  5.15866262,  5.23063215,  6.44079781,\n",
              "         6.39271876,  5.36936983,  4.85085107,  2.21740596,  3.49522795,\n",
              "         7.63240491,  8.99547783,  8.36113248,  8.36113248,  8.33345396,\n",
              "         6.34390826,  7.16606838,  6.29434021,  9.45970352, 10.18689769,\n",
              "         6.5808871 ,  7.00899195,  7.31628245,  9.0651525 ,  8.13379847,\n",
              "         7.98435424,  6.6710433 ,  5.08482152,  6.29434021,  2.85914057,\n",
              "         1.24989544,  1.24989544,  0.75146226,  1.24989544,  0.75146226,\n",
              "         3.87889462,  7.86027777,  1.24989544,  5.00899306,  3.35215363,\n",
              "         0.75146226,  3.49522795,  6.6710433 ,  8.87657315,  7.98435424,\n",
              "         7.12747042,  6.88622521,  7.08843289, 10.4926775 , 13.97453196,\n",
              "         0.        ,  4.21058784,  7.35284235, 10.44316788, 13.32973131,\n",
              "        10.8093996 ,  7.49538465,  8.33345396,  7.08843289,  6.96856367,\n",
              "         7.56455424,  7.46028653,  7.49538465,  3.99441407,  1.63281707,\n",
              "         6.53485914,  7.38902378,  9.52191577,  9.76186071,  9.64360997,\n",
              "         8.85235769,  8.9483425 , 12.47773758,  6.08791598,  4.85085107,\n",
              "         2.85914057,  1.63281707,  0.75146226,  2.85914057,  4.21058784,\n",
              "         7.49538465,  7.89169318,  9.74238194,  9.33238656,  9.28905249,\n",
              "         4.3121582 ,  4.40989035,  4.68304592,  1.24989544,  6.0341123 ,\n",
              "         7.24199005,  6.08791598,  6.96856367,  5.23063215,  6.48817012,\n",
              "         8.67853653, 11.65891278, 12.41263494,  5.565806  ,  6.5808871 ,\n",
              "         3.35215363,  6.34390826,  8.92456352,  9.62357289,  9.89575485,\n",
              "         8.22066739,  4.50410218,  6.0341123 ,  5.68986312,  6.24398703,\n",
              "         8.01472962, 12.77092045, 12.64733965,  4.85085107,  3.19958231,\n",
              "         0.        ,  5.08482152,  0.        ,  0.75146226,  8.54945204,\n",
              "         8.38861067,  8.9483425 , 11.24655319, 12.9802625 ,  5.92361567,\n",
              "         7.12747042,  6.92764604,  3.99441407,  1.947784  ,  1.947784  ,\n",
              "         9.72281261, 10.39309721, 14.47770856, 14.41069197, 11.34287317,\n",
              "         9.3538824 ,  8.70384611,  8.46987586,  6.96856367,  6.39271876,\n",
              "         8.13379847,  4.76824093,  3.49522795,  4.85085107,  8.72899245,\n",
              "        12.74030493, 14.78034825,  9.83888907, 13.17205832, 14.1421462 ,\n",
              "         3.87889462,  3.19958231,  3.99441407,  5.565806  , 10.66963693,\n",
              "         7.24199005,  9.0651525 , 12.79122942,  9.3538824 ,  6.92764604,\n",
              "         0.        ,  0.75146226,  1.947784  , 12.61596951,  8.13379847,\n",
              "         6.39271876,  5.43632305,  7.08843289,  6.5808871 ,  5.36936983,\n",
              "         7.00899195,  7.38902378,  9.54244712,  8.46987586,  6.75879572,\n",
              "         8.49658492, 10.82466508, 11.84630453,  4.21058784,  2.21740596,\n",
              "         1.947784  ,  2.66651677,  4.68304592,  7.95372631, 10.97456508,\n",
              "        11.31555508,  8.44297919,  7.24199005,  9.22317414, 11.19060643,\n",
              "        11.24655319, 10.71670793, 10.79408247,  8.46987586,  6.08791598,\n",
              "         5.75001472,  7.7318303 ,  4.5950722 ,  7.31628245,  3.63006324,\n",
              "         2.66651677,  1.947784  ,  1.947784  ,  5.565806  ,  1.63281707,\n",
              "         5.08482152, 11.83403598,  8.85235769,  7.00899195,  8.04485721,\n",
              "         6.75879572,  6.80181552,  8.62741779,  7.86027777,  4.5950722 ,\n",
              "         5.62848005,  9.31077706,  7.92284097,  9.78124987,  7.35284235,\n",
              "         8.46987586, 12.65775342, 11.77222127,  8.77880495,  8.80347576,\n",
              "         4.10481405,  1.947784  ,  1.947784  ,  0.75146226,  7.95372631,\n",
              "        10.83987933, 13.03854747,  7.69899306,  7.89169318,  2.85914057,\n",
              "        13.44720388, 11.94335062,  5.97935869, 12.76073564, 10.25671766,\n",
              "        12.17784478,  7.12747042,  7.00899195, 10.82466508,  1.947784  ,\n",
              "        12.97048428, 11.49034833, 13.32973131,  2.45435772,  5.36936983,\n",
              "         6.0341123 ,  9.04206228,  8.70384611, 11.14819949,  7.7318303 ,\n",
              "         4.40989035, 13.90930666,  9.62357289,  9.68339836,  6.96856367,\n",
              "        10.57398518,  8.75397795,  7.95372631,  5.97935869, 11.43725357,\n",
              "        11.77222127,  9.66355144,  9.39653852, 10.18689769, 12.82154265,\n",
              "        10.47623574,  8.30557171, 14.17350262, 13.75119122, 13.43825934,\n",
              "        12.43442985,  9.74238194,  8.80347576, 14.91214761,  8.80347576,\n",
              "         6.29434021,  6.88622521, 13.90930666,  8.57561585,  9.83888907,\n",
              "         9.76186071, 10.60609705, 10.88521852,  8.9483425 ,  7.204238  ,\n",
              "         3.49522795,  1.947784  ,  1.63281707,  9.62357289,  7.82858937,\n",
              "         9.26721145,  5.565806  ,  9.22317414, 12.2460678 ,  9.43875603,\n",
              "        14.68125109, 11.30183601, 10.47623574,  8.33345396,  9.98887559,\n",
              "        11.27427646,  9.0651525 ,  7.76437142,  6.08791598,  8.16297953,\n",
              "         9.68339836, 10.50905851, 12.63690448, 12.85167778, 11.87074872,\n",
              "        11.65891278,  6.44079781,  7.42483566,  5.75001472,  9.04206228,\n",
              "         5.50177676,  6.88622521,  7.76437142, 11.87074872, 12.18928085,\n",
              "         9.56287738,  8.36113248, 12.59494771, 12.66814588, 10.79408247,\n",
              "         8.38861067,  3.49522795,  2.45435772,  1.24989544,  2.45435772,\n",
              "        12.47773758, 11.59478499, 14.52928584, 10.97456508,  3.87889462,\n",
              "         8.99547783,  9.50128218, 14.32767891, 13.14373505, 12.16638216,\n",
              "         9.33238656,  9.81976313, 10.70107232,  6.80181552,  5.80899022,\n",
              "         3.75767476,  3.35215363,  9.52191577,  1.947784  ,  3.19958231,\n",
              "         1.947784  ,  6.34390826,  8.38861067, 10.54164031,  8.46987586,\n",
              "         8.01472962, 11.83403598,  8.82799261, 12.8816372 , 10.60609705,\n",
              "        11.00396337,  2.21740596,  4.5950722 ,  7.16606838, 10.76329167,\n",
              "        11.17651384, 10.82466508, 10.32543782,  8.77880495,  8.41589183,\n",
              "         7.49538465,  6.39271876,  4.3121582 ,  9.0651525 ,  9.87688405,\n",
              "        10.68538213,  5.23063215,  1.24989544,  5.86684117,  8.07474158,\n",
              "         8.38861067,  1.947784  , 11.82173621,  6.19281952, 11.9553462 ])]"
            ]
          },
          "metadata": {},
          "execution_count": 130
        }
      ]
    },
    {
      "cell_type": "code",
      "source": [
        "from scipy.stats import f_oneway"
      ],
      "metadata": {
        "id": "_zGRplv-mFjm"
      },
      "execution_count": null,
      "outputs": []
    },
    {
      "cell_type": "markdown",
      "source": [
        "**Without considering the weather 4 as it is only 1 sample**"
      ],
      "metadata": {
        "id": "COfygoSYn4-V"
      }
    },
    {
      "cell_type": "code",
      "source": [
        "f_oneway(weather_arrays[0],weather_arrays[1],weather_arrays[2])"
      ],
      "metadata": {
        "id": "WpsF_517mFjn",
        "colab": {
          "base_uri": "https://localhost:8080/"
        },
        "outputId": "bb657d40-9279-4d94-d782-1c2d3f2351de"
      },
      "execution_count": null,
      "outputs": [
        {
          "output_type": "execute_result",
          "data": {
            "text/plain": [
              "F_onewayResult(statistic=436.0754790396411, pvalue=1.0405829846992481e-182)"
            ]
          },
          "metadata": {},
          "execution_count": 132
        }
      ]
    },
    {
      "cell_type": "code",
      "source": [
        "f_oneway(sample_1,sample_2,sample_3)"
      ],
      "metadata": {
        "id": "eBnHmBqpmFjn",
        "colab": {
          "base_uri": "https://localhost:8080/"
        },
        "outputId": "1a05e841-0f03-44cc-eec0-c99cef06e831"
      },
      "execution_count": null,
      "outputs": [
        {
          "output_type": "execute_result",
          "data": {
            "text/plain": [
              "F_onewayResult(statistic=98.28356881946706, pvalue=4.976448509904196e-43)"
            ]
          },
          "metadata": {},
          "execution_count": 133
        }
      ]
    },
    {
      "cell_type": "markdown",
      "source": [
        "**The p value is very less than the significance value and hence we have to reject null hypothesis saying the mean or no.of cycles rented is not equal w.r.t every weather**"
      ],
      "metadata": {
        "id": "Ht6HuHMgmFjn"
      }
    },
    {
      "cell_type": "markdown",
      "source": [
        "###d.kruskal wallis test"
      ],
      "metadata": {
        "id": "mkhtSVdDH-n2"
      }
    },
    {
      "cell_type": "code",
      "source": [
        "sample_1"
      ],
      "metadata": {
        "id": "RQZfelmAmFjp",
        "colab": {
          "base_uri": "https://localhost:8080/"
        },
        "outputId": "7c0be03f-0665-4497-f8ea-986205b21655"
      },
      "execution_count": null,
      "outputs": [
        {
          "output_type": "execute_result",
          "data": {
            "text/plain": [
              "array([ 16,  40,  32, ..., 168, 129,  88])"
            ]
          },
          "metadata": {},
          "execution_count": 134
        }
      ]
    },
    {
      "cell_type": "code",
      "source": [
        "sample_2"
      ],
      "metadata": {
        "id": "zqWSD-xhIXEc",
        "colab": {
          "base_uri": "https://localhost:8080/"
        },
        "outputId": "2386c35d-ab28-461f-b266-8d7e957492aa"
      },
      "execution_count": null,
      "outputs": [
        {
          "output_type": "execute_result",
          "data": {
            "text/plain": [
              "array([  1,  94, 106, ...,  18,  15,   7])"
            ]
          },
          "metadata": {},
          "execution_count": 135
        }
      ]
    },
    {
      "cell_type": "code",
      "source": [
        "sample_3"
      ],
      "metadata": {
        "id": "GaGyj5khIYXf",
        "colab": {
          "base_uri": "https://localhost:8080/"
        },
        "outputId": "c2831470-aca3-451d-8b68-0776185d9565"
      },
      "execution_count": null,
      "outputs": [
        {
          "output_type": "execute_result",
          "data": {
            "text/plain": [
              "array([ 35,  37,   2,   8,  59,  74,  76,   5,   7,   1,  15,  20,  95,\n",
              "        51,  32,  20,  29,  19,  60,  33,  27,  13,   4,   7,   3,   2,\n",
              "         3,  22,  52, 135,  16,   2,   3,   4,   1,   1,   3,  18,  49,\n",
              "       155,   8,   9,   4,   4,  10,  20,  34,  47,  52,  72,  55,  60,\n",
              "        71,   1,  88,  84,  46,  37,  16,   7,   3,   5,  39,   7,  11,\n",
              "        25,  23,  11,  11,   7,   4,   2,  21,  18,   3,   2,   1,   3,\n",
              "        12,  37,  44,  24,  17,  11,  34,  12,  12,  14,  21,  82,  56,\n",
              "        38,  28,  27,   8,   5,  55,   8,   3,   6,   4,   7,  12,  28,\n",
              "        95, 184, 190, 136,  79,  15,   2,   5, 157,  46,  28,  19,  13,\n",
              "         1, 113, 221,  80,  42,  15,  25, 148,  62,  53,  14,   3,  54,\n",
              "       226,  54,  40, 106, 291, 224,   2,   2,   3,   5,  34,  70, 164,\n",
              "        95,  10,  45,  29,  22,  31,  58,  63,  78,  33,  15,  53,  24,\n",
              "       162,  27,   7,   4,   1,   3,   9,  21,  52,  79,  40, 470, 292,\n",
              "       378, 351,   5,  82, 157, 491, 398, 119,  32,  88, 279, 248, 248,\n",
              "       157,  59,  26,  44,  14, 392, 226, 453,  13,   8,   4,   4,  22,\n",
              "        49, 104, 153,   6,   9,   3, 202, 106, 331, 213, 164, 183, 180,\n",
              "        79, 309, 171,  69,  23, 350, 252, 569, 112, 188, 294, 188, 151,\n",
              "        16, 552, 450, 328,  84, 317,  33,   5,   1, 358, 181, 176, 189,\n",
              "        43, 132, 167, 158, 116,  46,  92, 110,  68, 161, 150, 492, 321,\n",
              "        87,  77,   3, 343, 149, 171, 137, 108, 326, 193, 194, 358,  90,\n",
              "        73,  62,   3, 103, 155,  39,  27,  25, 182, 409, 274,  62,  20,\n",
              "         8, 165,  58, 198,  32,  20, 258, 194, 152, 175,  82,  20,   8,\n",
              "         2,   1,  21, 364, 106,  89,  67,  29,  24,  89, 106, 163, 121,\n",
              "        58,   5,   2,   4,  75,  86, 328, 190,  66,  10,  22,  11,  25,\n",
              "        58, 285, 237,  96,  38,  29,  24,  14,   4,   2,  14,  56, 179,\n",
              "       195, 139, 156, 113,  68,  52,  82,  70,  26,  16,   3, 108, 288,\n",
              "       136,  45, 261, 244,  36, 129, 121, 132, 228, 140,  66,  56,  65,\n",
              "        47,  24,  30,   9, 308, 256, 173, 206, 167,  64, 118, 120, 101,\n",
              "       204, 171,  10,   2,   7, 120,  62, 101,  78,  45, 251, 172, 109,\n",
              "        90,  83,  43,  54,  52,  81, 209, 109,  69, 479, 268,  94, 147,\n",
              "       125,  87,  75,   3,   3,  31,  68, 210, 202, 123, 149, 130,  97,\n",
              "       120, 201, 181, 140, 145,  96,  64,  62,  73, 177, 153,   5,  13,\n",
              "       137, 232,  82,  36,  60,  54,  58,  66, 123, 189, 111,  99,  75,\n",
              "        46,  31,  22,  75, 168, 355,  97,   7,  20,  50,  32,  55,  71,\n",
              "        75,  45,  88, 233, 110,  87,  53,   6,   3,   1,   3,  18,  46,\n",
              "        86,  64,  33,  50,  33,  33,  25,  30,  31,  52,  51,  33,  26,\n",
              "         6,  13,  82, 131, 106, 106, 105,  50,  69,  49, 152, 190,  55,\n",
              "        65,  73, 134,  98,  93,  57,  29,  49,   9,   3,   3,   2,   3,\n",
              "         2,  16,  89,   3,  28,  12,   2,  13,  57, 126,  93,  68,  62,\n",
              "        67, 208, 520,   1,  19,  74, 205, 445, 228,  78, 105,  67,  64,\n",
              "        80,  77,  78,  17,   4,  54,  75, 155, 167, 161, 125, 129, 359,\n",
              "        45,  26,   9,   4,   2,   9,  19,  78,  90, 166, 146, 144,  20,\n",
              "        21,  24,   3,  44,  71,  45,  64,  31,  53, 118, 289, 353,  36,\n",
              "        55,  12,  50, 128, 160, 174, 101,  22,  44,  38,  48,  94, 387,\n",
              "       375,  26,  11,   1,  29,   1,   2, 113, 107, 129, 258, 408,  42,\n",
              "        68,  63,  17,   5,   5, 165, 202, 585, 576, 265, 147, 119, 110,\n",
              "        64,  51,  98,  25,  13,  26, 120, 384, 627, 171, 428, 541,  16,\n",
              "        11,  17,  36, 219,  71, 134, 389, 147,  63,   1,   2,   5, 372,\n",
              "        98,  51,  34,  67,  55,  33,  65,  75, 156, 110,  59, 111, 229,\n",
              "       304,  19,   6,   5,   8,  24,  92, 239, 263, 109,  71, 141, 254,\n",
              "       258, 222, 227, 110,  45,  39,  85,  23,  73,  14,   8,   5,   5,\n",
              "        36, 782,   4,  29, 303, 125,  65,  95,  59,  60, 116,  89,  23,\n",
              "        37, 145,  91, 168,  74, 110, 376, 298, 122, 123,  18,   5,   5,\n",
              "         2,  92, 230, 819, 414,  84,  90,   9, 458, 312,  43, 386, 755,\n",
              "       194, 332,  68,  65, 891, 229,   5, 407, 276, 445,   7,  33,  44,\n",
              "       133, 119, 251,  85,  21, 512, 160, 163,  64, 812, 213, 121,  92,\n",
              "        43, 272, 298, 162, 149, 190, 392, 207, 104, 545, 493, 457, 355,\n",
              "       166, 123, 646, 123,  49,  62, 512, 114, 171, 167, 215, 233, 129,\n",
              "        70,  13,   5,   4, 160,  88, 143,  36, 141, 338, 151, 856, 613,\n",
              "       262, 207, 105, 179, 260, 134,  86,  45,  99, 163, 209, 374, 715,\n",
              "       687, 395, 306, 289,  52,  76,  39, 133,  35,  62,  86, 306, 333,\n",
              "       157, 106, 370, 377, 227, 107,  13,   7,   3,   7, 359, 284, 592,\n",
              "       239,  16, 131, 154, 565, 425, 331, 146, 170, 221, 689,  60,  40,\n",
              "        15,  12, 155,   5,  11,   5,  50, 107, 211, 110,  94, 303, 124,\n",
              "       398, 215, 241,   6,  23,  69, 225, 253, 229, 198, 122, 108,  78,\n",
              "        51,  20, 134, 173, 220,  31,   3,  41,  96, 107,   5, 302,  47,\n",
              "       313])"
            ]
          },
          "metadata": {},
          "execution_count": 136
        }
      ]
    },
    {
      "cell_type": "code",
      "source": [
        "sample_4"
      ],
      "metadata": {
        "id": "zewymOG0IaNo",
        "colab": {
          "base_uri": "https://localhost:8080/"
        },
        "outputId": "91451b39-0c1e-4a15-eff1-e98a958864ef"
      },
      "execution_count": null,
      "outputs": [
        {
          "output_type": "execute_result",
          "data": {
            "text/plain": [
              "array([164])"
            ]
          },
          "metadata": {},
          "execution_count": 137
        }
      ]
    },
    {
      "cell_type": "code",
      "source": [
        "from scipy import stats"
      ],
      "metadata": {
        "id": "CL91gsI4Ibqd"
      },
      "execution_count": null,
      "outputs": []
    },
    {
      "cell_type": "code",
      "source": [
        "stats.kruskal(sample_1, sample_2,sample_3,sample_4)"
      ],
      "metadata": {
        "id": "M5kncUvhIojm",
        "colab": {
          "base_uri": "https://localhost:8080/"
        },
        "outputId": "fbe93dc1-b44c-4598-a12d-b30b51467c61"
      },
      "execution_count": null,
      "outputs": [
        {
          "output_type": "execute_result",
          "data": {
            "text/plain": [
              "KruskalResult(statistic=205.00216514479087, pvalue=3.501611300708679e-44)"
            ]
          },
          "metadata": {},
          "execution_count": 139
        }
      ]
    },
    {
      "cell_type": "markdown",
      "source": [
        "**Even the Kruskal wallis test is also failing and hence we have to reject the null hypothesis saying the no.of cycles rented is equal for all the seasons**"
      ],
      "metadata": {
        "id": "RNTi9vouKOb5"
      }
    },
    {
      "cell_type": "markdown",
      "source": [
        "Insights:\n",
        "\n",
        "I did some EDA followed by statistical tests as per mentioned in the problem statement.\n",
        "Basically we are analyzing and quantifying our chances of estimation through statistical tests and there by giving some insights whether there is any effect or not on cycles rent w.r.t any of the independent variable.\n",
        "\n",
        "Through analyzing the data :\n",
        "1. I found that rented cycles count is same on working day or non working day.\n",
        "2. There is difference in renting out cycles w.r.t season\n",
        "3. There is also a difference in renting out cycles w.r.t weather\n",
        "\n",
        "Recommendations:\n",
        "1. So w.r.t season and w.r.t weather the cycles renting is different and through visualization it is observed that the mean cycles rent out during season3 is more compared to other and it is more in weather 1 than others.\n",
        "2. Its better to increase price slightly as there is quite demand and rush during the above hours, they can increase the revenue and at the same time increase the supply of cycles so that they increase the customers.\n",
        "3. Meanwhile reduce the no. of cycles during harsh weathers."
      ],
      "metadata": {
        "id": "ade41PDriP6I"
      }
    },
    {
      "cell_type": "code",
      "source": [],
      "metadata": {
        "id": "HqFE42nuiR4n"
      },
      "execution_count": null,
      "outputs": []
    }
  ]
}